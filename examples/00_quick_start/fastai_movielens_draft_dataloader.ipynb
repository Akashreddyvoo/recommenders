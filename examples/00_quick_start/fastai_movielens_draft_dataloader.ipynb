{
    "cells": [
        {
            "cell_type": "markdown",
            "metadata": {},
            "source": [
                "<i>Copyright (c) Recommenders contributors.</i>\n",
                "\n",
                "<i>Licensed under the MIT License.</i>"
            ]
        },
        {
            "cell_type": "markdown",
            "metadata": {},
            "source": [
                "## FastAI Recommender\n",
                "\n",
                "This notebook shows how to use the [FastAI](https://fast.ai) recommender which is using [Pytorch](https://pytorch.org/) under the hood. "
            ]
        },
        {
            "cell_type": "code",
            "execution_count": 122,
            "metadata": {},
            "outputs": [
                {
                    "name": "stdout",
                    "output_type": "stream",
                    "text": [
                        "System version: 3.10.10 (main, Mar 21 2023, 18:45:11) [GCC 11.2.0]\n",
                        "Pandas version: 2.2.3\n",
                        "Fast AI version: 2.8.1\n",
                        "Torch version: 2.6.0+cu124\n",
                        "CUDA Available: False\n",
                        "CuDNN Enabled: True\n"
                    ]
                }
            ],
            "source": [
                "# Suppress all warnings\n",
                "import warnings\n",
                "warnings.filterwarnings(\"ignore\")\n",
                "\n",
                "import os\n",
                "import sys\n",
                "import numpy as np\n",
                "import pandas as pd\n",
                "import torch\n",
                "import fastai\n",
                "from tempfile import TemporaryDirectory\n",
                "\n",
                "from fastai.collab import collab_learner, CollabDataLoaders, load_learner\n",
                "\n",
                "from recommenders.utils.constants import (\n",
                "    DEFAULT_USER_COL as USER, \n",
                "    DEFAULT_ITEM_COL as ITEM, \n",
                "    DEFAULT_RATING_COL as RATING, \n",
                "    DEFAULT_TIMESTAMP_COL as TIMESTAMP, \n",
                "    DEFAULT_PREDICTION_COL as PREDICTION\n",
                ") \n",
                "from recommenders.utils.timer import Timer\n",
                "from recommenders.datasets import movielens\n",
                "from recommenders.datasets.python_splitters import python_stratified_split\n",
                "from recommenders.models.fastai.fastai_utils import cartesian_product, score\n",
                "from recommenders.evaluation.python_evaluation import map, ndcg_at_k, precision_at_k, recall_at_k\n",
                "from recommenders.evaluation.python_evaluation import rmse, mae, rsquared, exp_var\n",
                "from recommenders.utils.notebook_utils import store_metadata\n",
                "\n",
                "print(\"System version: {}\".format(sys.version))\n",
                "print(\"Pandas version: {}\".format(pd.__version__))\n",
                "print(\"Fast AI version: {}\".format(fastai.__version__))\n",
                "print(\"Torch version: {}\".format(torch.__version__))\n",
                "print(\"CUDA Available: {}\".format(torch.cuda.is_available()))\n",
                "print(\"CuDNN Enabled: {}\".format(torch.backends.cudnn.enabled))"
            ]
        },
        {
            "cell_type": "markdown",
            "metadata": {},
            "source": [
                "Defining some constants to refer to the different columns of our dataset."
            ]
        },
        {
            "cell_type": "code",
            "execution_count": 123,
            "metadata": {
                "tags": [
                    "parameters"
                ]
            },
            "outputs": [],
            "source": [
                "# top k items to recommend\n",
                "TOP_K = 10\n",
                "\n",
                "# Select MovieLens data size: 100k, 1m, 10m, or 20m\n",
                "MOVIELENS_DATA_SIZE = '100k'\n",
                "\n",
                "# Model parameters\n",
                "N_FACTORS = 40\n",
                "EPOCHS = 5"
            ]
        },
        {
            "cell_type": "code",
            "execution_count": 124,
            "metadata": {},
            "outputs": [
                {
                    "name": "stderr",
                    "output_type": "stream",
                    "text": [
                        "100%|██████████| 4.81k/4.81k [00:00<00:00, 14.1kKB/s]\n"
                    ]
                },
                {
                    "data": {
                        "text/html": [
                            "<div>\n",
                            "<style scoped>\n",
                            "    .dataframe tbody tr th:only-of-type {\n",
                            "        vertical-align: middle;\n",
                            "    }\n",
                            "\n",
                            "    .dataframe tbody tr th {\n",
                            "        vertical-align: top;\n",
                            "    }\n",
                            "\n",
                            "    .dataframe thead th {\n",
                            "        text-align: right;\n",
                            "    }\n",
                            "</style>\n",
                            "<table border=\"1\" class=\"dataframe\">\n",
                            "  <thead>\n",
                            "    <tr style=\"text-align: right;\">\n",
                            "      <th></th>\n",
                            "      <th>userID</th>\n",
                            "      <th>itemID</th>\n",
                            "      <th>rating</th>\n",
                            "      <th>timestamp</th>\n",
                            "    </tr>\n",
                            "  </thead>\n",
                            "  <tbody>\n",
                            "    <tr>\n",
                            "      <th>0</th>\n",
                            "      <td>196</td>\n",
                            "      <td>242</td>\n",
                            "      <td>3.0</td>\n",
                            "      <td>881250949</td>\n",
                            "    </tr>\n",
                            "    <tr>\n",
                            "      <th>1</th>\n",
                            "      <td>186</td>\n",
                            "      <td>302</td>\n",
                            "      <td>3.0</td>\n",
                            "      <td>891717742</td>\n",
                            "    </tr>\n",
                            "    <tr>\n",
                            "      <th>2</th>\n",
                            "      <td>22</td>\n",
                            "      <td>377</td>\n",
                            "      <td>1.0</td>\n",
                            "      <td>878887116</td>\n",
                            "    </tr>\n",
                            "    <tr>\n",
                            "      <th>3</th>\n",
                            "      <td>244</td>\n",
                            "      <td>51</td>\n",
                            "      <td>2.0</td>\n",
                            "      <td>880606923</td>\n",
                            "    </tr>\n",
                            "    <tr>\n",
                            "      <th>4</th>\n",
                            "      <td>166</td>\n",
                            "      <td>346</td>\n",
                            "      <td>1.0</td>\n",
                            "      <td>886397596</td>\n",
                            "    </tr>\n",
                            "  </tbody>\n",
                            "</table>\n",
                            "</div>"
                        ],
                        "text/plain": [
                            "  userID itemID  rating  timestamp\n",
                            "0    196    242     3.0  881250949\n",
                            "1    186    302     3.0  891717742\n",
                            "2     22    377     1.0  878887116\n",
                            "3    244     51     2.0  880606923\n",
                            "4    166    346     1.0  886397596"
                        ]
                    },
                    "execution_count": 124,
                    "metadata": {},
                    "output_type": "execute_result"
                }
            ],
            "source": [
                "ratings_df = movielens.load_pandas_df(\n",
                "    size=MOVIELENS_DATA_SIZE,\n",
                "    header=[USER,ITEM,RATING,TIMESTAMP]\n",
                ")\n",
                "\n",
                "# make sure the IDs are loaded as strings to better prevent confusion with embedding ids\n",
                "ratings_df[USER] = ratings_df[USER].astype('str')\n",
                "ratings_df[ITEM] = ratings_df[ITEM].astype('str')\n",
                "\n",
                "ratings_df.head()"
            ]
        },
        {
            "cell_type": "code",
            "execution_count": 125,
            "metadata": {},
            "outputs": [],
            "source": [
                "# Split the dataset\n",
                "train_valid_df, test_df = python_stratified_split(\n",
                "    ratings_df, \n",
                "    ratio=0.75, \n",
                "    min_rating=1, \n",
                "    filter_by=\"item\", \n",
                "    col_user=USER, \n",
                "    col_item=ITEM\n",
                ")"
            ]
        },
        {
            "cell_type": "code",
            "execution_count": 126,
            "metadata": {},
            "outputs": [],
            "source": [
                "# Remove \"cold\" users from test set  \n",
                "test_df = test_df[test_df.userID.isin(train_valid_df.userID)]"
            ]
        },
        {
            "cell_type": "markdown",
            "metadata": {},
            "source": [
                "## Training"
            ]
        },
        {
            "cell_type": "code",
            "execution_count": 127,
            "metadata": {},
            "outputs": [],
            "source": [
                "# fix random seeds to make sure our runs are reproducible\n",
                "np.random.seed(101)\n",
                "torch.manual_seed(101)\n",
                "torch.cuda.manual_seed_all(101)"
            ]
        },
        {
            "cell_type": "code",
            "execution_count": 128,
            "metadata": {},
            "outputs": [],
            "source": [
                "with Timer() as preprocess_time:\n",
                "    data = CollabDataLoaders.from_df(train_valid_df, \n",
                "                                     user_name=USER, \n",
                "                                     item_name=ITEM, \n",
                "                                     rating_name=RATING, \n",
                "                                     valid_pct=0)\n"
            ]
        },
        {
            "cell_type": "code",
            "execution_count": 9,
            "metadata": {},
            "outputs": [],
            "source": [
                "#################### DRAFT ###################"
            ]
        },
        {
            "cell_type": "code",
            "execution_count": 136,
            "metadata": {},
            "outputs": [],
            "source": [
                "from torch.utils.data import Dataset, DataLoader\n",
                "import torch\n",
                "import numpy as np\n",
                "import pandas as pd\n",
                "from pathlib import Path\n",
                "import random\n",
                "\n",
                "class CollabDataset(Dataset):\n",
                "    def __init__(self, users, items, ratings):\n",
                "        # Convert to numpy arrays first and ensure correct types\n",
                "        users = np.array(users, dtype=np.int64)\n",
                "        items = np.array(items, dtype=np.int64)\n",
                "        ratings = np.array(ratings, dtype=np.float32)\n",
                "\n",
                "        # Then convert to tensors\n",
                "        self.users = torch.tensor(users, dtype=torch.long)\n",
                "        self.items = torch.tensor(items, dtype=torch.long)\n",
                "        self.ratings = torch.tensor(ratings, dtype=torch.float)\n",
                "        \n",
                "    def __len__(self):\n",
                "        return len(self.ratings)\n",
                "    \n",
                "    def __getitem__(self, idx):\n",
                "        user_item_tensor = torch.stack((self.users[idx], self.items[idx]))\n",
                "        return user_item_tensor, self.ratings[idx]\n",
                "\n",
                "class CollabDataLoaders:\n",
                "    # Add this __init__ method\n",
                "    def __init__(self):\n",
                "        self.classes = {}\n",
                "        \n",
                "    @classmethod\n",
                "    def from_df(cls, ratings, valid_pct=0.2, user_name=None, item_name=None, \n",
                "                rating_name=None, seed=42, batch_size=64, **kwargs):\n",
                "        \"\"\"Create DataLoaders from a pandas DataFrame for collaborative filtering.\"\"\"\n",
                "        # Set random seed\n",
                "        torch.manual_seed(seed)\n",
                "        random.seed(seed)\n",
                "        np.random.seed(seed)\n",
                "\n",
                "        ratings[user_name] = ratings[user_name].astype(str)\n",
                "        ratings[item_name] = ratings[item_name].astype(str)\n",
                "        \n",
                "        # Get column names\n",
                "        user_name = user_name or ratings.columns[0]\n",
                "        item_name = item_name or ratings.columns[1]\n",
                "        rating_name = rating_name or ratings.columns[2]\n",
                "        \n",
                "        # Drop any rows with NaN values\n",
                "        ratings = ratings.dropna(subset=[user_name, item_name, rating_name])\n",
                "        \n",
                "        # Get unique users and items\n",
                "        users = ratings[user_name].unique()\n",
                "        items = ratings[item_name].unique()\n",
                "        \n",
                "        \n",
                "        # Create mapping dictionaries\n",
                "        user2idx = {u: i for i, u in enumerate(users)}\n",
                "        item2idx = {i: idx for idx, i in enumerate(items)} # Changed\n",
                "        \n",
                "        # Convert to indices and handle any remaining NaN values\n",
                "        ratings[user_name] = ratings[user_name].map(user2idx).fillna(-1).astype(np.int64)\n",
                "        ratings[item_name] = ratings[item_name].map(item2idx).fillna(-1).astype(np.int64)\n",
                "        ratings[rating_name] = ratings[rating_name].fillna(0).astype(np.float32)\n",
                "        \n",
                "        # Remove any rows where mapping failed (indices are -1)\n",
                "        ratings = ratings[\n",
                "            (ratings[user_name] >= 0) & \n",
                "            (ratings[item_name] >= 0)\n",
                "        ]\n",
                "        \n",
                "        # Split into train and validation\n",
                "        n = len(ratings)\n",
                "        n_valid = int(n * valid_pct)\n",
                "        indices = list(range(n))\n",
                "        random.shuffle(indices)\n",
                "        train_idx = indices[n_valid:]\n",
                "        valid_idx = indices[:n_valid]\n",
                "        \n",
                "        # Create datasets with explicit type conversion\n",
                "        train_ds = CollabDataset(\n",
                "            ratings.iloc[train_idx][user_name].values,\n",
                "            ratings.iloc[train_idx][item_name].values,\n",
                "            ratings.iloc[train_idx][rating_name].values\n",
                "        )\n",
                "        \n",
                "        valid_ds = CollabDataset(\n",
                "            ratings.iloc[valid_idx][user_name].values,\n",
                "            ratings.iloc[valid_idx][item_name].values,\n",
                "            ratings.iloc[valid_idx][rating_name].values\n",
                "        ) if n_valid > 0 else None\n",
                "        \n",
                "        # Create dataloaders\n",
                "        train_dl = DataLoader(\n",
                "            train_ds, \n",
                "            batch_size=batch_size,\n",
                "            shuffle=True,\n",
                "            **kwargs\n",
                "        )\n",
                "        \n",
                "        valid_dl = DataLoader(\n",
                "            valid_ds,\n",
                "            batch_size=batch_size*2,\n",
                "            shuffle=False,\n",
                "            **kwargs\n",
                "        ) if valid_ds is not None else None\n",
                "        \n",
                "        # Store metadata\n",
                "        #dl = cls(train_dl, valid_dl)\n",
                "        self.train = train_dl\n",
                "        self.valid = valid_dl\n",
                "        self.classes = {\n",
                "            user_name: ['#na#'] + sorted(users.astype(str).tolist(), key=lambda x: int(x) if x.isdigit() else float('inf')),\n",
                "            item_name: ['#na#'] + sorted(items.astype(str).tolist(), key=lambda x: int(x) if x.isdigit() else float('inf'))\n",
                "        }\n",
                "        self.user = user_name\n",
                "        self.item = item_name\n",
                "        self.n_users = len(users)\n",
                "        self.n_items = len(items)\n",
                "        \n",
                "        return self\n",
                "\n",
                "\n",
                "    def show_batch(self, n=5):\n",
                "        \"\"\"Show a batch of data.\"\"\"\n",
                "        print(\"Showing a sample batch:\")\n",
                "        # Get one batch from the training dataloader\n",
                "        # Unpack the two elements from the batch: user_item_batch (tensor of shape [bs, 2]) and ratings_batch (tensor of shape [bs])\n",
                "        for user_item_batch, ratings_batch in self.train:\n",
                "            # Extract users and items from the user_item_batch tensor\n",
                "            users = user_item_batch[:, 0] # Shape [bs]\n",
                "            items = user_item_batch[:, 1] # Shape [bs]\n",
                "\n",
                "            # Now take the first n elements as intended by the original code\n",
                "            users = users[:n].numpy()\n",
                "            items = items[:n].numpy()\n",
                "            ratings = ratings_batch[:n].numpy() # ratings_batch is already the ratings tensor\n",
                "\n",
                "            df = pd.DataFrame({\n",
                "                self.user: [self.classes[self.user][u] for u in users],\n",
                "                self.item: [self.classes[self.item][i] for i in items],\n",
                "                'rating': ratings\n",
                "            })\n",
                "\n",
                "            print(f\"Showing {n} examples from a batch:\")\n",
                "            print(df)  # This line prints the DataFrame\n",
                "            break"
            ]
        },
        {
            "cell_type": "code",
            "execution_count": 137,
            "metadata": {},
            "outputs": [],
            "source": [
                "self = CollabDataLoaders()"
            ]
        },
        {
            "cell_type": "code",
            "execution_count": 138,
            "metadata": {},
            "outputs": [
                {
                    "data": {
                        "text/plain": [
                            "{}"
                        ]
                    },
                    "execution_count": 138,
                    "metadata": {},
                    "output_type": "execute_result"
                }
            ],
            "source": [
                "self.classes"
            ]
        },
        {
            "cell_type": "code",
            "execution_count": 213,
            "metadata": {},
            "outputs": [],
            "source": [
                "ratings = train_valid_df"
            ]
        },
        {
            "cell_type": "code",
            "execution_count": 214,
            "metadata": {},
            "outputs": [],
            "source": [
                "user_name = ratings.columns[0]\n",
                "item_name = ratings.columns[1]\n",
                "rating_name = ratings.columns[2]"
            ]
        },
        {
            "cell_type": "code",
            "execution_count": 215,
            "metadata": {},
            "outputs": [
                {
                    "data": {
                        "text/plain": [
                            "'userID'"
                        ]
                    },
                    "execution_count": 215,
                    "metadata": {},
                    "output_type": "execute_result"
                }
            ],
            "source": [
                "user_name"
            ]
        },
        {
            "cell_type": "code",
            "execution_count": 216,
            "metadata": {},
            "outputs": [],
            "source": [
                "ratings[user_name] = ratings[user_name].astype(str)\n",
                "ratings[item_name] = ratings[item_name].astype(str)"
            ]
        },
        {
            "cell_type": "code",
            "execution_count": 217,
            "metadata": {},
            "outputs": [
                {
                    "data": {
                        "text/plain": [
                            "userID        object\n",
                            "itemID        object\n",
                            "rating       float32\n",
                            "timestamp      int64\n",
                            "dtype: object"
                        ]
                    },
                    "execution_count": 217,
                    "metadata": {},
                    "output_type": "execute_result"
                }
            ],
            "source": [
                "ratings.dtypes"
            ]
        },
        {
            "cell_type": "code",
            "execution_count": 218,
            "metadata": {},
            "outputs": [],
            "source": [
                "# Drop any rows with NaN values\n",
                "ratings = ratings.dropna(subset=[user_name, item_name, rating_name])\n",
                "        "
            ]
        },
        {
            "cell_type": "code",
            "execution_count": 219,
            "metadata": {},
            "outputs": [
                {
                    "data": {
                        "text/plain": [
                            "userID        object\n",
                            "itemID        object\n",
                            "rating       float32\n",
                            "timestamp      int64\n",
                            "dtype: object"
                        ]
                    },
                    "execution_count": 219,
                    "metadata": {},
                    "output_type": "execute_result"
                }
            ],
            "source": [
                "ratings.dtypes"
            ]
        },
        {
            "cell_type": "code",
            "execution_count": 220,
            "metadata": {},
            "outputs": [],
            "source": [
                "# Get unique users and items\n",
                "users = ratings[user_name].unique()\n",
                "items = ratings[item_name].unique()"
            ]
        },
        {
            "cell_type": "code",
            "execution_count": 221,
            "metadata": {},
            "outputs": [
                {
                    "data": {
                        "text/plain": [
                            "array(['0', '1', '2', '3', '4', '5', '6', '7', '8', '9', '10', '11', '12',\n",
                            "       '13', '14', '15', '16', '17', '18', '19', '20', '21', '22', '23',\n",
                            "       '24', '25', '26', '27', '28', '29', '30', '31', '32', '33', '34',\n",
                            "       '35', '36', '37', '38', '39', '40', '41', '42', '43', '44', '45',\n",
                            "       '46', '47', '48', '49', '50', '51', '52', '53', '54', '55', '56',\n",
                            "       '57', '58', '59', '60', '61', '62', '63', '64', '65', '66', '67',\n",
                            "       '68', '69', '70', '71', '72', '73', '74', '75', '76', '77', '78',\n",
                            "       '79', '80', '81', '82', '83', '84', '85', '86', '87', '88', '89',\n",
                            "       '90', '91', '92', '93', '94', '95', '96', '97', '98', '99', '100',\n",
                            "       '101', '102', '103', '104', '105', '106', '107', '108', '109',\n",
                            "       '110', '111', '112', '113', '114', '115', '116', '117', '118',\n",
                            "       '119', '120', '121', '122', '123', '124', '125', '126', '127',\n",
                            "       '128', '129', '130', '131', '132', '133', '134', '135', '136',\n",
                            "       '137', '138', '139', '140', '141', '142', '143', '144', '145',\n",
                            "       '146', '147', '148', '149', '150', '151', '152', '153', '154',\n",
                            "       '155', '156', '157', '158', '159', '160', '161', '162', '163',\n",
                            "       '164', '165', '166', '167', '168', '169', '170', '171', '172',\n",
                            "       '173', '174', '175', '176', '177', '178', '179', '180', '181',\n",
                            "       '182', '183', '184', '185', '186', '187', '188', '189', '190',\n",
                            "       '191', '192', '193', '194', '195', '196', '197', '198', '199',\n",
                            "       '200', '201', '202', '203', '204', '205', '206', '207', '208',\n",
                            "       '209', '210', '211', '212', '213', '214', '215', '216', '217',\n",
                            "       '218', '219', '220', '221', '222', '223', '224', '225', '226',\n",
                            "       '227', '228', '229', '230', '231', '232', '233', '234', '235',\n",
                            "       '236', '237', '238', '239', '240', '241', '242', '243', '244',\n",
                            "       '245', '246', '247', '248', '249', '250', '251', '252', '253',\n",
                            "       '254', '255', '256', '257', '258', '259', '260', '261', '262',\n",
                            "       '263', '264', '265', '266', '267', '268', '269', '270', '271',\n",
                            "       '272', '273', '274', '275', '276', '277', '278', '279', '280',\n",
                            "       '281', '282', '283', '284', '285', '286', '287', '288', '289',\n",
                            "       '290', '291', '292', '293', '294', '295', '296', '297', '298',\n",
                            "       '299', '300', '301', '302', '303', '304', '305', '306', '307',\n",
                            "       '308', '309', '310', '311', '312', '313', '314', '315', '316',\n",
                            "       '317', '318', '319', '320', '321', '322', '323', '324', '325',\n",
                            "       '326', '327', '328', '329', '330', '331', '332', '333', '334',\n",
                            "       '335', '336', '337', '338', '339', '340', '341', '342', '343',\n",
                            "       '344', '345', '346', '347', '348', '349', '350', '351', '352',\n",
                            "       '353', '354', '355', '356', '357', '358', '359', '360', '361',\n",
                            "       '362', '363', '364', '365', '366', '367', '368', '369', '370',\n",
                            "       '371', '372', '373', '374', '375', '376', '377', '378', '379',\n",
                            "       '380', '381', '382', '383', '384', '385', '386', '387', '388',\n",
                            "       '389', '390', '391', '392', '393', '394', '395', '396', '397',\n",
                            "       '398', '399', '400', '401', '402', '403', '404', '405', '406',\n",
                            "       '407', '408', '409', '410', '411', '412', '413', '414', '415',\n",
                            "       '416', '417', '418', '419', '420', '421', '422', '423', '424',\n",
                            "       '425', '426', '427', '428', '429', '430', '431', '432', '433',\n",
                            "       '434', '435', '436', '437', '438', '439', '440', '441', '442',\n",
                            "       '443', '444', '445', '446', '447', '448', '449', '450', '451',\n",
                            "       '452', '453', '454', '455', '456', '457', '458', '459', '460',\n",
                            "       '461', '462', '463', '464', '465', '466', '467', '468', '469',\n",
                            "       '470', '471', '472', '473', '474', '475', '476', '477', '478',\n",
                            "       '479', '480', '481', '482', '483', '484', '485', '486', '487',\n",
                            "       '488', '489', '490', '491', '492', '493', '494', '495', '496',\n",
                            "       '497', '498', '499', '500', '501', '502', '503', '504', '505',\n",
                            "       '506', '507', '508', '509', '510', '511', '512', '513', '514',\n",
                            "       '515', '516', '517', '518', '519', '520', '521', '522', '523',\n",
                            "       '524', '525', '526', '527', '528', '529', '530', '531', '532',\n",
                            "       '533', '534', '535', '536', '537', '538', '539', '540', '541',\n",
                            "       '542', '543', '544', '545', '546', '547', '548', '549', '550',\n",
                            "       '551', '552', '553', '554', '555', '556', '557', '558', '559',\n",
                            "       '560', '561', '562', '563', '564', '565', '566', '567', '568',\n",
                            "       '569', '570', '571', '572', '573', '574', '575', '576', '577',\n",
                            "       '578', '579', '580', '581', '582', '583', '584', '585', '586',\n",
                            "       '587', '588', '589', '590', '591', '592', '593', '594', '595',\n",
                            "       '596', '597', '598', '599', '600', '601', '602', '603', '604',\n",
                            "       '605', '606', '607', '608', '609', '610', '611', '612', '613',\n",
                            "       '614', '615', '616', '617', '618', '619', '620', '621', '622',\n",
                            "       '623', '624', '625', '626', '627', '628', '629', '630', '631',\n",
                            "       '632', '633', '634', '635', '636', '637', '638', '639', '640',\n",
                            "       '641', '642', '643', '644', '645', '646', '647', '648', '649',\n",
                            "       '650', '651', '652', '653', '654', '655', '656', '657', '658',\n",
                            "       '659', '660', '661', '662', '663', '664', '665', '666', '667',\n",
                            "       '668', '669', '670', '671', '672', '673', '674', '675', '676',\n",
                            "       '677', '678', '679', '680', '681', '682', '683', '684', '685',\n",
                            "       '686', '687', '688', '689', '690', '691', '692', '693', '694',\n",
                            "       '695', '696', '697', '698', '699', '700', '701', '702', '703',\n",
                            "       '704', '705', '706', '707', '708', '709', '710', '711', '712',\n",
                            "       '713', '714', '715', '716', '717', '718', '719', '720', '721',\n",
                            "       '722', '723', '724', '725', '726', '727', '728', '729', '730',\n",
                            "       '731', '732', '733', '734', '735', '736', '737', '738', '739',\n",
                            "       '740', '741', '742', '743', '744', '745', '746', '747', '748',\n",
                            "       '749', '750', '751', '752', '753', '754', '755', '756', '757',\n",
                            "       '758', '759', '760', '761', '762', '763', '764', '765', '766',\n",
                            "       '767', '768', '769', '770', '771', '772', '773', '774', '775',\n",
                            "       '776', '777', '778', '779', '780', '781', '782', '783', '784',\n",
                            "       '785', '786', '787', '788', '789', '790', '791', '792', '793',\n",
                            "       '794', '795', '796', '797', '798', '799', '800', '801', '802',\n",
                            "       '803', '804', '805', '806', '807', '808', '809', '810', '811',\n",
                            "       '812', '813', '814', '815', '816', '817', '818', '819', '820',\n",
                            "       '821', '822', '823', '824', '825', '826', '827', '828', '829',\n",
                            "       '830', '831', '832', '833', '834', '835', '836', '837', '838',\n",
                            "       '839', '840', '841', '842', '843', '844', '845', '846', '847',\n",
                            "       '848', '849', '850', '851', '852', '853', '854', '855', '856',\n",
                            "       '857', '858', '859', '860', '861', '862', '863', '864', '865',\n",
                            "       '866', '867', '868', '869', '870', '871', '872', '873', '874',\n",
                            "       '875', '876', '877', '878', '879', '880', '881', '882', '883',\n",
                            "       '884', '885', '886', '887', '888', '889', '890', '891', '892',\n",
                            "       '893', '894', '895', '896', '897', '898', '899', '900', '901',\n",
                            "       '902', '903', '904', '905', '906', '907', '908', '909', '910',\n",
                            "       '911', '912', '913', '914', '915', '916', '917', '918', '919',\n",
                            "       '920', '921', '922', '923', '924', '925', '926', '927', '928',\n",
                            "       '929', '930', '931', '932', '933', '934', '935', '936', '937',\n",
                            "       '938', '939', '940', '941', '942'], dtype=object)"
                        ]
                    },
                    "execution_count": 221,
                    "metadata": {},
                    "output_type": "execute_result"
                }
            ],
            "source": [
                "users"
            ]
        },
        {
            "cell_type": "code",
            "execution_count": 222,
            "metadata": {},
            "outputs": [
                {
                    "data": {
                        "text/plain": [
                            "array(['0', '1', '2', ..., '1679', '1680', '1681'],\n",
                            "      shape=(1682,), dtype=object)"
                        ]
                    },
                    "execution_count": 222,
                    "metadata": {},
                    "output_type": "execute_result"
                }
            ],
            "source": [
                "items"
            ]
        },
        {
            "cell_type": "code",
            "execution_count": 223,
            "metadata": {},
            "outputs": [],
            "source": [
                "# Create mapping dictionaries\n",
                "user2idx = {u: i for i, u in enumerate(users)}"
            ]
        },
        {
            "cell_type": "code",
            "execution_count": 224,
            "metadata": {},
            "outputs": [],
            "source": [
                "item2idx = {i: idx for idx, i in enumerate(items)}"
            ]
        },
        {
            "cell_type": "code",
            "execution_count": 225,
            "metadata": {},
            "outputs": [],
            "source": [
                "ratings[user_name] = ratings[user_name].map(user2idx).fillna(-1).astype(np.int64)"
            ]
        },
        {
            "cell_type": "code",
            "execution_count": 226,
            "metadata": {},
            "outputs": [],
            "source": [
                "ratings[item_name] = ratings[item_name].map(item2idx).fillna(-1).astype(np.int64)"
            ]
        },
        {
            "cell_type": "code",
            "execution_count": 227,
            "metadata": {},
            "outputs": [],
            "source": [
                "ratings[rating_name] = ratings[rating_name].fillna(0).astype(np.float32)"
            ]
        },
        {
            "cell_type": "code",
            "execution_count": 228,
            "metadata": {},
            "outputs": [
                {
                    "data": {
                        "text/html": [
                            "<div>\n",
                            "<style scoped>\n",
                            "    .dataframe tbody tr th:only-of-type {\n",
                            "        vertical-align: middle;\n",
                            "    }\n",
                            "\n",
                            "    .dataframe tbody tr th {\n",
                            "        vertical-align: top;\n",
                            "    }\n",
                            "\n",
                            "    .dataframe thead th {\n",
                            "        text-align: right;\n",
                            "    }\n",
                            "</style>\n",
                            "<table border=\"1\" class=\"dataframe\">\n",
                            "  <thead>\n",
                            "    <tr style=\"text-align: right;\">\n",
                            "      <th></th>\n",
                            "      <th>userID</th>\n",
                            "      <th>itemID</th>\n",
                            "      <th>rating</th>\n",
                            "      <th>timestamp</th>\n",
                            "    </tr>\n",
                            "  </thead>\n",
                            "  <tbody>\n",
                            "    <tr>\n",
                            "      <th>10047</th>\n",
                            "      <td>0</td>\n",
                            "      <td>0</td>\n",
                            "      <td>4.0</td>\n",
                            "      <td>885870323</td>\n",
                            "    </tr>\n",
                            "    <tr>\n",
                            "      <th>44185</th>\n",
                            "      <td>1</td>\n",
                            "      <td>0</td>\n",
                            "      <td>5.0</td>\n",
                            "      <td>889987954</td>\n",
                            "    </tr>\n",
                            "    <tr>\n",
                            "      <th>82784</th>\n",
                            "      <td>2</td>\n",
                            "      <td>0</td>\n",
                            "      <td>4.0</td>\n",
                            "      <td>875501555</td>\n",
                            "    </tr>\n",
                            "    <tr>\n",
                            "      <th>83281</th>\n",
                            "      <td>3</td>\n",
                            "      <td>0</td>\n",
                            "      <td>4.0</td>\n",
                            "      <td>882340657</td>\n",
                            "    </tr>\n",
                            "    <tr>\n",
                            "      <th>69124</th>\n",
                            "      <td>4</td>\n",
                            "      <td>0</td>\n",
                            "      <td>5.0</td>\n",
                            "      <td>877214125</td>\n",
                            "    </tr>\n",
                            "    <tr>\n",
                            "      <th>...</th>\n",
                            "      <td>...</td>\n",
                            "      <td>...</td>\n",
                            "      <td>...</td>\n",
                            "      <td>...</td>\n",
                            "    </tr>\n",
                            "    <tr>\n",
                            "      <th>77891</th>\n",
                            "      <td>279</td>\n",
                            "      <td>1681</td>\n",
                            "      <td>2.0</td>\n",
                            "      <td>882387163</td>\n",
                            "    </tr>\n",
                            "    <tr>\n",
                            "      <th>31448</th>\n",
                            "      <td>142</td>\n",
                            "      <td>1681</td>\n",
                            "      <td>4.0</td>\n",
                            "      <td>889730187</td>\n",
                            "    </tr>\n",
                            "    <tr>\n",
                            "      <th>7847</th>\n",
                            "      <td>238</td>\n",
                            "      <td>1681</td>\n",
                            "      <td>4.0</td>\n",
                            "      <td>892838288</td>\n",
                            "    </tr>\n",
                            "    <tr>\n",
                            "      <th>42623</th>\n",
                            "      <td>678</td>\n",
                            "      <td>1681</td>\n",
                            "      <td>2.0</td>\n",
                            "      <td>883365385</td>\n",
                            "    </tr>\n",
                            "    <tr>\n",
                            "      <th>34637</th>\n",
                            "      <td>63</td>\n",
                            "      <td>1681</td>\n",
                            "      <td>3.0</td>\n",
                            "      <td>880952434</td>\n",
                            "    </tr>\n",
                            "  </tbody>\n",
                            "</table>\n",
                            "<p>75066 rows × 4 columns</p>\n",
                            "</div>"
                        ],
                        "text/plain": [
                            "       userID  itemID  rating  timestamp\n",
                            "10047       0       0     4.0  885870323\n",
                            "44185       1       0     5.0  889987954\n",
                            "82784       2       0     4.0  875501555\n",
                            "83281       3       0     4.0  882340657\n",
                            "69124       4       0     5.0  877214125\n",
                            "...       ...     ...     ...        ...\n",
                            "77891     279    1681     2.0  882387163\n",
                            "31448     142    1681     4.0  889730187\n",
                            "7847      238    1681     4.0  892838288\n",
                            "42623     678    1681     2.0  883365385\n",
                            "34637      63    1681     3.0  880952434\n",
                            "\n",
                            "[75066 rows x 4 columns]"
                        ]
                    },
                    "execution_count": 228,
                    "metadata": {},
                    "output_type": "execute_result"
                }
            ],
            "source": [
                "ratings"
            ]
        },
        {
            "cell_type": "code",
            "execution_count": 229,
            "metadata": {},
            "outputs": [
                {
                    "data": {
                        "text/plain": [
                            "np.int64(0)"
                        ]
                    },
                    "execution_count": 229,
                    "metadata": {},
                    "output_type": "execute_result"
                }
            ],
            "source": [
                "ratings[item_name].iloc[0]"
            ]
        },
        {
            "cell_type": "code",
            "execution_count": 230,
            "metadata": {},
            "outputs": [],
            "source": [
                "# Remove any rows where mapping failed (indices are -1)\n",
                "ratings = ratings[\n",
                "    (ratings[user_name] >= 0) & \n",
                "    (ratings[item_name] >= 0)\n",
                "]"
            ]
        },
        {
            "cell_type": "code",
            "execution_count": 231,
            "metadata": {},
            "outputs": [
                {
                    "data": {
                        "text/html": [
                            "<div>\n",
                            "<style scoped>\n",
                            "    .dataframe tbody tr th:only-of-type {\n",
                            "        vertical-align: middle;\n",
                            "    }\n",
                            "\n",
                            "    .dataframe tbody tr th {\n",
                            "        vertical-align: top;\n",
                            "    }\n",
                            "\n",
                            "    .dataframe thead th {\n",
                            "        text-align: right;\n",
                            "    }\n",
                            "</style>\n",
                            "<table border=\"1\" class=\"dataframe\">\n",
                            "  <thead>\n",
                            "    <tr style=\"text-align: right;\">\n",
                            "      <th></th>\n",
                            "      <th>userID</th>\n",
                            "      <th>itemID</th>\n",
                            "      <th>rating</th>\n",
                            "      <th>timestamp</th>\n",
                            "    </tr>\n",
                            "  </thead>\n",
                            "  <tbody>\n",
                            "    <tr>\n",
                            "      <th>10047</th>\n",
                            "      <td>0</td>\n",
                            "      <td>0</td>\n",
                            "      <td>4.0</td>\n",
                            "      <td>885870323</td>\n",
                            "    </tr>\n",
                            "    <tr>\n",
                            "      <th>44185</th>\n",
                            "      <td>1</td>\n",
                            "      <td>0</td>\n",
                            "      <td>5.0</td>\n",
                            "      <td>889987954</td>\n",
                            "    </tr>\n",
                            "    <tr>\n",
                            "      <th>82784</th>\n",
                            "      <td>2</td>\n",
                            "      <td>0</td>\n",
                            "      <td>4.0</td>\n",
                            "      <td>875501555</td>\n",
                            "    </tr>\n",
                            "    <tr>\n",
                            "      <th>83281</th>\n",
                            "      <td>3</td>\n",
                            "      <td>0</td>\n",
                            "      <td>4.0</td>\n",
                            "      <td>882340657</td>\n",
                            "    </tr>\n",
                            "    <tr>\n",
                            "      <th>69124</th>\n",
                            "      <td>4</td>\n",
                            "      <td>0</td>\n",
                            "      <td>5.0</td>\n",
                            "      <td>877214125</td>\n",
                            "    </tr>\n",
                            "    <tr>\n",
                            "      <th>...</th>\n",
                            "      <td>...</td>\n",
                            "      <td>...</td>\n",
                            "      <td>...</td>\n",
                            "      <td>...</td>\n",
                            "    </tr>\n",
                            "    <tr>\n",
                            "      <th>77891</th>\n",
                            "      <td>279</td>\n",
                            "      <td>1681</td>\n",
                            "      <td>2.0</td>\n",
                            "      <td>882387163</td>\n",
                            "    </tr>\n",
                            "    <tr>\n",
                            "      <th>31448</th>\n",
                            "      <td>142</td>\n",
                            "      <td>1681</td>\n",
                            "      <td>4.0</td>\n",
                            "      <td>889730187</td>\n",
                            "    </tr>\n",
                            "    <tr>\n",
                            "      <th>7847</th>\n",
                            "      <td>238</td>\n",
                            "      <td>1681</td>\n",
                            "      <td>4.0</td>\n",
                            "      <td>892838288</td>\n",
                            "    </tr>\n",
                            "    <tr>\n",
                            "      <th>42623</th>\n",
                            "      <td>678</td>\n",
                            "      <td>1681</td>\n",
                            "      <td>2.0</td>\n",
                            "      <td>883365385</td>\n",
                            "    </tr>\n",
                            "    <tr>\n",
                            "      <th>34637</th>\n",
                            "      <td>63</td>\n",
                            "      <td>1681</td>\n",
                            "      <td>3.0</td>\n",
                            "      <td>880952434</td>\n",
                            "    </tr>\n",
                            "  </tbody>\n",
                            "</table>\n",
                            "<p>75066 rows × 4 columns</p>\n",
                            "</div>"
                        ],
                        "text/plain": [
                            "       userID  itemID  rating  timestamp\n",
                            "10047       0       0     4.0  885870323\n",
                            "44185       1       0     5.0  889987954\n",
                            "82784       2       0     4.0  875501555\n",
                            "83281       3       0     4.0  882340657\n",
                            "69124       4       0     5.0  877214125\n",
                            "...       ...     ...     ...        ...\n",
                            "77891     279    1681     2.0  882387163\n",
                            "31448     142    1681     4.0  889730187\n",
                            "7847      238    1681     4.0  892838288\n",
                            "42623     678    1681     2.0  883365385\n",
                            "34637      63    1681     3.0  880952434\n",
                            "\n",
                            "[75066 rows x 4 columns]"
                        ]
                    },
                    "execution_count": 231,
                    "metadata": {},
                    "output_type": "execute_result"
                }
            ],
            "source": [
                "ratings"
            ]
        },
        {
            "cell_type": "code",
            "execution_count": 250,
            "metadata": {},
            "outputs": [],
            "source": [
                "valid_pct = 0.1"
            ]
        },
        {
            "cell_type": "code",
            "execution_count": 251,
            "metadata": {},
            "outputs": [],
            "source": [
                "        \n",
                "# Split into train and validation\n",
                "n = len(ratings)\n",
                "n_valid = int(n * valid_pct)\n",
                "indices = list(range(n))\n",
                "random.shuffle(indices)\n",
                "train_idx = indices[n_valid:]\n",
                "valid_idx = indices[:n_valid]"
            ]
        },
        {
            "cell_type": "code",
            "execution_count": 244,
            "metadata": {},
            "outputs": [
                {
                    "data": {
                        "text/plain": [
                            "[]"
                        ]
                    },
                    "execution_count": 244,
                    "metadata": {},
                    "output_type": "execute_result"
                }
            ],
            "source": [
                "valid_idx"
            ]
        },
        {
            "cell_type": "code",
            "execution_count": 254,
            "metadata": {},
            "outputs": [],
            "source": [
                "# Create datasets with explicit type conversion\n",
                "train_ds = CollabDataset(\n",
                "    ratings.iloc[train_idx][user_name].values,\n",
                "    ratings.iloc[train_idx][item_name].values,\n",
                "    ratings.iloc[train_idx][rating_name].values\n",
                ")"
            ]
        },
        {
            "cell_type": "code",
            "execution_count": 255,
            "metadata": {},
            "outputs": [
                {
                    "data": {
                        "text/plain": [
                            "array([566, 660, 209, ..., 180, 158, 564], shape=(67560,))"
                        ]
                    },
                    "execution_count": 255,
                    "metadata": {},
                    "output_type": "execute_result"
                }
            ],
            "source": [
                "ratings.iloc[train_idx][user_name].values"
            ]
        },
        {
            "cell_type": "code",
            "execution_count": 256,
            "metadata": {},
            "outputs": [
                {
                    "data": {
                        "text/plain": [
                            "array([529, 283, 355, ..., 286, 621, 444], shape=(7506,))"
                        ]
                    },
                    "execution_count": 256,
                    "metadata": {},
                    "output_type": "execute_result"
                }
            ],
            "source": [
                "ratings.iloc[valid_idx][user_name].values"
            ]
        },
        {
            "cell_type": "code",
            "execution_count": 257,
            "metadata": {},
            "outputs": [],
            "source": [
                "valid_ds = CollabDataset(\n",
                "    ratings.iloc[valid_idx][user_name].values,\n",
                "    ratings.iloc[valid_idx][item_name].values,\n",
                "    ratings.iloc[valid_idx][rating_name].values\n",
                ") if n_valid > 0 else None"
            ]
        },
        {
            "cell_type": "code",
            "execution_count": 258,
            "metadata": {},
            "outputs": [],
            "source": [
                "batch_size = 24"
            ]
        },
        {
            "cell_type": "code",
            "execution_count": 259,
            "metadata": {},
            "outputs": [],
            "source": [
                "kwargs = {}"
            ]
        },
        {
            "cell_type": "code",
            "execution_count": 260,
            "metadata": {},
            "outputs": [],
            "source": [
                "# Create dataloaders\n",
                "train_dl = DataLoader(\n",
                "    train_ds, \n",
                "    batch_size=batch_size,\n",
                "    shuffle=True,\n",
                "    **kwargs\n",
                ")\n",
                "        "
            ]
        },
        {
            "cell_type": "code",
            "execution_count": 210,
            "metadata": {},
            "outputs": [],
            "source": [
                "valid_dl = DataLoader(\n",
                "    valid_ds,\n",
                "    batch_size=batch_size*2,\n",
                "    shuffle=False,\n",
                "    **kwargs\n",
                ") if valid_ds is not None else None"
            ]
        },
        {
            "cell_type": "code",
            "execution_count": 211,
            "metadata": {},
            "outputs": [
                {
                    "data": {
                        "text/plain": [
                            "'itemID'"
                        ]
                    },
                    "execution_count": 211,
                    "metadata": {},
                    "output_type": "execute_result"
                }
            ],
            "source": [
                "ITEM"
            ]
        },
        {
            "cell_type": "code",
            "execution_count": 261,
            "metadata": {},
            "outputs": [
                {
                    "data": {
                        "text/html": [
                            "<div>\n",
                            "<style scoped>\n",
                            "    .dataframe tbody tr th:only-of-type {\n",
                            "        vertical-align: middle;\n",
                            "    }\n",
                            "\n",
                            "    .dataframe tbody tr th {\n",
                            "        vertical-align: top;\n",
                            "    }\n",
                            "\n",
                            "    .dataframe thead th {\n",
                            "        text-align: right;\n",
                            "    }\n",
                            "</style>\n",
                            "<table border=\"1\" class=\"dataframe\">\n",
                            "  <thead>\n",
                            "    <tr style=\"text-align: right;\">\n",
                            "      <th></th>\n",
                            "      <th>userID</th>\n",
                            "      <th>itemID</th>\n",
                            "      <th>rating</th>\n",
                            "      <th>timestamp</th>\n",
                            "    </tr>\n",
                            "  </thead>\n",
                            "  <tbody>\n",
                            "    <tr>\n",
                            "      <th>10047</th>\n",
                            "      <td>0</td>\n",
                            "      <td>0</td>\n",
                            "      <td>4.0</td>\n",
                            "      <td>885870323</td>\n",
                            "    </tr>\n",
                            "    <tr>\n",
                            "      <th>44185</th>\n",
                            "      <td>1</td>\n",
                            "      <td>0</td>\n",
                            "      <td>5.0</td>\n",
                            "      <td>889987954</td>\n",
                            "    </tr>\n",
                            "    <tr>\n",
                            "      <th>82784</th>\n",
                            "      <td>2</td>\n",
                            "      <td>0</td>\n",
                            "      <td>4.0</td>\n",
                            "      <td>875501555</td>\n",
                            "    </tr>\n",
                            "    <tr>\n",
                            "      <th>83281</th>\n",
                            "      <td>3</td>\n",
                            "      <td>0</td>\n",
                            "      <td>4.0</td>\n",
                            "      <td>882340657</td>\n",
                            "    </tr>\n",
                            "    <tr>\n",
                            "      <th>69124</th>\n",
                            "      <td>4</td>\n",
                            "      <td>0</td>\n",
                            "      <td>5.0</td>\n",
                            "      <td>877214125</td>\n",
                            "    </tr>\n",
                            "    <tr>\n",
                            "      <th>...</th>\n",
                            "      <td>...</td>\n",
                            "      <td>...</td>\n",
                            "      <td>...</td>\n",
                            "      <td>...</td>\n",
                            "    </tr>\n",
                            "    <tr>\n",
                            "      <th>77891</th>\n",
                            "      <td>279</td>\n",
                            "      <td>1681</td>\n",
                            "      <td>2.0</td>\n",
                            "      <td>882387163</td>\n",
                            "    </tr>\n",
                            "    <tr>\n",
                            "      <th>31448</th>\n",
                            "      <td>142</td>\n",
                            "      <td>1681</td>\n",
                            "      <td>4.0</td>\n",
                            "      <td>889730187</td>\n",
                            "    </tr>\n",
                            "    <tr>\n",
                            "      <th>7847</th>\n",
                            "      <td>238</td>\n",
                            "      <td>1681</td>\n",
                            "      <td>4.0</td>\n",
                            "      <td>892838288</td>\n",
                            "    </tr>\n",
                            "    <tr>\n",
                            "      <th>42623</th>\n",
                            "      <td>678</td>\n",
                            "      <td>1681</td>\n",
                            "      <td>2.0</td>\n",
                            "      <td>883365385</td>\n",
                            "    </tr>\n",
                            "    <tr>\n",
                            "      <th>34637</th>\n",
                            "      <td>63</td>\n",
                            "      <td>1681</td>\n",
                            "      <td>3.0</td>\n",
                            "      <td>880952434</td>\n",
                            "    </tr>\n",
                            "  </tbody>\n",
                            "</table>\n",
                            "<p>75066 rows × 4 columns</p>\n",
                            "</div>"
                        ],
                        "text/plain": [
                            "      userID itemID  rating  timestamp\n",
                            "10047      0      0     4.0  885870323\n",
                            "44185      1      0     5.0  889987954\n",
                            "82784      2      0     4.0  875501555\n",
                            "83281      3      0     4.0  882340657\n",
                            "69124      4      0     5.0  877214125\n",
                            "...      ...    ...     ...        ...\n",
                            "77891    279   1681     2.0  882387163\n",
                            "31448    142   1681     4.0  889730187\n",
                            "7847     238   1681     4.0  892838288\n",
                            "42623    678   1681     2.0  883365385\n",
                            "34637     63   1681     3.0  880952434\n",
                            "\n",
                            "[75066 rows x 4 columns]"
                        ]
                    },
                    "execution_count": 261,
                    "metadata": {},
                    "output_type": "execute_result"
                }
            ],
            "source": [
                "train_valid_df"
            ]
        },
        {
            "cell_type": "code",
            "execution_count": 262,
            "metadata": {},
            "outputs": [
                {
                    "data": {
                        "text/html": [
                            "<div>\n",
                            "<style scoped>\n",
                            "    .dataframe tbody tr th:only-of-type {\n",
                            "        vertical-align: middle;\n",
                            "    }\n",
                            "\n",
                            "    .dataframe tbody tr th {\n",
                            "        vertical-align: top;\n",
                            "    }\n",
                            "\n",
                            "    .dataframe thead th {\n",
                            "        text-align: right;\n",
                            "    }\n",
                            "</style>\n",
                            "<table border=\"1\" class=\"dataframe\">\n",
                            "  <thead>\n",
                            "    <tr style=\"text-align: right;\">\n",
                            "      <th></th>\n",
                            "      <th>userID</th>\n",
                            "      <th>itemID</th>\n",
                            "      <th>rating</th>\n",
                            "      <th>timestamp</th>\n",
                            "    </tr>\n",
                            "  </thead>\n",
                            "  <tbody>\n",
                            "    <tr>\n",
                            "      <th>10047</th>\n",
                            "      <td>0</td>\n",
                            "      <td>0</td>\n",
                            "      <td>4.0</td>\n",
                            "      <td>885870323</td>\n",
                            "    </tr>\n",
                            "    <tr>\n",
                            "      <th>44185</th>\n",
                            "      <td>1</td>\n",
                            "      <td>0</td>\n",
                            "      <td>5.0</td>\n",
                            "      <td>889987954</td>\n",
                            "    </tr>\n",
                            "    <tr>\n",
                            "      <th>82784</th>\n",
                            "      <td>2</td>\n",
                            "      <td>0</td>\n",
                            "      <td>4.0</td>\n",
                            "      <td>875501555</td>\n",
                            "    </tr>\n",
                            "    <tr>\n",
                            "      <th>83281</th>\n",
                            "      <td>3</td>\n",
                            "      <td>0</td>\n",
                            "      <td>4.0</td>\n",
                            "      <td>882340657</td>\n",
                            "    </tr>\n",
                            "    <tr>\n",
                            "      <th>69124</th>\n",
                            "      <td>4</td>\n",
                            "      <td>0</td>\n",
                            "      <td>5.0</td>\n",
                            "      <td>877214125</td>\n",
                            "    </tr>\n",
                            "    <tr>\n",
                            "      <th>...</th>\n",
                            "      <td>...</td>\n",
                            "      <td>...</td>\n",
                            "      <td>...</td>\n",
                            "      <td>...</td>\n",
                            "    </tr>\n",
                            "    <tr>\n",
                            "      <th>77891</th>\n",
                            "      <td>279</td>\n",
                            "      <td>1681</td>\n",
                            "      <td>2.0</td>\n",
                            "      <td>882387163</td>\n",
                            "    </tr>\n",
                            "    <tr>\n",
                            "      <th>31448</th>\n",
                            "      <td>142</td>\n",
                            "      <td>1681</td>\n",
                            "      <td>4.0</td>\n",
                            "      <td>889730187</td>\n",
                            "    </tr>\n",
                            "    <tr>\n",
                            "      <th>7847</th>\n",
                            "      <td>238</td>\n",
                            "      <td>1681</td>\n",
                            "      <td>4.0</td>\n",
                            "      <td>892838288</td>\n",
                            "    </tr>\n",
                            "    <tr>\n",
                            "      <th>42623</th>\n",
                            "      <td>678</td>\n",
                            "      <td>1681</td>\n",
                            "      <td>2.0</td>\n",
                            "      <td>883365385</td>\n",
                            "    </tr>\n",
                            "    <tr>\n",
                            "      <th>34637</th>\n",
                            "      <td>63</td>\n",
                            "      <td>1681</td>\n",
                            "      <td>3.0</td>\n",
                            "      <td>880952434</td>\n",
                            "    </tr>\n",
                            "  </tbody>\n",
                            "</table>\n",
                            "<p>75066 rows × 4 columns</p>\n",
                            "</div>"
                        ],
                        "text/plain": [
                            "      userID itemID  rating  timestamp\n",
                            "10047      0      0     4.0  885870323\n",
                            "44185      1      0     5.0  889987954\n",
                            "82784      2      0     4.0  875501555\n",
                            "83281      3      0     4.0  882340657\n",
                            "69124      4      0     5.0  877214125\n",
                            "...      ...    ...     ...        ...\n",
                            "77891    279   1681     2.0  882387163\n",
                            "31448    142   1681     4.0  889730187\n",
                            "7847     238   1681     4.0  892838288\n",
                            "42623    678   1681     2.0  883365385\n",
                            "34637     63   1681     3.0  880952434\n",
                            "\n",
                            "[75066 rows x 4 columns]"
                        ]
                    },
                    "execution_count": 262,
                    "metadata": {},
                    "output_type": "execute_result"
                }
            ],
            "source": [
                "train_valid_df"
            ]
        },
        {
            "cell_type": "code",
            "execution_count": 263,
            "metadata": {},
            "outputs": [],
            "source": [
                "data = CollabDataLoaders.from_df(train_valid_df, \n",
                "                                user_name=USER, \n",
                "                                item_name=ITEM, \n",
                "                                rating_name=RATING, \n",
                "                                valid_pct=0)"
            ]
        },
        {
            "cell_type": "code",
            "execution_count": 264,
            "metadata": {},
            "outputs": [
                {
                    "name": "stdout",
                    "output_type": "stream",
                    "text": [
                        "Showing a sample batch:\n",
                        "Showing 5 examples from a batch:\n",
                        "  userID itemID  rating\n",
                        "0    624    769     5.0\n",
                        "1    487    968     5.0\n",
                        "2     58    556     3.0\n",
                        "3    263   1097     1.0\n",
                        "4    641   1477     4.0\n"
                    ]
                }
            ],
            "source": [
                "data.show_batch()"
            ]
        },
        {
            "cell_type": "code",
            "execution_count": 265,
            "metadata": {},
            "outputs": [
                {
                    "data": {
                        "text/plain": [
                            "dict_keys(['userID', 'itemID'])"
                        ]
                    },
                    "execution_count": 265,
                    "metadata": {},
                    "output_type": "execute_result"
                }
            ],
            "source": [
                "data.classes.keys()"
            ]
        },
        {
            "cell_type": "code",
            "execution_count": 266,
            "metadata": {},
            "outputs": [],
            "source": [
                "# Access the dataloaders\n",
                "for user_item, ratings in train_dl:\n",
                "    # Training loop\n",
                "    break"
            ]
        },
        {
            "cell_type": "code",
            "execution_count": 267,
            "metadata": {},
            "outputs": [
                {
                    "data": {
                        "text/plain": [
                            "tensor([3., 3., 2., 3., 5., 4., 5., 2., 5., 2., 5., 3., 4., 3., 4., 5., 3., 4.,\n",
                            "        2., 4., 4., 3., 2., 4.])"
                        ]
                    },
                    "execution_count": 267,
                    "metadata": {},
                    "output_type": "execute_result"
                }
            ],
            "source": [
                "ratings"
            ]
        },
        {
            "cell_type": "code",
            "execution_count": 268,
            "metadata": {},
            "outputs": [
                {
                    "data": {
                        "text/plain": [
                            "tensor([[ 279, 1436],\n",
                            "        [  80,  910],\n",
                            "        [ 618,  577],\n",
                            "        [ 433,   18],\n",
                            "        [ 269,   24],\n",
                            "        [ 289, 1360],\n",
                            "        [ 353, 1163],\n",
                            "        [  21,  259],\n",
                            "        [ 171,  774],\n",
                            "        [ 214, 1214],\n",
                            "        [ 362,  824],\n",
                            "        [ 339, 1229],\n",
                            "        [ 784, 1638],\n",
                            "        [ 418, 1182],\n",
                            "        [ 103, 1438],\n",
                            "        [ 103, 1383],\n",
                            "        [ 406, 1212],\n",
                            "        [ 571, 1048],\n",
                            "        [ 720, 1514],\n",
                            "        [  18, 1649],\n",
                            "        [ 799, 1194],\n",
                            "        [ 423, 1095],\n",
                            "        [ 150,  843],\n",
                            "        [ 213,  534]])"
                        ]
                    },
                    "execution_count": 268,
                    "metadata": {},
                    "output_type": "execute_result"
                }
            ],
            "source": [
                "user_item"
            ]
        },
        {
            "cell_type": "code",
            "execution_count": 269,
            "metadata": {},
            "outputs": [
                {
                    "data": {
                        "text/plain": [
                            "<torch.utils.data.dataloader.DataLoader at 0x7f8a71f56170>"
                        ]
                    },
                    "execution_count": 269,
                    "metadata": {},
                    "output_type": "execute_result"
                }
            ],
            "source": [
                "train_dl"
            ]
        },
        {
            "cell_type": "code",
            "execution_count": 270,
            "metadata": {},
            "outputs": [],
            "source": [
                "users,items = user_item[:,0],user_item[:,1]"
            ]
        },
        {
            "cell_type": "code",
            "execution_count": 271,
            "metadata": {},
            "outputs": [
                {
                    "data": {
                        "text/plain": [
                            "tensor([279,  80, 618, 433, 269, 289, 353,  21, 171, 214, 362, 339, 784, 418,\n",
                            "        103, 103, 406, 571, 720,  18, 799, 423, 150, 213])"
                        ]
                    },
                    "execution_count": 271,
                    "metadata": {},
                    "output_type": "execute_result"
                }
            ],
            "source": [
                "users"
            ]
        },
        {
            "cell_type": "code",
            "execution_count": 272,
            "metadata": {},
            "outputs": [
                {
                    "data": {
                        "text/plain": [
                            "tensor([1436,  910,  577,   18,   24, 1360, 1163,  259,  774, 1214,  824, 1229,\n",
                            "        1638, 1182, 1438, 1383, 1212, 1048, 1514, 1649, 1194, 1095,  843,  534])"
                        ]
                    },
                    "execution_count": 272,
                    "metadata": {},
                    "output_type": "execute_result"
                }
            ],
            "source": [
                "items"
            ]
        },
        {
            "cell_type": "code",
            "execution_count": 273,
            "metadata": {},
            "outputs": [
                {
                    "data": {
                        "text/plain": [
                            "tensor([ 279, 1436])"
                        ]
                    },
                    "execution_count": 273,
                    "metadata": {},
                    "output_type": "execute_result"
                }
            ],
            "source": [
                "user_item[0]"
            ]
        },
        {
            "cell_type": "code",
            "execution_count": 274,
            "metadata": {},
            "outputs": [
                {
                    "data": {
                        "text/plain": [
                            "tensor([ 279, 1436])"
                        ]
                    },
                    "execution_count": 274,
                    "metadata": {},
                    "output_type": "execute_result"
                }
            ],
            "source": [
                "user_item[0]"
            ]
        },
        {
            "cell_type": "code",
            "execution_count": 275,
            "metadata": {},
            "outputs": [
                {
                    "data": {
                        "text/plain": [
                            "tensor(3.)"
                        ]
                    },
                    "execution_count": 275,
                    "metadata": {},
                    "output_type": "execute_result"
                }
            ],
            "source": [
                "ratings[0]"
            ]
        },
        {
            "cell_type": "code",
            "execution_count": 278,
            "metadata": {},
            "outputs": [],
            "source": [
                "data.valid"
            ]
        },
        {
            "cell_type": "code",
            "execution_count": 279,
            "metadata": {},
            "outputs": [],
            "source": [
                "total_users, total_items = data.classes.values()"
            ]
        },
        {
            "cell_type": "code",
            "execution_count": 276,
            "metadata": {},
            "outputs": [
                {
                    "ename": "TypeError",
                    "evalue": "'NoneType' object is not iterable",
                    "output_type": "error",
                    "traceback": [
                        "\u001b[0;31m---------------------------------------------------------------------------\u001b[0m",
                        "\u001b[0;31mTypeError\u001b[0m                                 Traceback (most recent call last)",
                        "Cell \u001b[0;32mIn[276], line 1\u001b[0m\n\u001b[0;32m----> 1\u001b[0m \u001b[38;5;28;01mfor\u001b[39;00m users, items, ratings \u001b[38;5;129;01min\u001b[39;00m data\u001b[38;5;241m.\u001b[39mvalid:\n\u001b[1;32m      2\u001b[0m     \u001b[38;5;66;03m# Validation loop\u001b[39;00m\n\u001b[1;32m      3\u001b[0m     \u001b[38;5;28;01mpass\u001b[39;00m\n",
                        "\u001b[0;31mTypeError\u001b[0m: 'NoneType' object is not iterable"
                    ]
                }
            ],
            "source": [
                "for users, items, ratings in data.valid:\n",
                "    # Validation loop\n",
                "    pass"
            ]
        },
        {
            "cell_type": "code",
            "execution_count": 277,
            "metadata": {},
            "outputs": [
                {
                    "data": {
                        "text/plain": [
                            "tensor([279,  80, 618, 433, 269, 289, 353,  21, 171, 214, 362, 339, 784, 418,\n",
                            "        103, 103, 406, 571, 720,  18, 799, 423, 150, 213])"
                        ]
                    },
                    "execution_count": 277,
                    "metadata": {},
                    "output_type": "execute_result"
                }
            ],
            "source": [
                "users"
            ]
        },
        {
            "cell_type": "code",
            "execution_count": 134,
            "metadata": {},
            "outputs": [
                {
                    "data": {
                        "text/plain": [
                            "tensor([ 268,  875, 1137, 1372,  773,  833,  323,  836, 1043, 1549,  874,  776,\n",
                            "        1097,   55,  925,  244, 1105,  648, 1369, 1031,  799, 1025, 1350,  775])"
                        ]
                    },
                    "execution_count": 134,
                    "metadata": {},
                    "output_type": "execute_result"
                }
            ],
            "source": [
                "items"
            ]
        },
        {
            "cell_type": "code",
            "execution_count": 135,
            "metadata": {},
            "outputs": [
                {
                    "data": {
                        "text/plain": [
                            "tensor([5., 2., 3., 3., 5., 5., 4., 1., 5., 5., 5., 4., 4., 4., 3., 3., 5., 1.,\n",
                            "        2., 2., 4., 3., 4., 4.])"
                        ]
                    },
                    "execution_count": 135,
                    "metadata": {},
                    "output_type": "execute_result"
                }
            ],
            "source": [
                "ratings"
            ]
        },
        {
            "cell_type": "code",
            "execution_count": null,
            "metadata": {},
            "outputs": [],
            "source": [
                "##################"
            ]
        },
        {
            "cell_type": "code",
            "execution_count": 118,
            "metadata": {},
            "outputs": [
                {
                    "name": "stdout",
                    "output_type": "stream",
                    "text": [
                        "Showing a sample batch:\n",
                        "Showing 5 examples from a batch:\n",
                        "  userID itemID  rating\n",
                        "0    152   1150     4.0\n",
                        "1    538   1177     4.0\n",
                        "2    430   1478     3.0\n",
                        "3    235     20     5.0\n",
                        "4    189    881     5.0\n"
                    ]
                }
            ],
            "source": [
                "data.show_batch()"
            ]
        },
        {
            "cell_type": "markdown",
            "metadata": {},
            "source": [
                "Now we will create a `collab_learner` for the data, which by default uses the [EmbeddingDotBias](https://docs.fast.ai/collab.html#EmbeddingDotBias) model. We will be using 40 latent factors. This will create an embedding for the users and the items that will map each of these to 40 floats as can be seen below. Note that the embedding parameters are not predefined, but are learned by the model.\n",
                "\n",
                "Although ratings can only range from 1-5, we are setting the range of possible ratings to a range from 0 to 5.5 -- that will allow the model to predict values around 1 and 5, which improves accuracy. Lastly, we set a value for weight-decay for regularization."
            ]
        },
        {
            "cell_type": "code",
            "execution_count": null,
            "metadata": {},
            "outputs": [
                {
                    "data": {
                        "text/plain": [
                            "EmbeddingDotBias(\n",
                            "  (u_weight): Embedding(944, 40)\n",
                            "  (i_weight): Embedding(1683, 40)\n",
                            "  (u_bias): Embedding(944, 1)\n",
                            "  (i_bias): Embedding(1683, 1)\n",
                            ")"
                        ]
                    },
                    "execution_count": 9,
                    "metadata": {},
                    "output_type": "execute_result"
                }
            ],
            "source": [
                "learn = collab_learner(data, n_factors=N_FACTORS, y_range=[0,5.5], wd=1e-1)\n",
                "learn.model"
            ]
        },
        {
            "cell_type": "markdown",
            "metadata": {},
            "source": [
                "Now train the model for 5 epochs setting the maximal learning rate. The learner will reduce the learning rate with each epoch using cosine annealing."
            ]
        },
        {
            "cell_type": "code",
            "execution_count": 10,
            "metadata": {},
            "outputs": [
                {
                    "data": {
                        "text/html": [
                            "\n",
                            "<style>\n",
                            "    /* Turns off some styling */\n",
                            "    progress {\n",
                            "        /* gets rid of default border in Firefox and Opera. */\n",
                            "        border: none;\n",
                            "        /* Needs to be in here for Safari polyfill so background images work as expected. */\n",
                            "        background-size: auto;\n",
                            "    }\n",
                            "    progress:not([value]), progress:not([value])::-webkit-progress-bar {\n",
                            "        background: repeating-linear-gradient(45deg, #7e7e7e, #7e7e7e 10px, #5c5c5c 10px, #5c5c5c 20px);\n",
                            "    }\n",
                            "    .progress-bar-interrupted, .progress-bar-interrupted::-webkit-progress-bar {\n",
                            "        background: #F44336;\n",
                            "    }\n",
                            "</style>\n"
                        ],
                        "text/plain": [
                            "<IPython.core.display.HTML object>"
                        ]
                    },
                    "metadata": {},
                    "output_type": "display_data"
                },
                {
                    "data": {
                        "text/html": [
                            "\n",
                            "    <div>\n",
                            "      <progress value='0' class='' max='5' style='width:300px; height:20px; vertical-align: middle;'></progress>\n",
                            "      0.00% [0/5 00:00&lt;?]\n",
                            "    </div>\n",
                            "    \n",
                            "<table border=\"1\" class=\"dataframe\">\n",
                            "  <thead>\n",
                            "    <tr style=\"text-align: left;\">\n",
                            "      <th>epoch</th>\n",
                            "      <th>train_loss</th>\n",
                            "      <th>valid_loss</th>\n",
                            "      <th>time</th>\n",
                            "    </tr>\n",
                            "  </thead>\n",
                            "  <tbody>\n",
                            "  </tbody>\n",
                            "</table><p>\n",
                            "\n",
                            "    <div>\n",
                            "      <progress value='4' class='' max='1172' style='width:300px; height:20px; vertical-align: middle;'></progress>\n",
                            "      0.34% [4/1172 00:00&lt;00:32 1.7014]\n",
                            "    </div>\n",
                            "    "
                        ],
                        "text/plain": [
                            "<IPython.core.display.HTML object>"
                        ]
                    },
                    "metadata": {},
                    "output_type": "display_data"
                },
                {
                    "name": "stdout",
                    "output_type": "stream",
                    "text": [
                        "Took 33.9113 seconds for training.\n"
                    ]
                }
            ],
            "source": [
                "with Timer() as train_time:\n",
                "    learn.fit_one_cycle(EPOCHS, lr_max=5e-3)\n",
                "\n",
                "print(\"Took {} seconds for training.\".format(train_time))"
            ]
        },
        {
            "cell_type": "markdown",
            "metadata": {},
            "source": [
                "Save the learner so it can be loaded back later for inferencing / generating recommendations"
            ]
        },
        {
            "cell_type": "code",
            "execution_count": 11,
            "metadata": {},
            "outputs": [],
            "source": [
                "tmp = TemporaryDirectory()\n",
                "model_path = os.path.join(tmp.name, \"movielens_model.pkl\")"
            ]
        },
        {
            "cell_type": "code",
            "execution_count": 12,
            "metadata": {},
            "outputs": [],
            "source": [
                "learn.export(model_path)"
            ]
        },
        {
            "cell_type": "markdown",
            "metadata": {},
            "source": [
                "## Generating Recommendations\n",
                "\n",
                "Load the learner from disk."
            ]
        },
        {
            "cell_type": "code",
            "execution_count": 13,
            "metadata": {},
            "outputs": [],
            "source": [
                "learner = load_learner(model_path)"
            ]
        },
        {
            "cell_type": "markdown",
            "metadata": {},
            "source": [
                "Get all users and items that the model knows"
            ]
        },
        {
            "cell_type": "code",
            "execution_count": 14,
            "metadata": {},
            "outputs": [],
            "source": [
                "total_users, total_items = learner.dls.classes.values()\n",
                "total_items = total_items[1:]\n",
                "total_users = total_users[1:]"
            ]
        },
        {
            "cell_type": "markdown",
            "metadata": {},
            "source": [
                "Get all users from the test set and remove any users that were know in the training set"
            ]
        },
        {
            "cell_type": "code",
            "execution_count": 15,
            "metadata": {},
            "outputs": [],
            "source": [
                "test_users = test_df[USER].unique()\n",
                "test_users = np.intersect1d(test_users, total_users)"
            ]
        },
        {
            "cell_type": "markdown",
            "metadata": {},
            "source": [
                "Build the cartesian product of test set users and all items known to the model"
            ]
        },
        {
            "cell_type": "code",
            "execution_count": 16,
            "metadata": {},
            "outputs": [],
            "source": [
                "users_items = cartesian_product(np.array(test_users),np.array(total_items))\n",
                "users_items = pd.DataFrame(users_items, columns=[USER,ITEM])"
            ]
        },
        {
            "cell_type": "markdown",
            "metadata": {
                "scrolled": false
            },
            "source": [
                "\n",
                "Lastly, remove the user/items combinations that are in the training set -- we don't want to propose a movie that the user has already watched."
            ]
        },
        {
            "cell_type": "code",
            "execution_count": 17,
            "metadata": {
                "scrolled": false
            },
            "outputs": [],
            "source": [
                "training_removed = pd.merge(users_items, train_valid_df.astype(str), on=[USER, ITEM], how='left')\n",
                "training_removed = training_removed[training_removed[RATING].isna()][[USER, ITEM]]"
            ]
        },
        {
            "cell_type": "markdown",
            "metadata": {},
            "source": [
                "### Score the model to find the top K recommendation"
            ]
        },
        {
            "cell_type": "code",
            "execution_count": 18,
            "metadata": {},
            "outputs": [
                {
                    "name": "stdout",
                    "output_type": "stream",
                    "text": [
                        "Took 5.1570 seconds for 1511060 predictions.\n"
                    ]
                }
            ],
            "source": [
                "with Timer() as test_time:\n",
                "    top_k_scores = score(learner, \n",
                "                         test_df=training_removed,\n",
                "                         user_col=USER, \n",
                "                         item_col=ITEM, \n",
                "                         prediction_col=PREDICTION)\n",
                "\n",
                "print(\"Took {} seconds for {} predictions.\".format(test_time, len(training_removed)))"
            ]
        },
        {
            "cell_type": "markdown",
            "metadata": {},
            "source": [
                "Calculate some metrics for our model"
            ]
        },
        {
            "cell_type": "code",
            "execution_count": 19,
            "metadata": {},
            "outputs": [],
            "source": [
                "eval_map = map(test_df, top_k_scores, col_user=USER, col_item=ITEM, \n",
                "               col_rating=RATING, col_prediction=PREDICTION, \n",
                "               relevancy_method=\"top_k\", k=TOP_K)"
            ]
        },
        {
            "cell_type": "code",
            "execution_count": 20,
            "metadata": {},
            "outputs": [],
            "source": [
                "eval_ndcg = ndcg_at_k(test_df, top_k_scores, col_user=USER, col_item=ITEM, \n",
                "                      col_rating=RATING, col_prediction=PREDICTION, \n",
                "                      relevancy_method=\"top_k\", k=TOP_K)"
            ]
        },
        {
            "cell_type": "code",
            "execution_count": 21,
            "metadata": {},
            "outputs": [],
            "source": [
                "eval_precision = precision_at_k(test_df, top_k_scores, col_user=USER, col_item=ITEM, \n",
                "                                col_rating=RATING, col_prediction=PREDICTION, \n",
                "                                relevancy_method=\"top_k\", k=TOP_K)"
            ]
        },
        {
            "cell_type": "code",
            "execution_count": 22,
            "metadata": {},
            "outputs": [],
            "source": [
                "eval_recall = recall_at_k(test_df, top_k_scores, col_user=USER, col_item=ITEM, \n",
                "                          col_rating=RATING, col_prediction=PREDICTION, \n",
                "                          relevancy_method=\"top_k\", k=TOP_K)"
            ]
        },
        {
            "cell_type": "code",
            "execution_count": 23,
            "metadata": {},
            "outputs": [
                {
                    "name": "stdout",
                    "output_type": "stream",
                    "text": [
                        "Model:\t\tLearner\n",
                        "Top K:\t\t10\n",
                        "MAP:\t\t0.024119\n",
                        "NDCG:\t\t0.152808\n",
                        "Precision@K:\t0.139130\n",
                        "Recall@K:\t0.054943\n"
                    ]
                }
            ],
            "source": [
                "print(\"Model:\\t\\t\" + learn.__class__.__name__,\n",
                "      \"Top K:\\t\\t%d\" % TOP_K,\n",
                "      \"MAP:\\t\\t%f\" % eval_map,\n",
                "      \"NDCG:\\t\\t%f\" % eval_ndcg,\n",
                "      \"Precision@K:\\t%f\" % eval_precision,\n",
                "      \"Recall@K:\\t%f\" % eval_recall, sep='\\n')"
            ]
        },
        {
            "cell_type": "markdown",
            "metadata": {},
            "source": [
                "The above numbers are lower than [SAR](../sar_single_node_movielens.ipynb), but expected, since the model is explicitly trying to generalize the users and items to the latent factors. Next look at how well the model predicts how the user would rate the movie. Need to score `test_df` user-items only. "
            ]
        },
        {
            "cell_type": "code",
            "execution_count": 24,
            "metadata": {},
            "outputs": [],
            "source": [
                "scores = score(learner, \n",
                "               test_df=test_df.copy(), \n",
                "               user_col=USER, \n",
                "               item_col=ITEM, \n",
                "               prediction_col=PREDICTION)"
            ]
        },
        {
            "cell_type": "markdown",
            "metadata": {},
            "source": [
                "Now calculate some regression metrics"
            ]
        },
        {
            "cell_type": "code",
            "execution_count": 25,
            "metadata": {},
            "outputs": [
                {
                    "name": "stdout",
                    "output_type": "stream",
                    "text": [
                        "Model:\t\t\tLearner\n",
                        "RMSE:\t\t\t0.904589\n",
                        "MAE:\t\t\t0.715827\n",
                        "Explained variance:\t0.356082\n",
                        "R squared:\t\t0.355173\n"
                    ]
                }
            ],
            "source": [
                "eval_r2 = rsquared(test_df, scores, col_user=USER, col_item=ITEM, col_rating=RATING, col_prediction=PREDICTION)\n",
                "eval_rmse = rmse(test_df, scores, col_user=USER, col_item=ITEM, col_rating=RATING, col_prediction=PREDICTION)\n",
                "eval_mae = mae(test_df, scores, col_user=USER, col_item=ITEM, col_rating=RATING, col_prediction=PREDICTION)\n",
                "eval_exp_var = exp_var(test_df, scores, col_user=USER, col_item=ITEM, col_rating=RATING, col_prediction=PREDICTION)\n",
                "\n",
                "print(\"Model:\\t\\t\\t\" + learn.__class__.__name__,\n",
                "      \"RMSE:\\t\\t\\t%f\" % eval_rmse,\n",
                "      \"MAE:\\t\\t\\t%f\" % eval_mae,\n",
                "      \"Explained variance:\\t%f\" % eval_exp_var,\n",
                "      \"R squared:\\t\\t%f\" % eval_r2, sep='\\n')"
            ]
        },
        {
            "cell_type": "markdown",
            "metadata": {},
            "source": [
                "That RMSE is competitive in comparison with other models."
            ]
        },
        {
            "cell_type": "code",
            "execution_count": 26,
            "metadata": {},
            "outputs": [
                {
                    "data": {
                        "application/notebook_utils.json+json": {
                            "data": 0.024118782738867094,
                            "encoder": "json",
                            "name": "map"
                        }
                    },
                    "metadata": {
                        "notebook_utils": {
                            "data": true,
                            "display": false,
                            "name": "map"
                        }
                    },
                    "output_type": "display_data"
                },
                {
                    "data": {
                        "application/notebook_utils.json+json": {
                            "data": 0.1528081472533914,
                            "encoder": "json",
                            "name": "ndcg"
                        }
                    },
                    "metadata": {
                        "notebook_utils": {
                            "data": true,
                            "display": false,
                            "name": "ndcg"
                        }
                    },
                    "output_type": "display_data"
                },
                {
                    "data": {
                        "application/notebook_utils.json+json": {
                            "data": 0.13913043478260873,
                            "encoder": "json",
                            "name": "precision"
                        }
                    },
                    "metadata": {
                        "notebook_utils": {
                            "data": true,
                            "display": false,
                            "name": "precision"
                        }
                    },
                    "output_type": "display_data"
                },
                {
                    "data": {
                        "application/notebook_utils.json+json": {
                            "data": 0.05494302697544413,
                            "encoder": "json",
                            "name": "recall"
                        }
                    },
                    "metadata": {
                        "notebook_utils": {
                            "data": true,
                            "display": false,
                            "name": "recall"
                        }
                    },
                    "output_type": "display_data"
                },
                {
                    "data": {
                        "application/notebook_utils.json+json": {
                            "data": 0.9045892929999733,
                            "encoder": "json",
                            "name": "rmse"
                        }
                    },
                    "metadata": {
                        "notebook_utils": {
                            "data": true,
                            "display": false,
                            "name": "rmse"
                        }
                    },
                    "output_type": "display_data"
                },
                {
                    "data": {
                        "application/notebook_utils.json+json": {
                            "data": 0.7158267242352735,
                            "encoder": "json",
                            "name": "mae"
                        }
                    },
                    "metadata": {
                        "notebook_utils": {
                            "data": true,
                            "display": false,
                            "name": "mae"
                        }
                    },
                    "output_type": "display_data"
                },
                {
                    "data": {
                        "application/notebook_utils.json+json": {
                            "data": 0.3560824305444269,
                            "encoder": "json",
                            "name": "exp_var"
                        }
                    },
                    "metadata": {
                        "notebook_utils": {
                            "data": true,
                            "display": false,
                            "name": "exp_var"
                        }
                    },
                    "output_type": "display_data"
                },
                {
                    "data": {
                        "application/notebook_utils.json+json": {
                            "data": 0.35517333876960555,
                            "encoder": "json",
                            "name": "rsquared"
                        }
                    },
                    "metadata": {
                        "notebook_utils": {
                            "data": true,
                            "display": false,
                            "name": "rsquared"
                        }
                    },
                    "output_type": "display_data"
                },
                {
                    "data": {
                        "application/notebook_utils.json+json": {
                            "data": 51.52598460000445,
                            "encoder": "json",
                            "name": "train_time"
                        }
                    },
                    "metadata": {
                        "notebook_utils": {
                            "data": true,
                            "display": false,
                            "name": "train_time"
                        }
                    },
                    "output_type": "display_data"
                },
                {
                    "data": {
                        "application/notebook_utils.json+json": {
                            "data": 5.156951100005244,
                            "encoder": "json",
                            "name": "test_time"
                        }
                    },
                    "metadata": {
                        "notebook_utils": {
                            "data": true,
                            "display": false,
                            "name": "test_time"
                        }
                    },
                    "output_type": "display_data"
                }
            ],
            "source": [
                "# Record results for tests - ignore this cell\n",
                "store_metadata(\"map\", eval_map)\n",
                "store_metadata(\"ndcg\", eval_ndcg)\n",
                "store_metadata(\"precision\", eval_precision)\n",
                "store_metadata(\"recall\", eval_recall)\n",
                "store_metadata(\"rmse\", eval_rmse)\n",
                "store_metadata(\"mae\", eval_mae)\n",
                "store_metadata(\"exp_var\", eval_exp_var)\n",
                "store_metadata(\"rsquared\", eval_r2)\n",
                "store_metadata(\"train_time\", train_time.interval)\n",
                "store_metadata(\"test_time\", test_time.interval)"
            ]
        },
        {
            "cell_type": "code",
            "execution_count": 27,
            "metadata": {},
            "outputs": [],
            "source": [
                "tmp.cleanup()"
            ]
        },
        {
            "cell_type": "raw",
            "metadata": {},
            "source": []
        }
    ],
    "metadata": {
        "celltoolbar": "Tags",
        "kernelspec": {
            "display_name": "recommenders",
            "language": "python",
            "name": "python3"
        },
        "language_info": {
            "codemirror_mode": {
                "name": "ipython",
                "version": 3
            },
            "file_extension": ".py",
            "mimetype": "text/x-python",
            "name": "python",
            "nbconvert_exporter": "python",
            "pygments_lexer": "ipython3",
            "version": "3.9.16"
        }
    },
    "nbformat": 4,
    "nbformat_minor": 2
}
