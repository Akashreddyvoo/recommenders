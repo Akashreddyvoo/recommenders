{
    "cells": [
        {
            "cell_type": "markdown",
            "metadata": {},
            "source": [
                "<i>Copyright (c) Recommenders contributors.</i>\n",
                "\n",
                "<i>Licensed under the MIT License.</i>"
            ]
        },
        {
            "cell_type": "markdown",
            "metadata": {},
            "source": [
                "## FastAI Recommender\n",
                "\n",
                "This notebook shows how to use the [FastAI](https://fast.ai) recommender which is using [Pytorch](https://pytorch.org/) under the hood. "
            ]
        },
        {
            "cell_type": "code",
            "execution_count": 2,
            "metadata": {},
            "outputs": [
                {
                    "name": "stdout",
                    "output_type": "stream",
                    "text": [
                        "System version: 3.10.10 (main, Mar 21 2023, 18:45:11) [GCC 11.2.0]\n",
                        "Pandas version: 2.2.3\n",
                        "Fast AI version: 2.8.1\n",
                        "Torch version: 2.6.0+cu124\n",
                        "CUDA Available: False\n",
                        "CuDNN Enabled: True\n"
                    ]
                }
            ],
            "source": [
                "# Suppress all warnings\n",
                "import warnings\n",
                "warnings.filterwarnings(\"ignore\")\n",
                "\n",
                "import os\n",
                "import sys\n",
                "import numpy as np\n",
                "import pandas as pd\n",
                "import torch\n",
                "import fastai\n",
                "from tempfile import TemporaryDirectory\n",
                "\n",
                "from fastai.collab import collab_learner, CollabDataLoaders, load_learner\n",
                "\n",
                "from recommenders.utils.constants import (\n",
                "    DEFAULT_USER_COL as USER, \n",
                "    DEFAULT_ITEM_COL as ITEM, \n",
                "    DEFAULT_RATING_COL as RATING, \n",
                "    DEFAULT_TIMESTAMP_COL as TIMESTAMP, \n",
                "    DEFAULT_PREDICTION_COL as PREDICTION\n",
                ") \n",
                "from recommenders.utils.timer import Timer\n",
                "from recommenders.datasets import movielens\n",
                "from recommenders.datasets.python_splitters import python_stratified_split\n",
                "from recommenders.models.fastai.fastai_utils import cartesian_product, score\n",
                "from recommenders.evaluation.python_evaluation import map, ndcg_at_k, precision_at_k, recall_at_k\n",
                "from recommenders.evaluation.python_evaluation import rmse, mae, rsquared, exp_var\n",
                "from recommenders.utils.notebook_utils import store_metadata\n",
                "\n",
                "print(\"System version: {}\".format(sys.version))\n",
                "print(\"Pandas version: {}\".format(pd.__version__))\n",
                "print(\"Fast AI version: {}\".format(fastai.__version__))\n",
                "print(\"Torch version: {}\".format(torch.__version__))\n",
                "print(\"CUDA Available: {}\".format(torch.cuda.is_available()))\n",
                "print(\"CuDNN Enabled: {}\".format(torch.backends.cudnn.enabled))"
            ]
        },
        {
            "cell_type": "markdown",
            "metadata": {},
            "source": [
                "Defining some constants to refer to the different columns of our dataset."
            ]
        },
        {
            "cell_type": "code",
            "execution_count": 3,
            "metadata": {
                "tags": [
                    "parameters"
                ]
            },
            "outputs": [],
            "source": [
                "# top k items to recommend\n",
                "TOP_K = 10\n",
                "\n",
                "# Select MovieLens data size: 100k, 1m, 10m, or 20m\n",
                "MOVIELENS_DATA_SIZE = '100k'\n",
                "\n",
                "# Model parameters\n",
                "N_FACTORS = 40\n",
                "EPOCHS = 5"
            ]
        },
        {
            "cell_type": "code",
            "execution_count": 4,
            "metadata": {},
            "outputs": [
                {
                    "name": "stderr",
                    "output_type": "stream",
                    "text": [
                        "100%|██████████| 4.81k/4.81k [00:00<00:00, 15.6kKB/s]\n"
                    ]
                },
                {
                    "data": {
                        "text/html": [
                            "<div>\n",
                            "<style scoped>\n",
                            "    .dataframe tbody tr th:only-of-type {\n",
                            "        vertical-align: middle;\n",
                            "    }\n",
                            "\n",
                            "    .dataframe tbody tr th {\n",
                            "        vertical-align: top;\n",
                            "    }\n",
                            "\n",
                            "    .dataframe thead th {\n",
                            "        text-align: right;\n",
                            "    }\n",
                            "</style>\n",
                            "<table border=\"1\" class=\"dataframe\">\n",
                            "  <thead>\n",
                            "    <tr style=\"text-align: right;\">\n",
                            "      <th></th>\n",
                            "      <th>userID</th>\n",
                            "      <th>itemID</th>\n",
                            "      <th>rating</th>\n",
                            "      <th>timestamp</th>\n",
                            "    </tr>\n",
                            "  </thead>\n",
                            "  <tbody>\n",
                            "    <tr>\n",
                            "      <th>0</th>\n",
                            "      <td>196</td>\n",
                            "      <td>242</td>\n",
                            "      <td>3.0</td>\n",
                            "      <td>881250949</td>\n",
                            "    </tr>\n",
                            "    <tr>\n",
                            "      <th>1</th>\n",
                            "      <td>186</td>\n",
                            "      <td>302</td>\n",
                            "      <td>3.0</td>\n",
                            "      <td>891717742</td>\n",
                            "    </tr>\n",
                            "    <tr>\n",
                            "      <th>2</th>\n",
                            "      <td>22</td>\n",
                            "      <td>377</td>\n",
                            "      <td>1.0</td>\n",
                            "      <td>878887116</td>\n",
                            "    </tr>\n",
                            "    <tr>\n",
                            "      <th>3</th>\n",
                            "      <td>244</td>\n",
                            "      <td>51</td>\n",
                            "      <td>2.0</td>\n",
                            "      <td>880606923</td>\n",
                            "    </tr>\n",
                            "    <tr>\n",
                            "      <th>4</th>\n",
                            "      <td>166</td>\n",
                            "      <td>346</td>\n",
                            "      <td>1.0</td>\n",
                            "      <td>886397596</td>\n",
                            "    </tr>\n",
                            "  </tbody>\n",
                            "</table>\n",
                            "</div>"
                        ],
                        "text/plain": [
                            "  userID itemID  rating  timestamp\n",
                            "0    196    242     3.0  881250949\n",
                            "1    186    302     3.0  891717742\n",
                            "2     22    377     1.0  878887116\n",
                            "3    244     51     2.0  880606923\n",
                            "4    166    346     1.0  886397596"
                        ]
                    },
                    "execution_count": 4,
                    "metadata": {},
                    "output_type": "execute_result"
                }
            ],
            "source": [
                "ratings_df = movielens.load_pandas_df(\n",
                "    size=MOVIELENS_DATA_SIZE,\n",
                "    header=[USER,ITEM,RATING,TIMESTAMP]\n",
                ")\n",
                "\n",
                "# make sure the IDs are loaded as strings to better prevent confusion with embedding ids\n",
                "ratings_df[USER] = ratings_df[USER].astype('str')\n",
                "ratings_df[ITEM] = ratings_df[ITEM].astype('str')\n",
                "\n",
                "ratings_df.head()"
            ]
        },
        {
            "cell_type": "code",
            "execution_count": 5,
            "metadata": {},
            "outputs": [],
            "source": [
                "# Split the dataset\n",
                "train_valid_df, test_df = python_stratified_split(\n",
                "    ratings_df, \n",
                "    ratio=0.75, \n",
                "    min_rating=1, \n",
                "    filter_by=\"item\", \n",
                "    col_user=USER, \n",
                "    col_item=ITEM\n",
                ")"
            ]
        },
        {
            "cell_type": "code",
            "execution_count": 6,
            "metadata": {},
            "outputs": [],
            "source": [
                "# Remove \"cold\" users from test set  \n",
                "test_df = test_df[test_df.userID.isin(train_valid_df.userID)]"
            ]
        },
        {
            "cell_type": "markdown",
            "metadata": {},
            "source": [
                "## Training"
            ]
        },
        {
            "cell_type": "code",
            "execution_count": 7,
            "metadata": {},
            "outputs": [],
            "source": [
                "# fix random seeds to make sure our runs are reproducible\n",
                "np.random.seed(101)\n",
                "torch.manual_seed(101)\n",
                "torch.cuda.manual_seed_all(101)"
            ]
        },
        {
            "cell_type": "code",
            "execution_count": 8,
            "metadata": {},
            "outputs": [],
            "source": [
                "with Timer() as preprocess_time:\n",
                "    data = CollabDataLoaders.from_df(train_valid_df, \n",
                "                                     user_name=USER, \n",
                "                                     item_name=ITEM, \n",
                "                                     rating_name=RATING, \n",
                "                                     valid_pct=0)\n"
            ]
        },
        {
            "cell_type": "code",
            "execution_count": 9,
            "metadata": {},
            "outputs": [],
            "source": [
                "#################### DRAFT ###################"
            ]
        },
        {
            "cell_type": "code",
            "execution_count": 74,
            "metadata": {},
            "outputs": [],
            "source": [
                "from torch.utils.data import Dataset, DataLoader\n",
                "import torch\n",
                "import numpy as np\n",
                "import pandas as pd\n",
                "from pathlib import Path\n",
                "import random\n",
                "\n",
                "class CollabDataset(Dataset):\n",
                "    def __init__(self, users, items, ratings):\n",
                "        # Convert to numpy arrays first and ensure correct types\n",
                "        users = np.array(users, dtype=np.int64)\n",
                "        items = np.array(items, dtype=np.int64)\n",
                "        ratings = np.array(ratings, dtype=np.float32)\n",
                "\n",
                "        # Then convert to tensors\n",
                "        self.users = torch.tensor(users, dtype=torch.long)\n",
                "        self.items = torch.tensor(items, dtype=torch.long)\n",
                "        self.ratings = torch.tensor(ratings, dtype=torch.float)\n",
                "        \n",
                "    def __len__(self):\n",
                "        return len(self.ratings)\n",
                "    \n",
                "    def __getitem__(self, idx):\n",
                "        user_item_tensor = torch.stack((self.users[idx], self.items[idx]))\n",
                "        return user_item_tensor, self.ratings[idx]\n",
                "\n",
                "class CollabDataLoaders:\n",
                "    # Add this __init__ method\n",
                "    def __init__(self):\n",
                "        self.classes = {}\n",
                "        \n",
                "    @classmethod\n",
                "    def from_df(cls, ratings, valid_pct=0.2, user_name=None, item_name=None, \n",
                "                rating_name=None, seed=42, batch_size=64, **kwargs):\n",
                "        \"\"\"Create DataLoaders from a pandas DataFrame for collaborative filtering.\"\"\"\n",
                "        # Set random seed\n",
                "        torch.manual_seed(seed)\n",
                "        random.seed(seed)\n",
                "        np.random.seed(seed)\n",
                "\n",
                "        ratings[user_name] = ratings[user_name].astype(str)\n",
                "        ratings[item_name] = ratings[item_name].astype(str)\n",
                "        \n",
                "        # Get column names\n",
                "        user_name = user_name or ratings.columns[0]\n",
                "        item_name = item_name or ratings.columns[1]\n",
                "        rating_name = rating_name or ratings.columns[2]\n",
                "        \n",
                "        # Drop any rows with NaN values\n",
                "        ratings = ratings.dropna(subset=[user_name, item_name, rating_name])\n",
                "        \n",
                "        # Get unique users and items\n",
                "        users = ratings[user_name].unique()\n",
                "        items = ratings[item_name].unique()\n",
                "        \n",
                "        \n",
                "        # Create mapping dictionaries\n",
                "        user2idx = {u: i for i, u in enumerate(users)}\n",
                "        item2idx = {i: idx for idx, i in enumerate(items)} # Changed\n",
                "        \n",
                "        # Convert to indices and handle any remaining NaN values\n",
                "        ratings[user_name] = ratings[user_name].map(user2idx).fillna(-1).astype(np.int64)\n",
                "        ratings[item_name] = ratings[item_name].map(item2idx).fillna(-1).astype(np.int64)\n",
                "        ratings[rating_name] = ratings[rating_name].fillna(0).astype(np.float32)\n",
                "        \n",
                "        # Remove any rows where mapping failed (indices are -1)\n",
                "        ratings = ratings[\n",
                "            (ratings[user_name] >= 0) & \n",
                "            (ratings[item_name] >= 0)\n",
                "        ]\n",
                "        \n",
                "        # Split into train and validation\n",
                "        n = len(ratings)\n",
                "        n_valid = int(n * valid_pct)\n",
                "        indices = list(range(n))\n",
                "        random.shuffle(indices)\n",
                "        train_idx = indices[n_valid:]\n",
                "        valid_idx = indices[:n_valid]\n",
                "        \n",
                "        # Create datasets with explicit type conversion\n",
                "        train_ds = CollabDataset(\n",
                "            ratings.iloc[train_idx][user_name].values,\n",
                "            ratings.iloc[train_idx][item_name].values,\n",
                "            ratings.iloc[train_idx][rating_name].values\n",
                "        )\n",
                "        \n",
                "        valid_ds = CollabDataset(\n",
                "            ratings.iloc[valid_idx][user_name].values,\n",
                "            ratings.iloc[valid_idx][item_name].values,\n",
                "            ratings.iloc[valid_idx][rating_name].values\n",
                "        ) if n_valid > 0 else None\n",
                "        \n",
                "        # Create dataloaders\n",
                "        train_dl = DataLoader(\n",
                "            train_ds, \n",
                "            batch_size=batch_size,\n",
                "            shuffle=True,\n",
                "            **kwargs\n",
                "        )\n",
                "        \n",
                "        valid_dl = DataLoader(\n",
                "            valid_ds,\n",
                "            batch_size=batch_size*2,\n",
                "            shuffle=False,\n",
                "            **kwargs\n",
                "        ) if valid_ds is not None else None\n",
                "        \n",
                "        # Store metadata\n",
                "        #dl = cls(train_dl, valid_dl)\n",
                "        self.train = train_dl\n",
                "        self.valid = valid_dl\n",
                "        self.classes = {\n",
                "            user_name: ['#na#'] + sorted(users.astype(str).tolist(), key=lambda x: int(x) if x.isdigit() else float('inf')),\n",
                "            item_name: ['#na#'] + sorted(items.astype(str).tolist(), key=lambda x: int(x) if x.isdigit() else float('inf'))\n",
                "        }\n",
                "        self.user = user_name\n",
                "        self.item = item_name\n",
                "        self.n_users = len(users)\n",
                "        self.n_items = len(items)\n",
                "        \n",
                "        return self\n",
                "\n",
                "\n",
                "    def show_batch(self, n=5):\n",
                "        \"\"\"Show a batch of data.\"\"\"\n",
                "        print(\"Showing a sample batch:\")\n",
                "        # Get one batch from the training dataloader\n",
                "        # Unpack the two elements from the batch: user_item_batch (tensor of shape [bs, 2]) and ratings_batch (tensor of shape [bs])\n",
                "        for user_item_batch, ratings_batch in self.train:\n",
                "            # Extract users and items from the user_item_batch tensor\n",
                "            users = user_item_batch[:, 0] # Shape [bs]\n",
                "            items = user_item_batch[:, 1] # Shape [bs]\n",
                "\n",
                "            # Now take the first n elements as intended by the original code\n",
                "            users = users[:n].numpy()\n",
                "            items = items[:n].numpy()\n",
                "            ratings = ratings_batch[:n].numpy() # ratings_batch is already the ratings tensor\n",
                "\n",
                "            df = pd.DataFrame({\n",
                "                self.user: [self.classes[self.user][u] for u in users],\n",
                "                self.item: [self.classes[self.item][i] for i in items],\n",
                "                'rating': ratings\n",
                "            })\n",
                "\n",
                "            print(f\"Showing {n} examples from a batch:\")\n",
                "            print(df)  # This line prints the DataFrame\n",
                "            break"
            ]
        },
        {
            "cell_type": "code",
            "execution_count": 75,
            "metadata": {},
            "outputs": [],
            "source": [
                "self = CollabDataLoaders()"
            ]
        },
        {
            "cell_type": "code",
            "execution_count": 76,
            "metadata": {},
            "outputs": [
                {
                    "data": {
                        "text/plain": [
                            "{}"
                        ]
                    },
                    "execution_count": 76,
                    "metadata": {},
                    "output_type": "execute_result"
                }
            ],
            "source": [
                "self.classes"
            ]
        },
        {
            "cell_type": "code",
            "execution_count": 77,
            "metadata": {},
            "outputs": [],
            "source": [
                "ratings = train_valid_df"
            ]
        },
        {
            "cell_type": "code",
            "execution_count": 78,
            "metadata": {},
            "outputs": [],
            "source": [
                "user_name = ratings.columns[0]\n",
                "item_name = ratings.columns[1]\n",
                "rating_name = ratings.columns[2]"
            ]
        },
        {
            "cell_type": "code",
            "execution_count": 79,
            "metadata": {},
            "outputs": [
                {
                    "data": {
                        "text/plain": [
                            "'userID'"
                        ]
                    },
                    "execution_count": 79,
                    "metadata": {},
                    "output_type": "execute_result"
                }
            ],
            "source": [
                "user_name"
            ]
        },
        {
            "cell_type": "code",
            "execution_count": 80,
            "metadata": {},
            "outputs": [],
            "source": [
                "ratings[user_name] = ratings[user_name].astype(str)\n",
                "ratings[item_name] = ratings[item_name].astype(str)"
            ]
        },
        {
            "cell_type": "code",
            "execution_count": 81,
            "metadata": {},
            "outputs": [
                {
                    "data": {
                        "text/plain": [
                            "userID        object\n",
                            "itemID        object\n",
                            "rating       float64\n",
                            "timestamp      int64\n",
                            "dtype: object"
                        ]
                    },
                    "execution_count": 81,
                    "metadata": {},
                    "output_type": "execute_result"
                }
            ],
            "source": [
                "ratings.dtypes"
            ]
        },
        {
            "cell_type": "code",
            "execution_count": 82,
            "metadata": {},
            "outputs": [],
            "source": [
                "# Drop any rows with NaN values\n",
                "ratings = ratings.dropna(subset=[user_name, item_name, rating_name])\n",
                "        "
            ]
        },
        {
            "cell_type": "code",
            "execution_count": 83,
            "metadata": {},
            "outputs": [
                {
                    "data": {
                        "text/plain": [
                            "userID        object\n",
                            "itemID        object\n",
                            "rating       float64\n",
                            "timestamp      int64\n",
                            "dtype: object"
                        ]
                    },
                    "execution_count": 83,
                    "metadata": {},
                    "output_type": "execute_result"
                }
            ],
            "source": [
                "ratings.dtypes"
            ]
        },
        {
            "cell_type": "code",
            "execution_count": 84,
            "metadata": {},
            "outputs": [],
            "source": [
                "# Get unique users and items\n",
                "users = ratings[user_name].unique()\n",
                "items = ratings[item_name].unique()"
            ]
        },
        {
            "cell_type": "code",
            "execution_count": 85,
            "metadata": {},
            "outputs": [
                {
                    "data": {
                        "text/plain": [
                            "array(['94', '620', '779', '399', '864', '684', '569', '929', '256',\n",
                            "       '655', '636', '523', '553', '312', '788', '593', '697', '660',\n",
                            "       '298', '148', '632', '682', '75', '313', '231', '275', '771', '65',\n",
                            "       '831', '56', '168', '494', '138', '917', '144', '764', '338',\n",
                            "       '336', '526', '749', '425', '597', '407', '614', '881', '95', '82',\n",
                            "       '457', '223', '1', '287', '178', '726', '401', '483', '661', '17',\n",
                            "       '470', '677', '232', '478', '680', '579', '417', '44', '582',\n",
                            "       '665', '542', '204', '435', '222', '892', '517', '767', '131',\n",
                            "       '62', '847', '932', '815', '343', '567', '763', '23', '786', '699',\n",
                            "       '348', '303', '518', '254', '918', '130', '277', '757', '325',\n",
                            "       '658', '73', '124', '773', '359', '488', '43', '514', '534', '901',\n",
                            "       '467', '733', '823', '490', '899', '244', '561', '96', '357',\n",
                            "       '795', '821', '605', '292', '331', '669', '416', '533', '248',\n",
                            "       '274', '536', '903', '441', '199', '804', '243', '751', '432',\n",
                            "       '508', '512', '395', '93', '250', '398', '679', '182', '500',\n",
                            "       '203', '746', '393', '120', '230', '314', '193', '705', '381',\n",
                            "       '235', '630', '72', '535', '708', '935', '380', '276', '826',\n",
                            "       '894', '396', '890', '324', '730', '326', '552', '347', '412',\n",
                            "       '16', '709', '790', '59', '54', '691', '424', '872', '26', '829',\n",
                            "       '919', '63', '910', '839', '602', '576', '279', '805', '479',\n",
                            "       '889', '592', '748', '450', '822', '800', '340', '698', '609',\n",
                            "       '886', '102', '64', '157', '922', '852', '291', '345', '67', '322',\n",
                            "       '532', '747', '612', '58', '768', '701', '806', '89', '706', '456',\n",
                            "       '406', '308', '703', '867', '770', '606', '249', '610', '548',\n",
                            "       '807', '145', '242', '305', '371', '128', '402', '484', '830',\n",
                            "       '363', '744', '289', '793', '880', '125', '796', '653', '194',\n",
                            "       '643', '870', '835', '106', '49', '756', '297', '721', '296',\n",
                            "       '798', '690', '714', '657', '789', '624', '455', '622', '25',\n",
                            "       '731', '251', '294', '792', '290', '247', '189', '99', '213',\n",
                            "       '642', '637', '678', '879', '181', '422', '634', '21', '525',\n",
                            "       '924', '429', '158', '252', '883', '92', '360', '320', '70', '10',\n",
                            "       '936', '378', '785', '902', '134', '286', '403', '268', '445',\n",
                            "       '301', '117', '388', '541', '769', '493', '101', '162', '897',\n",
                            "       '794', '198', '613', '97', '497', '332', '923', '907', '588',\n",
                            "       '216', '271', '209', '759', '394', '447', '927', '650', '202',\n",
                            "       '307', '151', '635', '2', '108', '109', '121', '580', '599', '495',\n",
                            "       '379', '201', '299', '921', '723', '328', '85', '711', '828',\n",
                            "       '498', '851', '707', '585', '765', '234', '387', '573', '496',\n",
                            "       '537', '334', '7', '327', '473', '662', '469', '430', '861', '90',\n",
                            "       '503', '745', '354', '349', '239', '376', '676', '629', '940',\n",
                            "       '76', '214', '884', '423', '69', '14', '221', '738', '862', '462',\n",
                            "       '937', '583', '419', '257', '540', '382', '367', '501', '825',\n",
                            "       '722', '704', '900', '84', '413', '123', '742', '694', '390',\n",
                            "       '329', '560', '618', '627', '728', '934', '486', '207', '444',\n",
                            "       '293', '346', '119', '459', '45', '868', '368', '391', '342',\n",
                            "       '316', '844', '887', '487', '80', '439', '6', '318', '438', '840',\n",
                            "       '896', '908', '574', '365', '735', '577', '141', '538', '177',\n",
                            "       '475', '426', '437', '639', '858', '50', '916', '743', '530',\n",
                            "       '385', '865', '878', '522', '601', '13', '777', '306', '195',\n",
                            "       '913', '590', '174', '717', '905', '625', '931', '218', '233',\n",
                            "       '52', '118', '237', '558', '57', '164', '581', '468', '255', '603',\n",
                            "       '339', '458', '377', '568', '132', '389', '266', '692', '333',\n",
                            "       '869', '895', '666', '715', '285', '192', '383', '549', '176',\n",
                            "       '361', '834', '295', '607', '943', '150', '449', '114', '311',\n",
                            "       '774', '710', '300', '833', '885', '933', '269', '160', '781',\n",
                            "       '283', '315', '374', '288', '524', '663', '409', '727', '454',\n",
                            "       '452', '595', '190', '888', '370', '262', '265', '453', '465',\n",
                            "       '321', '737', '608', '246', '504', '79', '499', '739', '654',\n",
                            "       '352', '46', '463', '5', '71', '104', '253', '372', '136', '938',\n",
                            "       '53', '74', '481', '906', '638', '87', '22', '758', '397', '472',\n",
                            "       '405', '600', '838', '358', '373', '461', '480', '24', '344',\n",
                            "       '782', '392', '196', '227', '928', '270', '184', '115', '859',\n",
                            "       '264', '843', '930', '640', '460', '854', '551', '474', '893',\n",
                            "       '32', '210', '554', '323', '761', '159', '621', '236', '555',\n",
                            "       '521', '506', '219', '647', '543', '152', '38', '280', '754',\n",
                            "       '619', '330', '578', '66', '116', '386', '83', '564', '27', '591',\n",
                            "       '565', '645', '29', '633', '712', '436', '911', '846', '716',\n",
                            "       '471', '42', '505', '185', '31', '60', '492', '617', '766', '448',\n",
                            "       '171', '206', '871', '451', '863', '310', '845', '146', '47',\n",
                            "       '646', '939', '797', '672', '351', '34', '752', '111', '787',\n",
                            "       '510', '489', '464', '35', '628', '772', '205', '644', '211',\n",
                            "       '261', '816', '362', '36', '37', '77', '566', '267', '68', '648',\n",
                            "       '245', '81', '718', '942', '137', '891', '200', '741', '217',\n",
                            "       '507', '563', '476', '760', '40', '784', '915', '529', '440',\n",
                            "       '562', '41', '224', '571', '215', '904', '912', '477', '860',\n",
                            "       '186', '122', '586', '837', '78', '882', '91', '434', '520', '110',\n",
                            "       '696', '724', '519', '848', '48', '556', '187', '442', '557',\n",
                            "       '671', '375', '259', '584', '736', '689', '528', '776', '226',\n",
                            "       '546', '693', '664', '545', '188', '28', '8', '11', '197', '414',\n",
                            "       '4', '272', '156', '421', '778', '20', '559', '527', '667', '681',\n",
                            "       '842', '818', '112', '725', '238', '762', '18', '874', '877',\n",
                            "       '304', '15', '674', '734', '175', '575', '180', '161', '165',\n",
                            "       '909', '167', '61', '179', '713', '702', '688', '615', '337',\n",
                            "       '172', '572', '659', '369', '183', '98', '420', '491', '113',\n",
                            "       '819', '513', '649', '55', '411', '817', '263', '941', '355', '86',\n",
                            "       '129', '139', '720', '466', '103', '849', '686', '88', '875',\n",
                            "       '443', '673', '135', '836', '225', '850', '623', '550', '539',\n",
                            "       '596', '100', '404', '142', '641', '260', '107', '611', '652',\n",
                            "       '675', '594', '719', '173', '427', '683', '212', '604', '482',\n",
                            "       '799', '169', '153', '750', '853', '341', '428', '356', '149',\n",
                            "       '898', '408', '668', '418', '616', '531', '51', '12', '350', '780',\n",
                            "       '802', '753', '154', '670', '228', '433', '309', '812', '515',\n",
                            "       '914', '700', '814', '587', '415', '511', '19', '30', '920', '366',\n",
                            "       '855', '516', '278', '876', '791', '3', '925', '208', '857', '9',\n",
                            "       '163', '127', '926', '651', '485', '866', '240', '695', '598',\n",
                            "       '502', '166', '811', '126', '133', '626', '824', '810', '589',\n",
                            "       '570', '813', '302', '656', '317', '801', '832', '803', '809',\n",
                            "       '755', '509', '229', '140', '431', '827', '170', '33', '732',\n",
                            "       '873', '258', '783', '740', '282', '105', '353', '284', '220',\n",
                            "       '384', '147', '820', '544', '841', '281', '775', '547', '335',\n",
                            "       '319', '400', '364', '808', '687', '241', '446', '39', '685',\n",
                            "       '410', '191', '856', '143', '273', '155', '631', '729'],\n",
                            "      dtype=object)"
                        ]
                    },
                    "execution_count": 85,
                    "metadata": {},
                    "output_type": "execute_result"
                }
            ],
            "source": [
                "users"
            ]
        },
        {
            "cell_type": "code",
            "execution_count": 86,
            "metadata": {},
            "outputs": [
                {
                    "data": {
                        "text/plain": [
                            "array(['1', '10', '100', ..., '997', '998', '999'],\n",
                            "      shape=(1682,), dtype=object)"
                        ]
                    },
                    "execution_count": 86,
                    "metadata": {},
                    "output_type": "execute_result"
                }
            ],
            "source": [
                "items"
            ]
        },
        {
            "cell_type": "code",
            "execution_count": 87,
            "metadata": {},
            "outputs": [],
            "source": [
                "# Create mapping dictionaries\n",
                "user2idx = {u: i for i, u in enumerate(users)}"
            ]
        },
        {
            "cell_type": "code",
            "execution_count": 88,
            "metadata": {},
            "outputs": [],
            "source": [
                "item2idx = {i: idx for idx, i in enumerate(items)}"
            ]
        },
        {
            "cell_type": "code",
            "execution_count": 89,
            "metadata": {},
            "outputs": [],
            "source": [
                "ratings[user_name] = ratings[user_name].map(user2idx).fillna(-1).astype(np.int64)"
            ]
        },
        {
            "cell_type": "code",
            "execution_count": 90,
            "metadata": {},
            "outputs": [],
            "source": [
                "ratings[item_name] = ratings[item_name].map(item2idx).fillna(-1).astype(np.int64)"
            ]
        },
        {
            "cell_type": "code",
            "execution_count": 91,
            "metadata": {},
            "outputs": [],
            "source": [
                "ratings[rating_name] = ratings[rating_name].fillna(0).astype(np.float32)"
            ]
        },
        {
            "cell_type": "code",
            "execution_count": 92,
            "metadata": {},
            "outputs": [
                {
                    "data": {
                        "text/html": [
                            "<div>\n",
                            "<style scoped>\n",
                            "    .dataframe tbody tr th:only-of-type {\n",
                            "        vertical-align: middle;\n",
                            "    }\n",
                            "\n",
                            "    .dataframe tbody tr th {\n",
                            "        vertical-align: top;\n",
                            "    }\n",
                            "\n",
                            "    .dataframe thead th {\n",
                            "        text-align: right;\n",
                            "    }\n",
                            "</style>\n",
                            "<table border=\"1\" class=\"dataframe\">\n",
                            "  <thead>\n",
                            "    <tr style=\"text-align: right;\">\n",
                            "      <th></th>\n",
                            "      <th>userID</th>\n",
                            "      <th>itemID</th>\n",
                            "      <th>rating</th>\n",
                            "      <th>timestamp</th>\n",
                            "    </tr>\n",
                            "  </thead>\n",
                            "  <tbody>\n",
                            "    <tr>\n",
                            "      <th>10047</th>\n",
                            "      <td>0</td>\n",
                            "      <td>0</td>\n",
                            "      <td>4.0</td>\n",
                            "      <td>885870323</td>\n",
                            "    </tr>\n",
                            "    <tr>\n",
                            "      <th>44185</th>\n",
                            "      <td>1</td>\n",
                            "      <td>0</td>\n",
                            "      <td>5.0</td>\n",
                            "      <td>889987954</td>\n",
                            "    </tr>\n",
                            "    <tr>\n",
                            "      <th>82784</th>\n",
                            "      <td>2</td>\n",
                            "      <td>0</td>\n",
                            "      <td>4.0</td>\n",
                            "      <td>875501555</td>\n",
                            "    </tr>\n",
                            "    <tr>\n",
                            "      <th>83281</th>\n",
                            "      <td>3</td>\n",
                            "      <td>0</td>\n",
                            "      <td>4.0</td>\n",
                            "      <td>882340657</td>\n",
                            "    </tr>\n",
                            "    <tr>\n",
                            "      <th>69124</th>\n",
                            "      <td>4</td>\n",
                            "      <td>0</td>\n",
                            "      <td>5.0</td>\n",
                            "      <td>877214125</td>\n",
                            "    </tr>\n",
                            "    <tr>\n",
                            "      <th>...</th>\n",
                            "      <td>...</td>\n",
                            "      <td>...</td>\n",
                            "      <td>...</td>\n",
                            "      <td>...</td>\n",
                            "    </tr>\n",
                            "    <tr>\n",
                            "      <th>77891</th>\n",
                            "      <td>279</td>\n",
                            "      <td>1681</td>\n",
                            "      <td>2.0</td>\n",
                            "      <td>882387163</td>\n",
                            "    </tr>\n",
                            "    <tr>\n",
                            "      <th>31448</th>\n",
                            "      <td>142</td>\n",
                            "      <td>1681</td>\n",
                            "      <td>4.0</td>\n",
                            "      <td>889730187</td>\n",
                            "    </tr>\n",
                            "    <tr>\n",
                            "      <th>7847</th>\n",
                            "      <td>238</td>\n",
                            "      <td>1681</td>\n",
                            "      <td>4.0</td>\n",
                            "      <td>892838288</td>\n",
                            "    </tr>\n",
                            "    <tr>\n",
                            "      <th>42623</th>\n",
                            "      <td>678</td>\n",
                            "      <td>1681</td>\n",
                            "      <td>2.0</td>\n",
                            "      <td>883365385</td>\n",
                            "    </tr>\n",
                            "    <tr>\n",
                            "      <th>34637</th>\n",
                            "      <td>63</td>\n",
                            "      <td>1681</td>\n",
                            "      <td>3.0</td>\n",
                            "      <td>880952434</td>\n",
                            "    </tr>\n",
                            "  </tbody>\n",
                            "</table>\n",
                            "<p>75066 rows × 4 columns</p>\n",
                            "</div>"
                        ],
                        "text/plain": [
                            "       userID  itemID  rating  timestamp\n",
                            "10047       0       0     4.0  885870323\n",
                            "44185       1       0     5.0  889987954\n",
                            "82784       2       0     4.0  875501555\n",
                            "83281       3       0     4.0  882340657\n",
                            "69124       4       0     5.0  877214125\n",
                            "...       ...     ...     ...        ...\n",
                            "77891     279    1681     2.0  882387163\n",
                            "31448     142    1681     4.0  889730187\n",
                            "7847      238    1681     4.0  892838288\n",
                            "42623     678    1681     2.0  883365385\n",
                            "34637      63    1681     3.0  880952434\n",
                            "\n",
                            "[75066 rows x 4 columns]"
                        ]
                    },
                    "execution_count": 92,
                    "metadata": {},
                    "output_type": "execute_result"
                }
            ],
            "source": [
                "ratings"
            ]
        },
        {
            "cell_type": "code",
            "execution_count": 93,
            "metadata": {},
            "outputs": [
                {
                    "data": {
                        "text/plain": [
                            "np.int64(0)"
                        ]
                    },
                    "execution_count": 93,
                    "metadata": {},
                    "output_type": "execute_result"
                }
            ],
            "source": [
                "ratings[item_name].iloc[0]"
            ]
        },
        {
            "cell_type": "code",
            "execution_count": 94,
            "metadata": {},
            "outputs": [],
            "source": [
                "# Remove any rows where mapping failed (indices are -1)\n",
                "ratings = ratings[\n",
                "    (ratings[user_name] >= 0) & \n",
                "    (ratings[item_name] >= 0)\n",
                "]"
            ]
        },
        {
            "cell_type": "code",
            "execution_count": 95,
            "metadata": {},
            "outputs": [],
            "source": [
                "valid_pct = 0 "
            ]
        },
        {
            "cell_type": "code",
            "execution_count": 96,
            "metadata": {},
            "outputs": [],
            "source": [
                "        \n",
                "# Split into train and validation\n",
                "n = len(ratings)\n",
                "n_valid = int(n * valid_pct)\n",
                "indices = list(range(n))\n",
                "random.shuffle(indices)\n",
                "train_idx = indices[n_valid:]\n",
                "valid_idx = indices[:n_valid]"
            ]
        },
        {
            "cell_type": "code",
            "execution_count": 97,
            "metadata": {},
            "outputs": [],
            "source": [
                "# Create datasets with explicit type conversion\n",
                "train_ds = CollabDataset(\n",
                "    ratings.iloc[train_idx][user_name].values,\n",
                "    ratings.iloc[train_idx][item_name].values,\n",
                "    ratings.iloc[train_idx][rating_name].values\n",
                ")\n",
                "\n",
                "valid_ds = CollabDataset(\n",
                "    ratings.iloc[valid_idx][user_name].values,\n",
                "    ratings.iloc[valid_idx][item_name].values,\n",
                "    ratings.iloc[valid_idx][rating_name].values\n",
                ") if n_valid > 0 else None"
            ]
        },
        {
            "cell_type": "code",
            "execution_count": 98,
            "metadata": {},
            "outputs": [],
            "source": [
                "batch_size = 24"
            ]
        },
        {
            "cell_type": "code",
            "execution_count": 99,
            "metadata": {},
            "outputs": [],
            "source": [
                "kwargs = {}"
            ]
        },
        {
            "cell_type": "code",
            "execution_count": 100,
            "metadata": {},
            "outputs": [],
            "source": [
                "# Create dataloaders\n",
                "train_dl = DataLoader(\n",
                "    train_ds, \n",
                "    batch_size=batch_size,\n",
                "    shuffle=True,\n",
                "    **kwargs\n",
                ")\n",
                "        "
            ]
        },
        {
            "cell_type": "code",
            "execution_count": 101,
            "metadata": {},
            "outputs": [],
            "source": [
                "valid_dl = DataLoader(\n",
                "    valid_ds,\n",
                "    batch_size=batch_size*2,\n",
                "    shuffle=False,\n",
                "    **kwargs\n",
                ") if valid_ds is not None else None"
            ]
        },
        {
            "cell_type": "code",
            "execution_count": 102,
            "metadata": {},
            "outputs": [
                {
                    "data": {
                        "text/plain": [
                            "'itemID'"
                        ]
                    },
                    "execution_count": 102,
                    "metadata": {},
                    "output_type": "execute_result"
                }
            ],
            "source": [
                "ITEM"
            ]
        },
        {
            "cell_type": "code",
            "execution_count": 103,
            "metadata": {},
            "outputs": [
                {
                    "data": {
                        "text/html": [
                            "<div>\n",
                            "<style scoped>\n",
                            "    .dataframe tbody tr th:only-of-type {\n",
                            "        vertical-align: middle;\n",
                            "    }\n",
                            "\n",
                            "    .dataframe tbody tr th {\n",
                            "        vertical-align: top;\n",
                            "    }\n",
                            "\n",
                            "    .dataframe thead th {\n",
                            "        text-align: right;\n",
                            "    }\n",
                            "</style>\n",
                            "<table border=\"1\" class=\"dataframe\">\n",
                            "  <thead>\n",
                            "    <tr style=\"text-align: right;\">\n",
                            "      <th></th>\n",
                            "      <th>userID</th>\n",
                            "      <th>itemID</th>\n",
                            "      <th>rating</th>\n",
                            "      <th>timestamp</th>\n",
                            "    </tr>\n",
                            "  </thead>\n",
                            "  <tbody>\n",
                            "    <tr>\n",
                            "      <th>10047</th>\n",
                            "      <td>94</td>\n",
                            "      <td>1</td>\n",
                            "      <td>4.0</td>\n",
                            "      <td>885870323</td>\n",
                            "    </tr>\n",
                            "    <tr>\n",
                            "      <th>44185</th>\n",
                            "      <td>620</td>\n",
                            "      <td>1</td>\n",
                            "      <td>5.0</td>\n",
                            "      <td>889987954</td>\n",
                            "    </tr>\n",
                            "    <tr>\n",
                            "      <th>82784</th>\n",
                            "      <td>779</td>\n",
                            "      <td>1</td>\n",
                            "      <td>4.0</td>\n",
                            "      <td>875501555</td>\n",
                            "    </tr>\n",
                            "    <tr>\n",
                            "      <th>83281</th>\n",
                            "      <td>399</td>\n",
                            "      <td>1</td>\n",
                            "      <td>4.0</td>\n",
                            "      <td>882340657</td>\n",
                            "    </tr>\n",
                            "    <tr>\n",
                            "      <th>69124</th>\n",
                            "      <td>864</td>\n",
                            "      <td>1</td>\n",
                            "      <td>5.0</td>\n",
                            "      <td>877214125</td>\n",
                            "    </tr>\n",
                            "    <tr>\n",
                            "      <th>...</th>\n",
                            "      <td>...</td>\n",
                            "      <td>...</td>\n",
                            "      <td>...</td>\n",
                            "      <td>...</td>\n",
                            "    </tr>\n",
                            "    <tr>\n",
                            "      <th>77891</th>\n",
                            "      <td>429</td>\n",
                            "      <td>999</td>\n",
                            "      <td>2.0</td>\n",
                            "      <td>882387163</td>\n",
                            "    </tr>\n",
                            "    <tr>\n",
                            "      <th>31448</th>\n",
                            "      <td>393</td>\n",
                            "      <td>999</td>\n",
                            "      <td>4.0</td>\n",
                            "      <td>889730187</td>\n",
                            "    </tr>\n",
                            "    <tr>\n",
                            "      <th>7847</th>\n",
                            "      <td>125</td>\n",
                            "      <td>999</td>\n",
                            "      <td>4.0</td>\n",
                            "      <td>892838288</td>\n",
                            "    </tr>\n",
                            "    <tr>\n",
                            "      <th>42623</th>\n",
                            "      <td>476</td>\n",
                            "      <td>999</td>\n",
                            "      <td>2.0</td>\n",
                            "      <td>883365385</td>\n",
                            "    </tr>\n",
                            "    <tr>\n",
                            "      <th>34637</th>\n",
                            "      <td>417</td>\n",
                            "      <td>999</td>\n",
                            "      <td>3.0</td>\n",
                            "      <td>880952434</td>\n",
                            "    </tr>\n",
                            "  </tbody>\n",
                            "</table>\n",
                            "<p>75066 rows × 4 columns</p>\n",
                            "</div>"
                        ],
                        "text/plain": [
                            "      userID itemID  rating  timestamp\n",
                            "10047     94      1     4.0  885870323\n",
                            "44185    620      1     5.0  889987954\n",
                            "82784    779      1     4.0  875501555\n",
                            "83281    399      1     4.0  882340657\n",
                            "69124    864      1     5.0  877214125\n",
                            "...      ...    ...     ...        ...\n",
                            "77891    429    999     2.0  882387163\n",
                            "31448    393    999     4.0  889730187\n",
                            "7847     125    999     4.0  892838288\n",
                            "42623    476    999     2.0  883365385\n",
                            "34637    417    999     3.0  880952434\n",
                            "\n",
                            "[75066 rows x 4 columns]"
                        ]
                    },
                    "execution_count": 103,
                    "metadata": {},
                    "output_type": "execute_result"
                }
            ],
            "source": [
                "train_valid_df"
            ]
        },
        {
            "cell_type": "code",
            "execution_count": 104,
            "metadata": {},
            "outputs": [
                {
                    "data": {
                        "text/html": [
                            "<div>\n",
                            "<style scoped>\n",
                            "    .dataframe tbody tr th:only-of-type {\n",
                            "        vertical-align: middle;\n",
                            "    }\n",
                            "\n",
                            "    .dataframe tbody tr th {\n",
                            "        vertical-align: top;\n",
                            "    }\n",
                            "\n",
                            "    .dataframe thead th {\n",
                            "        text-align: right;\n",
                            "    }\n",
                            "</style>\n",
                            "<table border=\"1\" class=\"dataframe\">\n",
                            "  <thead>\n",
                            "    <tr style=\"text-align: right;\">\n",
                            "      <th></th>\n",
                            "      <th>userID</th>\n",
                            "      <th>itemID</th>\n",
                            "      <th>rating</th>\n",
                            "      <th>timestamp</th>\n",
                            "    </tr>\n",
                            "  </thead>\n",
                            "  <tbody>\n",
                            "    <tr>\n",
                            "      <th>10047</th>\n",
                            "      <td>94</td>\n",
                            "      <td>1</td>\n",
                            "      <td>4.0</td>\n",
                            "      <td>885870323</td>\n",
                            "    </tr>\n",
                            "    <tr>\n",
                            "      <th>44185</th>\n",
                            "      <td>620</td>\n",
                            "      <td>1</td>\n",
                            "      <td>5.0</td>\n",
                            "      <td>889987954</td>\n",
                            "    </tr>\n",
                            "    <tr>\n",
                            "      <th>82784</th>\n",
                            "      <td>779</td>\n",
                            "      <td>1</td>\n",
                            "      <td>4.0</td>\n",
                            "      <td>875501555</td>\n",
                            "    </tr>\n",
                            "    <tr>\n",
                            "      <th>83281</th>\n",
                            "      <td>399</td>\n",
                            "      <td>1</td>\n",
                            "      <td>4.0</td>\n",
                            "      <td>882340657</td>\n",
                            "    </tr>\n",
                            "    <tr>\n",
                            "      <th>69124</th>\n",
                            "      <td>864</td>\n",
                            "      <td>1</td>\n",
                            "      <td>5.0</td>\n",
                            "      <td>877214125</td>\n",
                            "    </tr>\n",
                            "    <tr>\n",
                            "      <th>...</th>\n",
                            "      <td>...</td>\n",
                            "      <td>...</td>\n",
                            "      <td>...</td>\n",
                            "      <td>...</td>\n",
                            "    </tr>\n",
                            "    <tr>\n",
                            "      <th>77891</th>\n",
                            "      <td>429</td>\n",
                            "      <td>999</td>\n",
                            "      <td>2.0</td>\n",
                            "      <td>882387163</td>\n",
                            "    </tr>\n",
                            "    <tr>\n",
                            "      <th>31448</th>\n",
                            "      <td>393</td>\n",
                            "      <td>999</td>\n",
                            "      <td>4.0</td>\n",
                            "      <td>889730187</td>\n",
                            "    </tr>\n",
                            "    <tr>\n",
                            "      <th>7847</th>\n",
                            "      <td>125</td>\n",
                            "      <td>999</td>\n",
                            "      <td>4.0</td>\n",
                            "      <td>892838288</td>\n",
                            "    </tr>\n",
                            "    <tr>\n",
                            "      <th>42623</th>\n",
                            "      <td>476</td>\n",
                            "      <td>999</td>\n",
                            "      <td>2.0</td>\n",
                            "      <td>883365385</td>\n",
                            "    </tr>\n",
                            "    <tr>\n",
                            "      <th>34637</th>\n",
                            "      <td>417</td>\n",
                            "      <td>999</td>\n",
                            "      <td>3.0</td>\n",
                            "      <td>880952434</td>\n",
                            "    </tr>\n",
                            "  </tbody>\n",
                            "</table>\n",
                            "<p>75066 rows × 4 columns</p>\n",
                            "</div>"
                        ],
                        "text/plain": [
                            "      userID itemID  rating  timestamp\n",
                            "10047     94      1     4.0  885870323\n",
                            "44185    620      1     5.0  889987954\n",
                            "82784    779      1     4.0  875501555\n",
                            "83281    399      1     4.0  882340657\n",
                            "69124    864      1     5.0  877214125\n",
                            "...      ...    ...     ...        ...\n",
                            "77891    429    999     2.0  882387163\n",
                            "31448    393    999     4.0  889730187\n",
                            "7847     125    999     4.0  892838288\n",
                            "42623    476    999     2.0  883365385\n",
                            "34637    417    999     3.0  880952434\n",
                            "\n",
                            "[75066 rows x 4 columns]"
                        ]
                    },
                    "execution_count": 104,
                    "metadata": {},
                    "output_type": "execute_result"
                }
            ],
            "source": [
                "train_valid_df"
            ]
        },
        {
            "cell_type": "code",
            "execution_count": 105,
            "metadata": {},
            "outputs": [],
            "source": [
                "data = CollabDataLoaders.from_df(train_valid_df, \n",
                "                                user_name=USER, \n",
                "                                item_name=ITEM, \n",
                "                                rating_name=RATING, \n",
                "                                valid_pct=0)"
            ]
        },
        {
            "cell_type": "code",
            "execution_count": 106,
            "metadata": {},
            "outputs": [
                {
                    "name": "stdout",
                    "output_type": "stream",
                    "text": [
                        "Showing a sample batch:\n",
                        "Showing 5 examples from a batch:\n",
                        "  userID itemID  rating\n",
                        "0    625    770     5.0\n",
                        "1    488    969     5.0\n",
                        "2     59    557     3.0\n",
                        "3    264   1098     1.0\n",
                        "4    642   1478     4.0\n"
                    ]
                }
            ],
            "source": [
                "data.show_batch()"
            ]
        },
        {
            "cell_type": "code",
            "execution_count": 120,
            "metadata": {},
            "outputs": [
                {
                    "data": {
                        "text/plain": [
                            "dict_keys(['userID', 'itemID'])"
                        ]
                    },
                    "execution_count": 120,
                    "metadata": {},
                    "output_type": "execute_result"
                }
            ],
            "source": [
                "data.classes.keys()"
            ]
        },
        {
            "cell_type": "code",
            "execution_count": 107,
            "metadata": {},
            "outputs": [],
            "source": [
                "# Access the dataloaders\n",
                "for user_item, ratings in train_dl:\n",
                "    # Training loop\n",
                "    break"
            ]
        },
        {
            "cell_type": "code",
            "execution_count": 108,
            "metadata": {},
            "outputs": [
                {
                    "data": {
                        "text/plain": [
                            "tensor([5., 2., 3., 3., 5., 5., 4., 1., 5., 5., 5., 4., 4., 4., 3., 3., 5., 1.,\n",
                            "        2., 2., 4., 3., 4., 4.])"
                        ]
                    },
                    "execution_count": 108,
                    "metadata": {},
                    "output_type": "execute_result"
                }
            ],
            "source": [
                "ratings"
            ]
        },
        {
            "cell_type": "code",
            "execution_count": 109,
            "metadata": {},
            "outputs": [
                {
                    "data": {
                        "text/plain": [
                            "tensor([[ 266,  268],\n",
                            "        [ 632,  875],\n",
                            "        [ 165, 1137],\n",
                            "        [ 571, 1372],\n",
                            "        [ 372,  773],\n",
                            "        [ 453,  833],\n",
                            "        [ 392,  323],\n",
                            "        [ 439,  836],\n",
                            "        [ 478, 1043],\n",
                            "        [ 427, 1549],\n",
                            "        [ 262,  874],\n",
                            "        [ 589,  776],\n",
                            "        [ 673, 1097],\n",
                            "        [ 170,   55],\n",
                            "        [ 222,  925],\n",
                            "        [ 315,  244],\n",
                            "        [ 865, 1105],\n",
                            "        [ 556,  648],\n",
                            "        [ 405, 1369],\n",
                            "        [ 112, 1031],\n",
                            "        [ 100,  799],\n",
                            "        [ 211, 1025],\n",
                            "        [ 373, 1350],\n",
                            "        [ 197,  775]])"
                        ]
                    },
                    "execution_count": 109,
                    "metadata": {},
                    "output_type": "execute_result"
                }
            ],
            "source": [
                "user_item"
            ]
        },
        {
            "cell_type": "code",
            "execution_count": 110,
            "metadata": {},
            "outputs": [
                {
                    "data": {
                        "text/plain": [
                            "<torch.utils.data.dataloader.DataLoader at 0x7f8a728b7610>"
                        ]
                    },
                    "execution_count": 110,
                    "metadata": {},
                    "output_type": "execute_result"
                }
            ],
            "source": [
                "train_dl"
            ]
        },
        {
            "cell_type": "code",
            "execution_count": 111,
            "metadata": {},
            "outputs": [],
            "source": [
                "users,items = user_item[:,0],user_item[:,1]"
            ]
        },
        {
            "cell_type": "code",
            "execution_count": 112,
            "metadata": {},
            "outputs": [
                {
                    "data": {
                        "text/plain": [
                            "tensor([266, 632, 165, 571, 372, 453, 392, 439, 478, 427, 262, 589, 673, 170,\n",
                            "        222, 315, 865, 556, 405, 112, 100, 211, 373, 197])"
                        ]
                    },
                    "execution_count": 112,
                    "metadata": {},
                    "output_type": "execute_result"
                }
            ],
            "source": [
                "users"
            ]
        },
        {
            "cell_type": "code",
            "execution_count": 113,
            "metadata": {},
            "outputs": [
                {
                    "data": {
                        "text/plain": [
                            "tensor([ 268,  875, 1137, 1372,  773,  833,  323,  836, 1043, 1549,  874,  776,\n",
                            "        1097,   55,  925,  244, 1105,  648, 1369, 1031,  799, 1025, 1350,  775])"
                        ]
                    },
                    "execution_count": 113,
                    "metadata": {},
                    "output_type": "execute_result"
                }
            ],
            "source": [
                "items"
            ]
        },
        {
            "cell_type": "code",
            "execution_count": 114,
            "metadata": {},
            "outputs": [
                {
                    "data": {
                        "text/plain": [
                            "tensor([266, 268])"
                        ]
                    },
                    "execution_count": 114,
                    "metadata": {},
                    "output_type": "execute_result"
                }
            ],
            "source": [
                "user_item[0]"
            ]
        },
        {
            "cell_type": "code",
            "execution_count": 115,
            "metadata": {},
            "outputs": [
                {
                    "data": {
                        "text/plain": [
                            "tensor([266, 268])"
                        ]
                    },
                    "execution_count": 115,
                    "metadata": {},
                    "output_type": "execute_result"
                }
            ],
            "source": [
                "user_item[0]"
            ]
        },
        {
            "cell_type": "code",
            "execution_count": 116,
            "metadata": {},
            "outputs": [
                {
                    "data": {
                        "text/plain": [
                            "tensor(5.)"
                        ]
                    },
                    "execution_count": 116,
                    "metadata": {},
                    "output_type": "execute_result"
                }
            ],
            "source": [
                "ratings[0]"
            ]
        },
        {
            "cell_type": "code",
            "execution_count": 117,
            "metadata": {},
            "outputs": [
                {
                    "ename": "TypeError",
                    "evalue": "'NoneType' object is not iterable",
                    "output_type": "error",
                    "traceback": [
                        "\u001b[0;31m---------------------------------------------------------------------------\u001b[0m",
                        "\u001b[0;31mTypeError\u001b[0m                                 Traceback (most recent call last)",
                        "Cell \u001b[0;32mIn[117], line 1\u001b[0m\n\u001b[0;32m----> 1\u001b[0m \u001b[38;5;28;01mfor\u001b[39;00m users, items, ratings \u001b[38;5;129;01min\u001b[39;00m data\u001b[38;5;241m.\u001b[39mvalid:\n\u001b[1;32m      2\u001b[0m     \u001b[38;5;66;03m# Validation loop\u001b[39;00m\n\u001b[1;32m      3\u001b[0m     \u001b[38;5;28;01mpass\u001b[39;00m\n",
                        "\u001b[0;31mTypeError\u001b[0m: 'NoneType' object is not iterable"
                    ]
                }
            ],
            "source": [
                "for users, items, ratings in data.valid:\n",
                "    # Validation loop\n",
                "    pass"
            ]
        },
        {
            "cell_type": "code",
            "execution_count": null,
            "metadata": {},
            "outputs": [],
            "source": [
                "##################"
            ]
        },
        {
            "cell_type": "code",
            "execution_count": 118,
            "metadata": {},
            "outputs": [
                {
                    "name": "stdout",
                    "output_type": "stream",
                    "text": [
                        "Showing a sample batch:\n",
                        "Showing 5 examples from a batch:\n",
                        "  userID itemID  rating\n",
                        "0    152   1150     4.0\n",
                        "1    538   1177     4.0\n",
                        "2    430   1478     3.0\n",
                        "3    235     20     5.0\n",
                        "4    189    881     5.0\n"
                    ]
                }
            ],
            "source": [
                "data.show_batch()"
            ]
        },
        {
            "cell_type": "markdown",
            "metadata": {},
            "source": [
                "Now we will create a `collab_learner` for the data, which by default uses the [EmbeddingDotBias](https://docs.fast.ai/collab.html#EmbeddingDotBias) model. We will be using 40 latent factors. This will create an embedding for the users and the items that will map each of these to 40 floats as can be seen below. Note that the embedding parameters are not predefined, but are learned by the model.\n",
                "\n",
                "Although ratings can only range from 1-5, we are setting the range of possible ratings to a range from 0 to 5.5 -- that will allow the model to predict values around 1 and 5, which improves accuracy. Lastly, we set a value for weight-decay for regularization."
            ]
        },
        {
            "cell_type": "code",
            "execution_count": null,
            "metadata": {},
            "outputs": [
                {
                    "data": {
                        "text/plain": [
                            "EmbeddingDotBias(\n",
                            "  (u_weight): Embedding(944, 40)\n",
                            "  (i_weight): Embedding(1683, 40)\n",
                            "  (u_bias): Embedding(944, 1)\n",
                            "  (i_bias): Embedding(1683, 1)\n",
                            ")"
                        ]
                    },
                    "execution_count": 9,
                    "metadata": {},
                    "output_type": "execute_result"
                }
            ],
            "source": [
                "learn = collab_learner(data, n_factors=N_FACTORS, y_range=[0,5.5], wd=1e-1)\n",
                "learn.model"
            ]
        },
        {
            "cell_type": "markdown",
            "metadata": {},
            "source": [
                "Now train the model for 5 epochs setting the maximal learning rate. The learner will reduce the learning rate with each epoch using cosine annealing."
            ]
        },
        {
            "cell_type": "code",
            "execution_count": 10,
            "metadata": {},
            "outputs": [
                {
                    "data": {
                        "text/html": [
                            "\n",
                            "<style>\n",
                            "    /* Turns off some styling */\n",
                            "    progress {\n",
                            "        /* gets rid of default border in Firefox and Opera. */\n",
                            "        border: none;\n",
                            "        /* Needs to be in here for Safari polyfill so background images work as expected. */\n",
                            "        background-size: auto;\n",
                            "    }\n",
                            "    progress:not([value]), progress:not([value])::-webkit-progress-bar {\n",
                            "        background: repeating-linear-gradient(45deg, #7e7e7e, #7e7e7e 10px, #5c5c5c 10px, #5c5c5c 20px);\n",
                            "    }\n",
                            "    .progress-bar-interrupted, .progress-bar-interrupted::-webkit-progress-bar {\n",
                            "        background: #F44336;\n",
                            "    }\n",
                            "</style>\n"
                        ],
                        "text/plain": [
                            "<IPython.core.display.HTML object>"
                        ]
                    },
                    "metadata": {},
                    "output_type": "display_data"
                },
                {
                    "data": {
                        "text/html": [
                            "\n",
                            "    <div>\n",
                            "      <progress value='0' class='' max='5' style='width:300px; height:20px; vertical-align: middle;'></progress>\n",
                            "      0.00% [0/5 00:00&lt;?]\n",
                            "    </div>\n",
                            "    \n",
                            "<table border=\"1\" class=\"dataframe\">\n",
                            "  <thead>\n",
                            "    <tr style=\"text-align: left;\">\n",
                            "      <th>epoch</th>\n",
                            "      <th>train_loss</th>\n",
                            "      <th>valid_loss</th>\n",
                            "      <th>time</th>\n",
                            "    </tr>\n",
                            "  </thead>\n",
                            "  <tbody>\n",
                            "  </tbody>\n",
                            "</table><p>\n",
                            "\n",
                            "    <div>\n",
                            "      <progress value='4' class='' max='1172' style='width:300px; height:20px; vertical-align: middle;'></progress>\n",
                            "      0.34% [4/1172 00:00&lt;00:32 1.7014]\n",
                            "    </div>\n",
                            "    "
                        ],
                        "text/plain": [
                            "<IPython.core.display.HTML object>"
                        ]
                    },
                    "metadata": {},
                    "output_type": "display_data"
                },
                {
                    "name": "stdout",
                    "output_type": "stream",
                    "text": [
                        "Took 33.9113 seconds for training.\n"
                    ]
                }
            ],
            "source": [
                "with Timer() as train_time:\n",
                "    learn.fit_one_cycle(EPOCHS, lr_max=5e-3)\n",
                "\n",
                "print(\"Took {} seconds for training.\".format(train_time))"
            ]
        },
        {
            "cell_type": "markdown",
            "metadata": {},
            "source": [
                "Save the learner so it can be loaded back later for inferencing / generating recommendations"
            ]
        },
        {
            "cell_type": "code",
            "execution_count": 11,
            "metadata": {},
            "outputs": [],
            "source": [
                "tmp = TemporaryDirectory()\n",
                "model_path = os.path.join(tmp.name, \"movielens_model.pkl\")"
            ]
        },
        {
            "cell_type": "code",
            "execution_count": 12,
            "metadata": {},
            "outputs": [],
            "source": [
                "learn.export(model_path)"
            ]
        },
        {
            "cell_type": "markdown",
            "metadata": {},
            "source": [
                "## Generating Recommendations\n",
                "\n",
                "Load the learner from disk."
            ]
        },
        {
            "cell_type": "code",
            "execution_count": 13,
            "metadata": {},
            "outputs": [],
            "source": [
                "learner = load_learner(model_path)"
            ]
        },
        {
            "cell_type": "markdown",
            "metadata": {},
            "source": [
                "Get all users and items that the model knows"
            ]
        },
        {
            "cell_type": "code",
            "execution_count": 14,
            "metadata": {},
            "outputs": [],
            "source": [
                "total_users, total_items = learner.dls.classes.values()\n",
                "total_items = total_items[1:]\n",
                "total_users = total_users[1:]"
            ]
        },
        {
            "cell_type": "markdown",
            "metadata": {},
            "source": [
                "Get all users from the test set and remove any users that were know in the training set"
            ]
        },
        {
            "cell_type": "code",
            "execution_count": 15,
            "metadata": {},
            "outputs": [],
            "source": [
                "test_users = test_df[USER].unique()\n",
                "test_users = np.intersect1d(test_users, total_users)"
            ]
        },
        {
            "cell_type": "markdown",
            "metadata": {},
            "source": [
                "Build the cartesian product of test set users and all items known to the model"
            ]
        },
        {
            "cell_type": "code",
            "execution_count": 16,
            "metadata": {},
            "outputs": [],
            "source": [
                "users_items = cartesian_product(np.array(test_users),np.array(total_items))\n",
                "users_items = pd.DataFrame(users_items, columns=[USER,ITEM])"
            ]
        },
        {
            "cell_type": "markdown",
            "metadata": {
                "scrolled": false
            },
            "source": [
                "\n",
                "Lastly, remove the user/items combinations that are in the training set -- we don't want to propose a movie that the user has already watched."
            ]
        },
        {
            "cell_type": "code",
            "execution_count": 17,
            "metadata": {
                "scrolled": false
            },
            "outputs": [],
            "source": [
                "training_removed = pd.merge(users_items, train_valid_df.astype(str), on=[USER, ITEM], how='left')\n",
                "training_removed = training_removed[training_removed[RATING].isna()][[USER, ITEM]]"
            ]
        },
        {
            "cell_type": "markdown",
            "metadata": {},
            "source": [
                "### Score the model to find the top K recommendation"
            ]
        },
        {
            "cell_type": "code",
            "execution_count": 18,
            "metadata": {},
            "outputs": [
                {
                    "name": "stdout",
                    "output_type": "stream",
                    "text": [
                        "Took 5.1570 seconds for 1511060 predictions.\n"
                    ]
                }
            ],
            "source": [
                "with Timer() as test_time:\n",
                "    top_k_scores = score(learner, \n",
                "                         test_df=training_removed,\n",
                "                         user_col=USER, \n",
                "                         item_col=ITEM, \n",
                "                         prediction_col=PREDICTION)\n",
                "\n",
                "print(\"Took {} seconds for {} predictions.\".format(test_time, len(training_removed)))"
            ]
        },
        {
            "cell_type": "markdown",
            "metadata": {},
            "source": [
                "Calculate some metrics for our model"
            ]
        },
        {
            "cell_type": "code",
            "execution_count": 19,
            "metadata": {},
            "outputs": [],
            "source": [
                "eval_map = map(test_df, top_k_scores, col_user=USER, col_item=ITEM, \n",
                "               col_rating=RATING, col_prediction=PREDICTION, \n",
                "               relevancy_method=\"top_k\", k=TOP_K)"
            ]
        },
        {
            "cell_type": "code",
            "execution_count": 20,
            "metadata": {},
            "outputs": [],
            "source": [
                "eval_ndcg = ndcg_at_k(test_df, top_k_scores, col_user=USER, col_item=ITEM, \n",
                "                      col_rating=RATING, col_prediction=PREDICTION, \n",
                "                      relevancy_method=\"top_k\", k=TOP_K)"
            ]
        },
        {
            "cell_type": "code",
            "execution_count": 21,
            "metadata": {},
            "outputs": [],
            "source": [
                "eval_precision = precision_at_k(test_df, top_k_scores, col_user=USER, col_item=ITEM, \n",
                "                                col_rating=RATING, col_prediction=PREDICTION, \n",
                "                                relevancy_method=\"top_k\", k=TOP_K)"
            ]
        },
        {
            "cell_type": "code",
            "execution_count": 22,
            "metadata": {},
            "outputs": [],
            "source": [
                "eval_recall = recall_at_k(test_df, top_k_scores, col_user=USER, col_item=ITEM, \n",
                "                          col_rating=RATING, col_prediction=PREDICTION, \n",
                "                          relevancy_method=\"top_k\", k=TOP_K)"
            ]
        },
        {
            "cell_type": "code",
            "execution_count": 23,
            "metadata": {},
            "outputs": [
                {
                    "name": "stdout",
                    "output_type": "stream",
                    "text": [
                        "Model:\t\tLearner\n",
                        "Top K:\t\t10\n",
                        "MAP:\t\t0.024119\n",
                        "NDCG:\t\t0.152808\n",
                        "Precision@K:\t0.139130\n",
                        "Recall@K:\t0.054943\n"
                    ]
                }
            ],
            "source": [
                "print(\"Model:\\t\\t\" + learn.__class__.__name__,\n",
                "      \"Top K:\\t\\t%d\" % TOP_K,\n",
                "      \"MAP:\\t\\t%f\" % eval_map,\n",
                "      \"NDCG:\\t\\t%f\" % eval_ndcg,\n",
                "      \"Precision@K:\\t%f\" % eval_precision,\n",
                "      \"Recall@K:\\t%f\" % eval_recall, sep='\\n')"
            ]
        },
        {
            "cell_type": "markdown",
            "metadata": {},
            "source": [
                "The above numbers are lower than [SAR](../sar_single_node_movielens.ipynb), but expected, since the model is explicitly trying to generalize the users and items to the latent factors. Next look at how well the model predicts how the user would rate the movie. Need to score `test_df` user-items only. "
            ]
        },
        {
            "cell_type": "code",
            "execution_count": 24,
            "metadata": {},
            "outputs": [],
            "source": [
                "scores = score(learner, \n",
                "               test_df=test_df.copy(), \n",
                "               user_col=USER, \n",
                "               item_col=ITEM, \n",
                "               prediction_col=PREDICTION)"
            ]
        },
        {
            "cell_type": "markdown",
            "metadata": {},
            "source": [
                "Now calculate some regression metrics"
            ]
        },
        {
            "cell_type": "code",
            "execution_count": 25,
            "metadata": {},
            "outputs": [
                {
                    "name": "stdout",
                    "output_type": "stream",
                    "text": [
                        "Model:\t\t\tLearner\n",
                        "RMSE:\t\t\t0.904589\n",
                        "MAE:\t\t\t0.715827\n",
                        "Explained variance:\t0.356082\n",
                        "R squared:\t\t0.355173\n"
                    ]
                }
            ],
            "source": [
                "eval_r2 = rsquared(test_df, scores, col_user=USER, col_item=ITEM, col_rating=RATING, col_prediction=PREDICTION)\n",
                "eval_rmse = rmse(test_df, scores, col_user=USER, col_item=ITEM, col_rating=RATING, col_prediction=PREDICTION)\n",
                "eval_mae = mae(test_df, scores, col_user=USER, col_item=ITEM, col_rating=RATING, col_prediction=PREDICTION)\n",
                "eval_exp_var = exp_var(test_df, scores, col_user=USER, col_item=ITEM, col_rating=RATING, col_prediction=PREDICTION)\n",
                "\n",
                "print(\"Model:\\t\\t\\t\" + learn.__class__.__name__,\n",
                "      \"RMSE:\\t\\t\\t%f\" % eval_rmse,\n",
                "      \"MAE:\\t\\t\\t%f\" % eval_mae,\n",
                "      \"Explained variance:\\t%f\" % eval_exp_var,\n",
                "      \"R squared:\\t\\t%f\" % eval_r2, sep='\\n')"
            ]
        },
        {
            "cell_type": "markdown",
            "metadata": {},
            "source": [
                "That RMSE is competitive in comparison with other models."
            ]
        },
        {
            "cell_type": "code",
            "execution_count": 26,
            "metadata": {},
            "outputs": [
                {
                    "data": {
                        "application/notebook_utils.json+json": {
                            "data": 0.024118782738867094,
                            "encoder": "json",
                            "name": "map"
                        }
                    },
                    "metadata": {
                        "notebook_utils": {
                            "data": true,
                            "display": false,
                            "name": "map"
                        }
                    },
                    "output_type": "display_data"
                },
                {
                    "data": {
                        "application/notebook_utils.json+json": {
                            "data": 0.1528081472533914,
                            "encoder": "json",
                            "name": "ndcg"
                        }
                    },
                    "metadata": {
                        "notebook_utils": {
                            "data": true,
                            "display": false,
                            "name": "ndcg"
                        }
                    },
                    "output_type": "display_data"
                },
                {
                    "data": {
                        "application/notebook_utils.json+json": {
                            "data": 0.13913043478260873,
                            "encoder": "json",
                            "name": "precision"
                        }
                    },
                    "metadata": {
                        "notebook_utils": {
                            "data": true,
                            "display": false,
                            "name": "precision"
                        }
                    },
                    "output_type": "display_data"
                },
                {
                    "data": {
                        "application/notebook_utils.json+json": {
                            "data": 0.05494302697544413,
                            "encoder": "json",
                            "name": "recall"
                        }
                    },
                    "metadata": {
                        "notebook_utils": {
                            "data": true,
                            "display": false,
                            "name": "recall"
                        }
                    },
                    "output_type": "display_data"
                },
                {
                    "data": {
                        "application/notebook_utils.json+json": {
                            "data": 0.9045892929999733,
                            "encoder": "json",
                            "name": "rmse"
                        }
                    },
                    "metadata": {
                        "notebook_utils": {
                            "data": true,
                            "display": false,
                            "name": "rmse"
                        }
                    },
                    "output_type": "display_data"
                },
                {
                    "data": {
                        "application/notebook_utils.json+json": {
                            "data": 0.7158267242352735,
                            "encoder": "json",
                            "name": "mae"
                        }
                    },
                    "metadata": {
                        "notebook_utils": {
                            "data": true,
                            "display": false,
                            "name": "mae"
                        }
                    },
                    "output_type": "display_data"
                },
                {
                    "data": {
                        "application/notebook_utils.json+json": {
                            "data": 0.3560824305444269,
                            "encoder": "json",
                            "name": "exp_var"
                        }
                    },
                    "metadata": {
                        "notebook_utils": {
                            "data": true,
                            "display": false,
                            "name": "exp_var"
                        }
                    },
                    "output_type": "display_data"
                },
                {
                    "data": {
                        "application/notebook_utils.json+json": {
                            "data": 0.35517333876960555,
                            "encoder": "json",
                            "name": "rsquared"
                        }
                    },
                    "metadata": {
                        "notebook_utils": {
                            "data": true,
                            "display": false,
                            "name": "rsquared"
                        }
                    },
                    "output_type": "display_data"
                },
                {
                    "data": {
                        "application/notebook_utils.json+json": {
                            "data": 51.52598460000445,
                            "encoder": "json",
                            "name": "train_time"
                        }
                    },
                    "metadata": {
                        "notebook_utils": {
                            "data": true,
                            "display": false,
                            "name": "train_time"
                        }
                    },
                    "output_type": "display_data"
                },
                {
                    "data": {
                        "application/notebook_utils.json+json": {
                            "data": 5.156951100005244,
                            "encoder": "json",
                            "name": "test_time"
                        }
                    },
                    "metadata": {
                        "notebook_utils": {
                            "data": true,
                            "display": false,
                            "name": "test_time"
                        }
                    },
                    "output_type": "display_data"
                }
            ],
            "source": [
                "# Record results for tests - ignore this cell\n",
                "store_metadata(\"map\", eval_map)\n",
                "store_metadata(\"ndcg\", eval_ndcg)\n",
                "store_metadata(\"precision\", eval_precision)\n",
                "store_metadata(\"recall\", eval_recall)\n",
                "store_metadata(\"rmse\", eval_rmse)\n",
                "store_metadata(\"mae\", eval_mae)\n",
                "store_metadata(\"exp_var\", eval_exp_var)\n",
                "store_metadata(\"rsquared\", eval_r2)\n",
                "store_metadata(\"train_time\", train_time.interval)\n",
                "store_metadata(\"test_time\", test_time.interval)"
            ]
        },
        {
            "cell_type": "code",
            "execution_count": 27,
            "metadata": {},
            "outputs": [],
            "source": [
                "tmp.cleanup()"
            ]
        },
        {
            "cell_type": "raw",
            "metadata": {},
            "source": []
        }
    ],
    "metadata": {
        "celltoolbar": "Tags",
        "kernelspec": {
            "display_name": "recommenders",
            "language": "python",
            "name": "python3"
        },
        "language_info": {
            "codemirror_mode": {
                "name": "ipython",
                "version": 3
            },
            "file_extension": ".py",
            "mimetype": "text/x-python",
            "name": "python",
            "nbconvert_exporter": "python",
            "pygments_lexer": "ipython3",
            "version": "3.9.16"
        }
    },
    "nbformat": 4,
    "nbformat_minor": 2
}
