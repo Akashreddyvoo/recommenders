{
    "cells": [
        {
            "cell_type": "markdown",
            "metadata": {},
            "source": [
                "<i>Copyright (c) Recommenders contributors.</i>\n",
                "\n",
                "<i>Licensed under the MIT License.</i>"
            ]
        },
        {
            "cell_type": "markdown",
            "metadata": {},
            "source": [
                "## FastAI Recommender\n",
                "\n",
                "This notebook shows how to use the [FastAI](https://fast.ai) recommender which is using [Pytorch](https://pytorch.org/) under the hood. "
            ]
        },
        {
            "cell_type": "code",
            "execution_count": 4,
            "metadata": {},
            "outputs": [
                {
                    "name": "stdout",
                    "output_type": "stream",
                    "text": [
                        "System version: 3.10.10 (main, Mar 21 2023, 18:45:11) [GCC 11.2.0]\n",
                        "Pandas version: 2.2.3\n",
                        "Fast AI version: 2.8.1\n",
                        "Torch version: 2.6.0+cu124\n",
                        "CUDA Available: False\n",
                        "CuDNN Enabled: True\n"
                    ]
                }
            ],
            "source": [
                "# Suppress all warnings\n",
                "import warnings\n",
                "warnings.filterwarnings(\"ignore\")\n",
                "\n",
                "import os\n",
                "import sys\n",
                "import numpy as np\n",
                "import pandas as pd\n",
                "import torch\n",
                "import fastai\n",
                "from tempfile import TemporaryDirectory\n",
                "\n",
                "from fastai.collab import collab_learner, CollabDataLoaders, load_learner\n",
                "\n",
                "from recommenders.utils.constants import (\n",
                "    DEFAULT_USER_COL as USER, \n",
                "    DEFAULT_ITEM_COL as ITEM, \n",
                "    DEFAULT_RATING_COL as RATING, \n",
                "    DEFAULT_TIMESTAMP_COL as TIMESTAMP, \n",
                "    DEFAULT_PREDICTION_COL as PREDICTION\n",
                ") \n",
                "from recommenders.utils.timer import Timer\n",
                "from recommenders.datasets import movielens\n",
                "from recommenders.datasets.python_splitters import python_stratified_split\n",
                "from recommenders.models.fastai.fastai_utils import cartesian_product, score\n",
                "from recommenders.evaluation.python_evaluation import map, ndcg_at_k, precision_at_k, recall_at_k\n",
                "from recommenders.evaluation.python_evaluation import rmse, mae, rsquared, exp_var\n",
                "from recommenders.utils.notebook_utils import store_metadata\n",
                "\n",
                "print(\"System version: {}\".format(sys.version))\n",
                "print(\"Pandas version: {}\".format(pd.__version__))\n",
                "print(\"Fast AI version: {}\".format(fastai.__version__))\n",
                "print(\"Torch version: {}\".format(torch.__version__))\n",
                "print(\"CUDA Available: {}\".format(torch.cuda.is_available()))\n",
                "print(\"CuDNN Enabled: {}\".format(torch.backends.cudnn.enabled))"
            ]
        },
        {
            "cell_type": "markdown",
            "metadata": {},
            "source": [
                "Defining some constants to refer to the different columns of our dataset."
            ]
        },
        {
            "cell_type": "code",
            "execution_count": 6,
            "metadata": {
                "tags": [
                    "parameters"
                ]
            },
            "outputs": [],
            "source": [
                "# top k items to recommend\n",
                "TOP_K = 10\n",
                "\n",
                "# Select MovieLens data size: 100k, 1m, 10m, or 20m\n",
                "MOVIELENS_DATA_SIZE = '100k'\n",
                "\n",
                "# Model parameters\n",
                "N_FACTORS = 40\n",
                "EPOCHS = 5"
            ]
        },
        {
            "cell_type": "code",
            "execution_count": 7,
            "metadata": {},
            "outputs": [
                {
                    "name": "stderr",
                    "output_type": "stream",
                    "text": [
                        "100%|██████████| 4.81k/4.81k [00:00<00:00, 12.2kKB/s]\n"
                    ]
                },
                {
                    "data": {
                        "text/html": [
                            "<div>\n",
                            "<style scoped>\n",
                            "    .dataframe tbody tr th:only-of-type {\n",
                            "        vertical-align: middle;\n",
                            "    }\n",
                            "\n",
                            "    .dataframe tbody tr th {\n",
                            "        vertical-align: top;\n",
                            "    }\n",
                            "\n",
                            "    .dataframe thead th {\n",
                            "        text-align: right;\n",
                            "    }\n",
                            "</style>\n",
                            "<table border=\"1\" class=\"dataframe\">\n",
                            "  <thead>\n",
                            "    <tr style=\"text-align: right;\">\n",
                            "      <th></th>\n",
                            "      <th>userID</th>\n",
                            "      <th>itemID</th>\n",
                            "      <th>rating</th>\n",
                            "      <th>timestamp</th>\n",
                            "    </tr>\n",
                            "  </thead>\n",
                            "  <tbody>\n",
                            "    <tr>\n",
                            "      <th>0</th>\n",
                            "      <td>196</td>\n",
                            "      <td>242</td>\n",
                            "      <td>3.0</td>\n",
                            "      <td>881250949</td>\n",
                            "    </tr>\n",
                            "    <tr>\n",
                            "      <th>1</th>\n",
                            "      <td>186</td>\n",
                            "      <td>302</td>\n",
                            "      <td>3.0</td>\n",
                            "      <td>891717742</td>\n",
                            "    </tr>\n",
                            "    <tr>\n",
                            "      <th>2</th>\n",
                            "      <td>22</td>\n",
                            "      <td>377</td>\n",
                            "      <td>1.0</td>\n",
                            "      <td>878887116</td>\n",
                            "    </tr>\n",
                            "    <tr>\n",
                            "      <th>3</th>\n",
                            "      <td>244</td>\n",
                            "      <td>51</td>\n",
                            "      <td>2.0</td>\n",
                            "      <td>880606923</td>\n",
                            "    </tr>\n",
                            "    <tr>\n",
                            "      <th>4</th>\n",
                            "      <td>166</td>\n",
                            "      <td>346</td>\n",
                            "      <td>1.0</td>\n",
                            "      <td>886397596</td>\n",
                            "    </tr>\n",
                            "  </tbody>\n",
                            "</table>\n",
                            "</div>"
                        ],
                        "text/plain": [
                            "  userID itemID  rating  timestamp\n",
                            "0    196    242     3.0  881250949\n",
                            "1    186    302     3.0  891717742\n",
                            "2     22    377     1.0  878887116\n",
                            "3    244     51     2.0  880606923\n",
                            "4    166    346     1.0  886397596"
                        ]
                    },
                    "execution_count": 7,
                    "metadata": {},
                    "output_type": "execute_result"
                }
            ],
            "source": [
                "ratings_df = movielens.load_pandas_df(\n",
                "    size=MOVIELENS_DATA_SIZE,\n",
                "    header=[USER,ITEM,RATING,TIMESTAMP]\n",
                ")\n",
                "\n",
                "# make sure the IDs are loaded as strings to better prevent confusion with embedding ids\n",
                "ratings_df[USER] = ratings_df[USER].astype('str')\n",
                "ratings_df[ITEM] = ratings_df[ITEM].astype('str')\n",
                "\n",
                "ratings_df.head()"
            ]
        },
        {
            "cell_type": "code",
            "execution_count": 8,
            "metadata": {},
            "outputs": [],
            "source": [
                "# Split the dataset\n",
                "train_valid_df, test_df = python_stratified_split(\n",
                "    ratings_df, \n",
                "    ratio=0.75, \n",
                "    min_rating=1, \n",
                "    filter_by=\"item\", \n",
                "    col_user=USER, \n",
                "    col_item=ITEM\n",
                ")"
            ]
        },
        {
            "cell_type": "code",
            "execution_count": 9,
            "metadata": {},
            "outputs": [],
            "source": [
                "# Remove \"cold\" users from test set  \n",
                "test_df = test_df[test_df.userID.isin(train_valid_df.userID)]"
            ]
        },
        {
            "cell_type": "code",
            "execution_count": 10,
            "metadata": {},
            "outputs": [
                {
                    "data": {
                        "text/html": [
                            "<div>\n",
                            "<style scoped>\n",
                            "    .dataframe tbody tr th:only-of-type {\n",
                            "        vertical-align: middle;\n",
                            "    }\n",
                            "\n",
                            "    .dataframe tbody tr th {\n",
                            "        vertical-align: top;\n",
                            "    }\n",
                            "\n",
                            "    .dataframe thead th {\n",
                            "        text-align: right;\n",
                            "    }\n",
                            "</style>\n",
                            "<table border=\"1\" class=\"dataframe\">\n",
                            "  <thead>\n",
                            "    <tr style=\"text-align: right;\">\n",
                            "      <th></th>\n",
                            "      <th>userID</th>\n",
                            "      <th>itemID</th>\n",
                            "      <th>rating</th>\n",
                            "      <th>timestamp</th>\n",
                            "    </tr>\n",
                            "  </thead>\n",
                            "  <tbody>\n",
                            "    <tr>\n",
                            "      <th>88028</th>\n",
                            "      <td>57</td>\n",
                            "      <td>1</td>\n",
                            "      <td>5.0</td>\n",
                            "      <td>883698581</td>\n",
                            "    </tr>\n",
                            "    <tr>\n",
                            "      <th>17299</th>\n",
                            "      <td>141</td>\n",
                            "      <td>1</td>\n",
                            "      <td>3.0</td>\n",
                            "      <td>884584753</td>\n",
                            "    </tr>\n",
                            "    <tr>\n",
                            "      <th>44422</th>\n",
                            "      <td>184</td>\n",
                            "      <td>1</td>\n",
                            "      <td>4.0</td>\n",
                            "      <td>889907652</td>\n",
                            "    </tr>\n",
                            "    <tr>\n",
                            "      <th>16768</th>\n",
                            "      <td>15</td>\n",
                            "      <td>1</td>\n",
                            "      <td>1.0</td>\n",
                            "      <td>879455635</td>\n",
                            "    </tr>\n",
                            "    <tr>\n",
                            "      <th>58395</th>\n",
                            "      <td>486</td>\n",
                            "      <td>1</td>\n",
                            "      <td>4.0</td>\n",
                            "      <td>879874870</td>\n",
                            "    </tr>\n",
                            "    <tr>\n",
                            "      <th>...</th>\n",
                            "      <td>...</td>\n",
                            "      <td>...</td>\n",
                            "      <td>...</td>\n",
                            "      <td>...</td>\n",
                            "    </tr>\n",
                            "    <tr>\n",
                            "      <th>52763</th>\n",
                            "      <td>798</td>\n",
                            "      <td>998</td>\n",
                            "      <td>3.0</td>\n",
                            "      <td>875915317</td>\n",
                            "    </tr>\n",
                            "    <tr>\n",
                            "      <th>11582</th>\n",
                            "      <td>299</td>\n",
                            "      <td>998</td>\n",
                            "      <td>2.0</td>\n",
                            "      <td>889503774</td>\n",
                            "    </tr>\n",
                            "    <tr>\n",
                            "      <th>98130</th>\n",
                            "      <td>642</td>\n",
                            "      <td>998</td>\n",
                            "      <td>3.0</td>\n",
                            "      <td>886569765</td>\n",
                            "    </tr>\n",
                            "    <tr>\n",
                            "      <th>98226</th>\n",
                            "      <td>682</td>\n",
                            "      <td>999</td>\n",
                            "      <td>2.0</td>\n",
                            "      <td>888521942</td>\n",
                            "    </tr>\n",
                            "    <tr>\n",
                            "      <th>8269</th>\n",
                            "      <td>22</td>\n",
                            "      <td>999</td>\n",
                            "      <td>4.0</td>\n",
                            "      <td>878886902</td>\n",
                            "    </tr>\n",
                            "  </tbody>\n",
                            "</table>\n",
                            "<p>24934 rows × 4 columns</p>\n",
                            "</div>"
                        ],
                        "text/plain": [
                            "      userID itemID  rating  timestamp\n",
                            "88028     57      1     5.0  883698581\n",
                            "17299    141      1     3.0  884584753\n",
                            "44422    184      1     4.0  889907652\n",
                            "16768     15      1     1.0  879455635\n",
                            "58395    486      1     4.0  879874870\n",
                            "...      ...    ...     ...        ...\n",
                            "52763    798    998     3.0  875915317\n",
                            "11582    299    998     2.0  889503774\n",
                            "98130    642    998     3.0  886569765\n",
                            "98226    682    999     2.0  888521942\n",
                            "8269      22    999     4.0  878886902\n",
                            "\n",
                            "[24934 rows x 4 columns]"
                        ]
                    },
                    "execution_count": 10,
                    "metadata": {},
                    "output_type": "execute_result"
                }
            ],
            "source": [
                "test_df"
            ]
        },
        {
            "cell_type": "markdown",
            "metadata": {},
            "source": [
                "## Training"
            ]
        },
        {
            "cell_type": "code",
            "execution_count": 11,
            "metadata": {},
            "outputs": [],
            "source": [
                "# fix random seeds to make sure our runs are reproducible\n",
                "np.random.seed(101)\n",
                "torch.manual_seed(101)\n",
                "torch.cuda.manual_seed_all(101)"
            ]
        },
        {
            "cell_type": "code",
            "execution_count": 12,
            "metadata": {},
            "outputs": [],
            "source": [
                "with Timer() as preprocess_time:\n",
                "    data = CollabDataLoaders.from_df(train_valid_df, \n",
                "                                     user_name=USER, \n",
                "                                     item_name=ITEM, \n",
                "                                     rating_name=RATING, \n",
                "                                     valid_pct=0)\n"
            ]
        },
        {
            "cell_type": "code",
            "execution_count": 16,
            "metadata": {},
            "outputs": [
                {
                    "data": {
                        "text/html": [
                            "<table border=\"1\" class=\"dataframe\">\n",
                            "  <thead>\n",
                            "    <tr style=\"text-align: right;\">\n",
                            "      <th></th>\n",
                            "      <th>userID</th>\n",
                            "      <th>itemID</th>\n",
                            "      <th>rating</th>\n",
                            "    </tr>\n",
                            "  </thead>\n",
                            "  <tbody>\n",
                            "    <tr>\n",
                            "      <th>0</th>\n",
                            "      <td>560</td>\n",
                            "      <td>181</td>\n",
                            "      <td>4.0</td>\n",
                            "    </tr>\n",
                            "    <tr>\n",
                            "      <th>1</th>\n",
                            "      <td>805</td>\n",
                            "      <td>725</td>\n",
                            "      <td>3.0</td>\n",
                            "    </tr>\n",
                            "    <tr>\n",
                            "      <th>2</th>\n",
                            "      <td>933</td>\n",
                            "      <td>734</td>\n",
                            "      <td>2.0</td>\n",
                            "    </tr>\n",
                            "    <tr>\n",
                            "      <th>3</th>\n",
                            "      <td>627</td>\n",
                            "      <td>546</td>\n",
                            "      <td>3.0</td>\n",
                            "    </tr>\n",
                            "    <tr>\n",
                            "      <th>4</th>\n",
                            "      <td>280</td>\n",
                            "      <td>73</td>\n",
                            "      <td>3.0</td>\n",
                            "    </tr>\n",
                            "    <tr>\n",
                            "      <th>5</th>\n",
                            "      <td>201</td>\n",
                            "      <td>68</td>\n",
                            "      <td>2.0</td>\n",
                            "    </tr>\n",
                            "    <tr>\n",
                            "      <th>6</th>\n",
                            "      <td>747</td>\n",
                            "      <td>510</td>\n",
                            "      <td>5.0</td>\n",
                            "    </tr>\n",
                            "    <tr>\n",
                            "      <th>7</th>\n",
                            "      <td>180</td>\n",
                            "      <td>186</td>\n",
                            "      <td>4.0</td>\n",
                            "    </tr>\n",
                            "    <tr>\n",
                            "      <th>8</th>\n",
                            "      <td>864</td>\n",
                            "      <td>183</td>\n",
                            "      <td>4.0</td>\n",
                            "    </tr>\n",
                            "    <tr>\n",
                            "      <th>9</th>\n",
                            "      <td>694</td>\n",
                            "      <td>204</td>\n",
                            "      <td>4.0</td>\n",
                            "    </tr>\n",
                            "  </tbody>\n",
                            "</table>"
                        ],
                        "text/plain": [
                            "<IPython.core.display.HTML object>"
                        ]
                    },
                    "metadata": {},
                    "output_type": "display_data"
                }
            ],
            "source": [
                "data.show_batch()"
            ]
        },
        {
            "cell_type": "markdown",
            "metadata": {},
            "source": [
                "Now we will create a `collab_learner` for the data, which by default uses the [EmbeddingDotBias](https://docs.fast.ai/collab.html#EmbeddingDotBias) model. We will be using 40 latent factors. This will create an embedding for the users and the items that will map each of these to 40 floats as can be seen below. Note that the embedding parameters are not predefined, but are learned by the model.\n",
                "\n",
                "Although ratings can only range from 1-5, we are setting the range of possible ratings to a range from 0 to 5.5 -- that will allow the model to predict values around 1 and 5, which improves accuracy. Lastly, we set a value for weight-decay for regularization."
            ]
        },
        {
            "cell_type": "code",
            "execution_count": 17,
            "metadata": {},
            "outputs": [
                {
                    "data": {
                        "text/plain": [
                            "EmbeddingDotBias(\n",
                            "  (u_weight): Embedding(944, 40)\n",
                            "  (i_weight): Embedding(1683, 40)\n",
                            "  (u_bias): Embedding(944, 1)\n",
                            "  (i_bias): Embedding(1683, 1)\n",
                            ")"
                        ]
                    },
                    "execution_count": 17,
                    "metadata": {},
                    "output_type": "execute_result"
                }
            ],
            "source": [
                "learn = collab_learner(data, n_factors=N_FACTORS, y_range=[0,5.5], wd=1e-1)\n",
                "learn.model"
            ]
        },
        {
            "cell_type": "markdown",
            "metadata": {},
            "source": [
                "Now train the model for 5 epochs setting the maximal learning rate. The learner will reduce the learning rate with each epoch using cosine annealing."
            ]
        },
        {
            "cell_type": "code",
            "execution_count": 18,
            "metadata": {},
            "outputs": [
                {
                    "data": {
                        "text/html": [
                            "\n",
                            "<style>\n",
                            "    /* Turns off some styling */\n",
                            "    progress {\n",
                            "        /* gets rid of default border in Firefox and Opera. */\n",
                            "        border: none;\n",
                            "        /* Needs to be in here for Safari polyfill so background images work as expected. */\n",
                            "        background-size: auto;\n",
                            "    }\n",
                            "    progress:not([value]), progress:not([value])::-webkit-progress-bar {\n",
                            "        background: repeating-linear-gradient(45deg, #7e7e7e, #7e7e7e 10px, #5c5c5c 10px, #5c5c5c 20px);\n",
                            "    }\n",
                            "    .progress-bar-interrupted, .progress-bar-interrupted::-webkit-progress-bar {\n",
                            "        background: #F44336;\n",
                            "    }\n",
                            "</style>\n"
                        ],
                        "text/plain": [
                            "<IPython.core.display.HTML object>"
                        ]
                    },
                    "metadata": {},
                    "output_type": "display_data"
                },
                {
                    "data": {
                        "text/html": [
                            "<table border=\"1\" class=\"dataframe\">\n",
                            "  <thead>\n",
                            "    <tr style=\"text-align: left;\">\n",
                            "      <th>epoch</th>\n",
                            "      <th>train_loss</th>\n",
                            "      <th>valid_loss</th>\n",
                            "      <th>time</th>\n",
                            "    </tr>\n",
                            "  </thead>\n",
                            "  <tbody>\n",
                            "    <tr>\n",
                            "      <td>0</td>\n",
                            "      <td>0.877889</td>\n",
                            "      <td>None</td>\n",
                            "      <td>00:06</td>\n",
                            "    </tr>\n",
                            "    <tr>\n",
                            "      <td>1</td>\n",
                            "      <td>0.696432</td>\n",
                            "      <td>None</td>\n",
                            "      <td>00:05</td>\n",
                            "    </tr>\n",
                            "    <tr>\n",
                            "      <td>2</td>\n",
                            "      <td>0.563979</td>\n",
                            "      <td>None</td>\n",
                            "      <td>00:05</td>\n",
                            "    </tr>\n",
                            "    <tr>\n",
                            "      <td>3</td>\n",
                            "      <td>0.511963</td>\n",
                            "      <td>None</td>\n",
                            "      <td>00:05</td>\n",
                            "    </tr>\n",
                            "    <tr>\n",
                            "      <td>4</td>\n",
                            "      <td>0.500490</td>\n",
                            "      <td>None</td>\n",
                            "      <td>00:05</td>\n",
                            "    </tr>\n",
                            "  </tbody>\n",
                            "</table>"
                        ],
                        "text/plain": [
                            "<IPython.core.display.HTML object>"
                        ]
                    },
                    "metadata": {},
                    "output_type": "display_data"
                },
                {
                    "name": "stdout",
                    "output_type": "stream",
                    "text": [
                        "Took 28.5196 seconds for training.\n"
                    ]
                }
            ],
            "source": [
                "with Timer() as train_time:\n",
                "    learn.fit_one_cycle(EPOCHS, lr_max=5e-3)\n",
                "\n",
                "print(\"Took {} seconds for training.\".format(train_time))"
            ]
        },
        {
            "cell_type": "markdown",
            "metadata": {},
            "source": [
                "Save the learner so it can be loaded back later for inferencing / generating recommendations"
            ]
        },
        {
            "cell_type": "code",
            "execution_count": 19,
            "metadata": {},
            "outputs": [],
            "source": [
                "tmp = TemporaryDirectory()\n",
                "model_path = os.path.join(tmp.name, \"movielens_model.pkl\")"
            ]
        },
        {
            "cell_type": "code",
            "execution_count": 22,
            "metadata": {},
            "outputs": [],
            "source": [
                "learn.export(model_path)"
            ]
        },
        {
            "cell_type": "markdown",
            "metadata": {},
            "source": [
                "## Generating Recommendations\n",
                "\n",
                "Load the learner from disk."
            ]
        },
        {
            "cell_type": "code",
            "execution_count": 23,
            "metadata": {},
            "outputs": [],
            "source": [
                "learner = load_learner(model_path)"
            ]
        },
        {
            "cell_type": "markdown",
            "metadata": {},
            "source": [
                "Get all users and items that the model knows"
            ]
        },
        {
            "cell_type": "code",
            "execution_count": 24,
            "metadata": {},
            "outputs": [],
            "source": [
                "total_users, total_items = learner.dls.classes.values()\n",
                "total_items = total_items[1:]\n",
                "total_users = total_users[1:]"
            ]
        },
        {
            "cell_type": "code",
            "execution_count": 25,
            "metadata": {},
            "outputs": [
                {
                    "data": {
                        "text/plain": [
                            "(#943) ['1','10','100','101','102','103','104','105','106','107','108','109','11','110','111','112','113','114','115','116'...]"
                        ]
                    },
                    "execution_count": 25,
                    "metadata": {},
                    "output_type": "execute_result"
                }
            ],
            "source": [
                "total_users"
            ]
        },
        {
            "cell_type": "markdown",
            "metadata": {},
            "source": [
                "Get all users from the test set and remove any users that were know in the training set"
            ]
        },
        {
            "cell_type": "code",
            "execution_count": 26,
            "metadata": {},
            "outputs": [],
            "source": [
                "test_users = test_df[USER].unique()\n",
                "test_users = np.intersect1d(test_users, total_users)"
            ]
        },
        {
            "cell_type": "code",
            "execution_count": 27,
            "metadata": {},
            "outputs": [],
            "source": [
                "# Assume 'model' is an instance of EmbeddingDotBias created via from_classes\n",
                "user_embeddings = learner.weight(['1', '10'], is_item=False)"
            ]
        },
        {
            "cell_type": "code",
            "execution_count": 28,
            "metadata": {},
            "outputs": [
                {
                    "data": {
                        "text/plain": [
                            "tensor([[-1.8268e-01,  1.2263e-01,  4.2290e-01, -6.8767e-01,  3.5050e-01,\n",
                            "          2.7706e-01,  8.8839e-02,  2.0550e-02, -1.4047e-01,  1.8901e-01,\n",
                            "          8.6447e-02,  2.4860e-01, -1.7799e-01,  1.4392e-01,  4.2438e-01,\n",
                            "          2.0740e-01, -3.1880e-01, -8.7065e-02,  3.5110e-01, -3.5063e-01,\n",
                            "         -1.1037e-01, -1.0008e-01, -1.7147e-01, -2.4778e-01,  3.9967e-01,\n",
                            "         -6.0207e-02, -5.9832e-01, -2.4140e-01, -4.1792e-01,  1.0378e-01,\n",
                            "         -1.8700e-01, -2.2076e-01,  4.8409e-01,  1.7672e-01,  1.6418e-01,\n",
                            "         -2.3211e-02,  1.8199e-01, -2.8878e-01, -6.6121e-02,  4.2110e-04],\n",
                            "        [-6.0007e-02,  2.2414e-01,  3.1868e-02,  3.4639e-02,  1.0609e-01,\n",
                            "          4.8940e-02,  1.9685e-01, -2.7202e-01, -1.7338e-01, -7.1262e-02,\n",
                            "          2.7214e-01,  2.2561e-01,  1.5987e-01,  4.1024e-02,  1.3439e-01,\n",
                            "          1.7937e-01, -2.2741e-01, -1.5880e-01,  4.7721e-02, -2.0809e-01,\n",
                            "         -7.9615e-02,  2.9610e-01,  1.4738e-01, -1.0029e-01,  1.5733e-01,\n",
                            "         -1.4578e-01,  9.5020e-02, -2.0487e-01, -2.9119e-01,  6.7844e-02,\n",
                            "         -8.9768e-02,  1.5846e-01,  1.0998e-01, -5.8181e-02, -1.5284e-01,\n",
                            "          1.9268e-01, -3.1777e-01,  1.5653e-01,  1.3064e-01, -3.8370e-01]])"
                        ]
                    },
                    "execution_count": 28,
                    "metadata": {},
                    "output_type": "execute_result"
                }
            ],
            "source": [
                "user_embeddings"
            ]
        },
        {
            "cell_type": "code",
            "execution_count": 29,
            "metadata": {},
            "outputs": [
                {
                    "data": {
                        "text/plain": [
                            "40"
                        ]
                    },
                    "execution_count": 29,
                    "metadata": {},
                    "output_type": "execute_result"
                }
            ],
            "source": [
                "len(user_embeddings[0])"
            ]
        },
        {
            "cell_type": "code",
            "execution_count": 39,
            "metadata": {},
            "outputs": [
                {
                    "data": {
                        "text/plain": [
                            "array(['1', '10', '100', '101', '102', '103', '104', '105', '106', '107',\n",
                            "       '108', '109', '11', '110', '111', '112', '113', '114', '115',\n",
                            "       '116', '117', '118', '119', '12', '120', '121', '122', '123',\n",
                            "       '124', '125', '126', '127', '128', '129', '13', '130', '131',\n",
                            "       '132', '133', '134', '135', '136', '137', '138', '139', '14',\n",
                            "       '140', '141', '142', '143', '144', '145', '146', '147', '148',\n",
                            "       '149', '15', '150', '151', '152', '153', '154', '155', '156',\n",
                            "       '157', '158', '159', '16', '160', '161', '162', '163', '164',\n",
                            "       '165', '166', '167', '168', '169', '17', '170', '171', '172',\n",
                            "       '173', '174', '175', '176', '177', '178', '179', '18', '180',\n",
                            "       '181', '182', '183', '184', '185', '186', '187', '188', '189',\n",
                            "       '19', '190', '191', '192', '193', '194', '195', '196', '197',\n",
                            "       '198', '199', '2', '20', '200', '201', '202', '203', '204', '205',\n",
                            "       '206', '207', '208', '209', '21', '210', '211', '212', '213',\n",
                            "       '214', '215', '216', '217', '218', '219', '22', '220', '221',\n",
                            "       '222', '223', '224', '225', '226', '227', '228', '229', '23',\n",
                            "       '230', '231', '232', '233', '234', '235', '236', '237', '238',\n",
                            "       '239', '24', '240', '241', '242', '243', '244', '245', '246',\n",
                            "       '247', '248', '249', '25', '250', '251', '252', '253', '254',\n",
                            "       '255', '256', '257', '258', '259', '26', '260', '261', '262',\n",
                            "       '263', '264', '265', '266', '267', '268', '269', '27', '270',\n",
                            "       '271', '272', '273', '274', '275', '276', '277', '278', '279',\n",
                            "       '28', '280', '281', '282', '283', '284', '285', '286', '287',\n",
                            "       '288', '289', '29', '290', '291', '292', '293', '294', '295',\n",
                            "       '296', '297', '298', '299', '3', '30', '300', '301', '302', '303',\n",
                            "       '304', '305', '306', '307', '308', '309', '31', '310', '311',\n",
                            "       '312', '313', '314', '315', '316', '317', '318', '319', '32',\n",
                            "       '320', '321', '322', '323', '324', '325', '326', '327', '328',\n",
                            "       '329', '33', '330', '331', '332', '333', '334', '335', '336',\n",
                            "       '337', '338', '339', '34', '340', '341', '342', '343', '344',\n",
                            "       '345', '346', '347', '348', '349', '35', '350', '351', '352',\n",
                            "       '353', '354', '355', '356', '357', '358', '359', '36', '360',\n",
                            "       '361', '362', '363', '364', '365', '366', '367', '368', '369',\n",
                            "       '37', '370', '371', '372', '373', '374', '375', '376', '377',\n",
                            "       '378', '379', '38', '380', '381', '382', '383', '384', '385',\n",
                            "       '386', '387', '388', '389', '39', '390', '391', '392', '393',\n",
                            "       '394', '395', '396', '397', '398', '399', '4', '40', '400', '401',\n",
                            "       '402', '403', '404', '405', '406', '407', '408', '409', '41',\n",
                            "       '410', '411', '412', '413', '414', '415', '416', '417', '418',\n",
                            "       '419', '42', '420', '421', '422', '423', '424', '425', '426',\n",
                            "       '427', '428', '429', '43', '430', '431', '432', '433', '434',\n",
                            "       '435', '436', '437', '438', '439', '44', '440', '441', '442',\n",
                            "       '443', '444', '445', '446', '447', '448', '449', '45', '450',\n",
                            "       '451', '452', '453', '454', '455', '456', '457', '458', '459',\n",
                            "       '46', '460', '461', '462', '463', '464', '465', '466', '467',\n",
                            "       '468', '469', '47', '470', '471', '472', '473', '474', '475',\n",
                            "       '476', '477', '478', '479', '48', '480', '481', '482', '483',\n",
                            "       '484', '485', '486', '487', '488', '489', '49', '490', '491',\n",
                            "       '492', '493', '494', '495', '496', '497', '498', '499', '5', '50',\n",
                            "       '500', '501', '502', '503', '504', '505', '506', '507', '508',\n",
                            "       '509', '51', '510', '511', '512', '513', '514', '515', '516',\n",
                            "       '517', '518', '519', '52', '520', '521', '522', '523', '524',\n",
                            "       '525', '526', '527', '528', '529', '53', '530', '531', '532',\n",
                            "       '533', '534', '535', '536', '537', '538', '539', '54', '540',\n",
                            "       '541', '542', '543', '544', '545', '546', '547', '548', '549',\n",
                            "       '55', '550', '551', '552', '553', '554', '555', '556', '557',\n",
                            "       '558', '559', '56', '560', '561', '562', '563', '564', '565',\n",
                            "       '566', '567', '568', '569', '57', '570', '571', '572', '573',\n",
                            "       '574', '575', '576', '577', '578', '579', '58', '580', '581',\n",
                            "       '582', '583', '584', '585', '586', '587', '588', '589', '59',\n",
                            "       '590', '591', '592', '593', '594', '595', '596', '597', '598',\n",
                            "       '599', '6', '60', '600', '601', '602', '603', '604', '605', '606',\n",
                            "       '607', '608', '609', '61', '610', '611', '612', '613', '614',\n",
                            "       '615', '616', '617', '618', '619', '62', '620', '621', '622',\n",
                            "       '623', '624', '625', '626', '627', '628', '629', '63', '630',\n",
                            "       '631', '632', '633', '634', '635', '636', '637', '638', '639',\n",
                            "       '64', '640', '641', '642', '643', '644', '645', '646', '647',\n",
                            "       '648', '649', '65', '650', '651', '652', '653', '654', '655',\n",
                            "       '656', '657', '658', '659', '66', '660', '661', '662', '663',\n",
                            "       '664', '665', '666', '667', '668', '669', '67', '670', '671',\n",
                            "       '672', '673', '674', '675', '676', '677', '678', '679', '68',\n",
                            "       '680', '681', '682', '683', '684', '685', '686', '687', '688',\n",
                            "       '689', '69', '690', '691', '692', '693', '694', '695', '696',\n",
                            "       '697', '698', '699', '7', '70', '700', '701', '702', '703', '704',\n",
                            "       '705', '706', '707', '708', '709', '71', '710', '711', '712',\n",
                            "       '713', '714', '715', '716', '717', '718', '719', '72', '720',\n",
                            "       '721', '722', '723', '724', '725', '726', '727', '728', '729',\n",
                            "       '73', '730', '731', '732', '733', '734', '735', '736', '737',\n",
                            "       '738', '739', '74', '740', '741', '742', '743', '744', '745',\n",
                            "       '746', '747', '748', '749', '75', '750', '751', '752', '753',\n",
                            "       '754', '755', '756', '757', '758', '759', '76', '760', '761',\n",
                            "       '762', '763', '764', '765', '766', '767', '768', '769', '77',\n",
                            "       '770', '771', '772', '773', '774', '775', '776', '777', '778',\n",
                            "       '779', '78', '780', '781', '782', '783', '784', '785', '786',\n",
                            "       '787', '788', '789', '79', '790', '791', '792', '793', '794',\n",
                            "       '795', '796', '797', '798', '799', '8', '80', '800', '801', '802',\n",
                            "       '803', '804', '805', '806', '807', '808', '809', '81', '810',\n",
                            "       '811', '812', '813', '814', '815', '816', '817', '818', '819',\n",
                            "       '82', '820', '821', '822', '823', '824', '825', '826', '827',\n",
                            "       '828', '829', '83', '830', '831', '832', '833', '834', '835',\n",
                            "       '836', '837', '838', '839', '84', '840', '841', '842', '843',\n",
                            "       '844', '845', '846', '847', '848', '849', '85', '850', '851',\n",
                            "       '852', '853', '854', '855', '856', '857', '858', '859', '86',\n",
                            "       '860', '861', '862', '863', '864', '865', '866', '867', '868',\n",
                            "       '869', '87', '870', '871', '872', '873', '874', '875', '876',\n",
                            "       '877', '878', '879', '88', '880', '881', '882', '883', '884',\n",
                            "       '885', '886', '887', '888', '889', '89', '890', '891', '892',\n",
                            "       '893', '894', '895', '896', '897', '898', '899', '9', '90', '900',\n",
                            "       '901', '902', '903', '904', '905', '906', '907', '908', '909',\n",
                            "       '91', '910', '911', '912', '913', '914', '915', '916', '917',\n",
                            "       '918', '919', '92', '920', '921', '922', '923', '924', '925',\n",
                            "       '926', '927', '928', '929', '93', '930', '931', '932', '933',\n",
                            "       '934', '935', '936', '937', '938', '939', '94', '940', '941',\n",
                            "       '942', '943', '95', '96', '97', '98', '99'], dtype=object)"
                        ]
                    },
                    "execution_count": 39,
                    "metadata": {},
                    "output_type": "execute_result"
                }
            ],
            "source": [
                "test_users"
            ]
        },
        {
            "cell_type": "markdown",
            "metadata": {},
            "source": [
                "Build the cartesian product of test set users and all items known to the model"
            ]
        },
        {
            "cell_type": "code",
            "execution_count": 40,
            "metadata": {},
            "outputs": [
                {
                    "data": {
                        "text/plain": [
                            "array(['1', '10', '100', '101', '102', '103', '104', '105', '106', '107',\n",
                            "       '108', '109', '11', '110', '111', '112', '113', '114', '115',\n",
                            "       '116', '117', '118', '119', '12', '120', '121', '122', '123',\n",
                            "       '124', '125', '126', '127', '128', '129', '13', '130', '131',\n",
                            "       '132', '133', '134', '135', '136', '137', '138', '139', '14',\n",
                            "       '140', '141', '142', '143', '144', '145', '146', '147', '148',\n",
                            "       '149', '15', '150', '151', '152', '153', '154', '155', '156',\n",
                            "       '157', '158', '159', '16', '160', '161', '162', '163', '164',\n",
                            "       '165', '166', '167', '168', '169', '17', '170', '171', '172',\n",
                            "       '173', '174', '175', '176', '177', '178', '179', '18', '180',\n",
                            "       '181', '182', '183', '184', '185', '186', '187', '188', '189',\n",
                            "       '19', '190', '191', '192', '193', '194', '195', '196', '197',\n",
                            "       '198', '199', '2', '20', '200', '201', '202', '203', '204', '205',\n",
                            "       '206', '207', '208', '209', '21', '210', '211', '212', '213',\n",
                            "       '214', '215', '216', '217', '218', '219', '22', '220', '221',\n",
                            "       '222', '223', '224', '225', '226', '227', '228', '229', '23',\n",
                            "       '230', '231', '232', '233', '234', '235', '236', '237', '238',\n",
                            "       '239', '24', '240', '241', '242', '243', '244', '245', '246',\n",
                            "       '247', '248', '249', '25', '250', '251', '252', '253', '254',\n",
                            "       '255', '256', '257', '258', '259', '26', '260', '261', '262',\n",
                            "       '263', '264', '265', '266', '267', '268', '269', '27', '270',\n",
                            "       '271', '272', '273', '274', '275', '276', '277', '278', '279',\n",
                            "       '28', '280', '281', '282', '283', '284', '285', '286', '287',\n",
                            "       '288', '289', '29', '290', '291', '292', '293', '294', '295',\n",
                            "       '296', '297', '298', '299', '3', '30', '300', '301', '302', '303',\n",
                            "       '304', '305', '306', '307', '308', '309', '31', '310', '311',\n",
                            "       '312', '313', '314', '315', '316', '317', '318', '319', '32',\n",
                            "       '320', '321', '322', '323', '324', '325', '326', '327', '328',\n",
                            "       '329', '33', '330', '331', '332', '333', '334', '335', '336',\n",
                            "       '337', '338', '339', '34', '340', '341', '342', '343', '344',\n",
                            "       '345', '346', '347', '348', '349', '35', '350', '351', '352',\n",
                            "       '353', '354', '355', '356', '357', '358', '359', '36', '360',\n",
                            "       '361', '362', '363', '364', '365', '366', '367', '368', '369',\n",
                            "       '37', '370', '371', '372', '373', '374', '375', '376', '377',\n",
                            "       '378', '379', '38', '380', '381', '382', '383', '384', '385',\n",
                            "       '386', '387', '388', '389', '39', '390', '391', '392', '393',\n",
                            "       '394', '395', '396', '397', '398', '399', '4', '40', '400', '401',\n",
                            "       '402', '403', '404', '405', '406', '407', '408', '409', '41',\n",
                            "       '410', '411', '412', '413', '414', '415', '416', '417', '418',\n",
                            "       '419', '42', '420', '421', '422', '423', '424', '425', '426',\n",
                            "       '427', '428', '429', '43', '430', '431', '432', '433', '434',\n",
                            "       '435', '436', '437', '438', '439', '44', '440', '441', '442',\n",
                            "       '443', '444', '445', '446', '447', '448', '449', '45', '450',\n",
                            "       '451', '452', '453', '454', '455', '456', '457', '458', '459',\n",
                            "       '46', '460', '461', '462', '463', '464', '465', '466', '467',\n",
                            "       '468', '469', '47', '470', '471', '472', '473', '474', '475',\n",
                            "       '476', '477', '478', '479', '48', '480', '481', '482', '483',\n",
                            "       '484', '485', '486', '487', '488', '489', '49', '490', '491',\n",
                            "       '492', '493', '494', '495', '496', '497', '498', '499', '5', '50',\n",
                            "       '500', '501', '502', '503', '504', '505', '506', '507', '508',\n",
                            "       '509', '51', '510', '511', '512', '513', '514', '515', '516',\n",
                            "       '517', '518', '519', '52', '520', '521', '522', '523', '524',\n",
                            "       '525', '526', '527', '528', '529', '53', '530', '531', '532',\n",
                            "       '533', '534', '535', '536', '537', '538', '539', '54', '540',\n",
                            "       '541', '542', '543', '544', '545', '546', '547', '548', '549',\n",
                            "       '55', '550', '551', '552', '553', '554', '555', '556', '557',\n",
                            "       '558', '559', '56', '560', '561', '562', '563', '564', '565',\n",
                            "       '566', '567', '568', '569', '57', '570', '571', '572', '573',\n",
                            "       '574', '575', '576', '577', '578', '579', '58', '580', '581',\n",
                            "       '582', '583', '584', '585', '586', '587', '588', '589', '59',\n",
                            "       '590', '591', '592', '593', '594', '595', '596', '597', '598',\n",
                            "       '599', '6', '60', '600', '601', '602', '603', '604', '605', '606',\n",
                            "       '607', '608', '609', '61', '610', '611', '612', '613', '614',\n",
                            "       '615', '616', '617', '618', '619', '62', '620', '621', '622',\n",
                            "       '623', '624', '625', '626', '627', '628', '629', '63', '630',\n",
                            "       '631', '632', '633', '634', '635', '636', '637', '638', '639',\n",
                            "       '64', '640', '641', '642', '643', '644', '645', '646', '647',\n",
                            "       '648', '649', '65', '650', '651', '652', '653', '654', '655',\n",
                            "       '656', '657', '658', '659', '66', '660', '661', '662', '663',\n",
                            "       '664', '665', '666', '667', '668', '669', '67', '670', '671',\n",
                            "       '672', '673', '674', '675', '676', '677', '678', '679', '68',\n",
                            "       '680', '681', '682', '683', '684', '685', '686', '687', '688',\n",
                            "       '689', '69', '690', '691', '692', '693', '694', '695', '696',\n",
                            "       '697', '698', '699', '7', '70', '700', '701', '702', '703', '704',\n",
                            "       '705', '706', '707', '708', '709', '71', '710', '711', '712',\n",
                            "       '713', '714', '715', '716', '717', '718', '719', '72', '720',\n",
                            "       '721', '722', '723', '724', '725', '726', '727', '728', '729',\n",
                            "       '73', '730', '731', '732', '733', '734', '735', '736', '737',\n",
                            "       '738', '739', '74', '740', '741', '742', '743', '744', '745',\n",
                            "       '746', '747', '748', '749', '75', '750', '751', '752', '753',\n",
                            "       '754', '755', '756', '757', '758', '759', '76', '760', '761',\n",
                            "       '762', '763', '764', '765', '766', '767', '768', '769', '77',\n",
                            "       '770', '771', '772', '773', '774', '775', '776', '777', '778',\n",
                            "       '779', '78', '780', '781', '782', '783', '784', '785', '786',\n",
                            "       '787', '788', '789', '79', '790', '791', '792', '793', '794',\n",
                            "       '795', '796', '797', '798', '799', '8', '80', '800', '801', '802',\n",
                            "       '803', '804', '805', '806', '807', '808', '809', '81', '810',\n",
                            "       '811', '812', '813', '814', '815', '816', '817', '818', '819',\n",
                            "       '82', '820', '821', '822', '823', '824', '825', '826', '827',\n",
                            "       '828', '829', '83', '830', '831', '832', '833', '834', '835',\n",
                            "       '836', '837', '838', '839', '84', '840', '841', '842', '843',\n",
                            "       '844', '845', '846', '847', '848', '849', '85', '850', '851',\n",
                            "       '852', '853', '854', '855', '856', '857', '858', '859', '86',\n",
                            "       '860', '861', '862', '863', '864', '865', '866', '867', '868',\n",
                            "       '869', '87', '870', '871', '872', '873', '874', '875', '876',\n",
                            "       '877', '878', '879', '88', '880', '881', '882', '883', '884',\n",
                            "       '885', '886', '887', '888', '889', '89', '890', '891', '892',\n",
                            "       '893', '894', '895', '896', '897', '898', '899', '9', '90', '900',\n",
                            "       '901', '902', '903', '904', '905', '906', '907', '908', '909',\n",
                            "       '91', '910', '911', '912', '913', '914', '915', '916', '917',\n",
                            "       '918', '919', '92', '920', '921', '922', '923', '924', '925',\n",
                            "       '926', '927', '928', '929', '93', '930', '931', '932', '933',\n",
                            "       '934', '935', '936', '937', '938', '939', '94', '940', '941',\n",
                            "       '942', '943', '95', '96', '97', '98', '99'], dtype=object)"
                        ]
                    },
                    "execution_count": 40,
                    "metadata": {},
                    "output_type": "execute_result"
                }
            ],
            "source": [
                "np.array(test_users)"
            ]
        },
        {
            "cell_type": "code",
            "execution_count": 41,
            "metadata": {},
            "outputs": [
                {
                    "data": {
                        "text/plain": [
                            "array(['1', '10', '100', ..., '997', '998', '999'],\n",
                            "      shape=(1682,), dtype='<U4')"
                        ]
                    },
                    "execution_count": 41,
                    "metadata": {},
                    "output_type": "execute_result"
                }
            ],
            "source": [
                "np.array(total_items)"
            ]
        },
        {
            "cell_type": "code",
            "execution_count": 42,
            "metadata": {},
            "outputs": [],
            "source": [
                "users_items = cartesian_product(np.array(test_users),np.array(total_items))"
            ]
        },
        {
            "cell_type": "code",
            "execution_count": 44,
            "metadata": {},
            "outputs": [
                {
                    "data": {
                        "text/html": [
                            "<div>\n",
                            "<style scoped>\n",
                            "    .dataframe tbody tr th:only-of-type {\n",
                            "        vertical-align: middle;\n",
                            "    }\n",
                            "\n",
                            "    .dataframe tbody tr th {\n",
                            "        vertical-align: top;\n",
                            "    }\n",
                            "\n",
                            "    .dataframe thead th {\n",
                            "        text-align: right;\n",
                            "    }\n",
                            "</style>\n",
                            "<table border=\"1\" class=\"dataframe\">\n",
                            "  <thead>\n",
                            "    <tr style=\"text-align: right;\">\n",
                            "      <th></th>\n",
                            "      <th>userID</th>\n",
                            "      <th>itemID</th>\n",
                            "    </tr>\n",
                            "  </thead>\n",
                            "  <tbody>\n",
                            "    <tr>\n",
                            "      <th>0</th>\n",
                            "      <td>1</td>\n",
                            "      <td>1</td>\n",
                            "    </tr>\n",
                            "    <tr>\n",
                            "      <th>1</th>\n",
                            "      <td>1</td>\n",
                            "      <td>10</td>\n",
                            "    </tr>\n",
                            "    <tr>\n",
                            "      <th>2</th>\n",
                            "      <td>1</td>\n",
                            "      <td>100</td>\n",
                            "    </tr>\n",
                            "    <tr>\n",
                            "      <th>3</th>\n",
                            "      <td>1</td>\n",
                            "      <td>1000</td>\n",
                            "    </tr>\n",
                            "    <tr>\n",
                            "      <th>4</th>\n",
                            "      <td>1</td>\n",
                            "      <td>1001</td>\n",
                            "    </tr>\n",
                            "    <tr>\n",
                            "      <th>...</th>\n",
                            "      <td>...</td>\n",
                            "      <td>...</td>\n",
                            "    </tr>\n",
                            "    <tr>\n",
                            "      <th>1586121</th>\n",
                            "      <td>99</td>\n",
                            "      <td>995</td>\n",
                            "    </tr>\n",
                            "    <tr>\n",
                            "      <th>1586122</th>\n",
                            "      <td>99</td>\n",
                            "      <td>996</td>\n",
                            "    </tr>\n",
                            "    <tr>\n",
                            "      <th>1586123</th>\n",
                            "      <td>99</td>\n",
                            "      <td>997</td>\n",
                            "    </tr>\n",
                            "    <tr>\n",
                            "      <th>1586124</th>\n",
                            "      <td>99</td>\n",
                            "      <td>998</td>\n",
                            "    </tr>\n",
                            "    <tr>\n",
                            "      <th>1586125</th>\n",
                            "      <td>99</td>\n",
                            "      <td>999</td>\n",
                            "    </tr>\n",
                            "  </tbody>\n",
                            "</table>\n",
                            "<p>1586126 rows × 2 columns</p>\n",
                            "</div>"
                        ],
                        "text/plain": [
                            "        userID itemID\n",
                            "0            1      1\n",
                            "1            1     10\n",
                            "2            1    100\n",
                            "3            1   1000\n",
                            "4            1   1001\n",
                            "...        ...    ...\n",
                            "1586121     99    995\n",
                            "1586122     99    996\n",
                            "1586123     99    997\n",
                            "1586124     99    998\n",
                            "1586125     99    999\n",
                            "\n",
                            "[1586126 rows x 2 columns]"
                        ]
                    },
                    "execution_count": 44,
                    "metadata": {},
                    "output_type": "execute_result"
                }
            ],
            "source": [
                "users_items"
            ]
        },
        {
            "cell_type": "code",
            "execution_count": 43,
            "metadata": {},
            "outputs": [],
            "source": [
                "\n",
                "users_items = pd.DataFrame(users_items, columns=[USER,ITEM])"
            ]
        },
        {
            "cell_type": "code",
            "execution_count": 45,
            "metadata": {},
            "outputs": [
                {
                    "data": {
                        "text/html": [
                            "<div>\n",
                            "<style scoped>\n",
                            "    .dataframe tbody tr th:only-of-type {\n",
                            "        vertical-align: middle;\n",
                            "    }\n",
                            "\n",
                            "    .dataframe tbody tr th {\n",
                            "        vertical-align: top;\n",
                            "    }\n",
                            "\n",
                            "    .dataframe thead th {\n",
                            "        text-align: right;\n",
                            "    }\n",
                            "</style>\n",
                            "<table border=\"1\" class=\"dataframe\">\n",
                            "  <thead>\n",
                            "    <tr style=\"text-align: right;\">\n",
                            "      <th></th>\n",
                            "      <th>userID</th>\n",
                            "      <th>itemID</th>\n",
                            "    </tr>\n",
                            "  </thead>\n",
                            "  <tbody>\n",
                            "    <tr>\n",
                            "      <th>0</th>\n",
                            "      <td>1</td>\n",
                            "      <td>1</td>\n",
                            "    </tr>\n",
                            "    <tr>\n",
                            "      <th>1</th>\n",
                            "      <td>1</td>\n",
                            "      <td>10</td>\n",
                            "    </tr>\n",
                            "    <tr>\n",
                            "      <th>2</th>\n",
                            "      <td>1</td>\n",
                            "      <td>100</td>\n",
                            "    </tr>\n",
                            "    <tr>\n",
                            "      <th>3</th>\n",
                            "      <td>1</td>\n",
                            "      <td>1000</td>\n",
                            "    </tr>\n",
                            "    <tr>\n",
                            "      <th>4</th>\n",
                            "      <td>1</td>\n",
                            "      <td>1001</td>\n",
                            "    </tr>\n",
                            "    <tr>\n",
                            "      <th>...</th>\n",
                            "      <td>...</td>\n",
                            "      <td>...</td>\n",
                            "    </tr>\n",
                            "    <tr>\n",
                            "      <th>1586121</th>\n",
                            "      <td>99</td>\n",
                            "      <td>995</td>\n",
                            "    </tr>\n",
                            "    <tr>\n",
                            "      <th>1586122</th>\n",
                            "      <td>99</td>\n",
                            "      <td>996</td>\n",
                            "    </tr>\n",
                            "    <tr>\n",
                            "      <th>1586123</th>\n",
                            "      <td>99</td>\n",
                            "      <td>997</td>\n",
                            "    </tr>\n",
                            "    <tr>\n",
                            "      <th>1586124</th>\n",
                            "      <td>99</td>\n",
                            "      <td>998</td>\n",
                            "    </tr>\n",
                            "    <tr>\n",
                            "      <th>1586125</th>\n",
                            "      <td>99</td>\n",
                            "      <td>999</td>\n",
                            "    </tr>\n",
                            "  </tbody>\n",
                            "</table>\n",
                            "<p>1586126 rows × 2 columns</p>\n",
                            "</div>"
                        ],
                        "text/plain": [
                            "        userID itemID\n",
                            "0            1      1\n",
                            "1            1     10\n",
                            "2            1    100\n",
                            "3            1   1000\n",
                            "4            1   1001\n",
                            "...        ...    ...\n",
                            "1586121     99    995\n",
                            "1586122     99    996\n",
                            "1586123     99    997\n",
                            "1586124     99    998\n",
                            "1586125     99    999\n",
                            "\n",
                            "[1586126 rows x 2 columns]"
                        ]
                    },
                    "execution_count": 45,
                    "metadata": {},
                    "output_type": "execute_result"
                }
            ],
            "source": [
                "users_items"
            ]
        },
        {
            "cell_type": "markdown",
            "metadata": {
                "scrolled": false
            },
            "source": [
                "\n",
                "Lastly, remove the user/items combinations that are in the training set -- we don't want to propose a movie that the user has already watched."
            ]
        },
        {
            "cell_type": "code",
            "execution_count": 26,
            "metadata": {
                "scrolled": false
            },
            "outputs": [],
            "source": [
                "training_removed = pd.merge(users_items, train_valid_df.astype(str), on=[USER, ITEM], how='left')\n",
                "training_removed = training_removed[training_removed[RATING].isna()][[USER, ITEM]]"
            ]
        },
        {
            "cell_type": "markdown",
            "metadata": {},
            "source": [
                "### Score the model to find the top K recommendation"
            ]
        },
        {
            "cell_type": "code",
            "execution_count": 27,
            "metadata": {},
            "outputs": [
                {
                    "name": "stdout",
                    "output_type": "stream",
                    "text": [
                        "Took 1.9665 seconds for 1511060 predictions.\n"
                    ]
                }
            ],
            "source": [
                "with Timer() as test_time:\n",
                "    top_k_scores = score(learner, \n",
                "                         test_df=training_removed,\n",
                "                         user_col=USER, \n",
                "                         item_col=ITEM, \n",
                "                         prediction_col=PREDICTION)\n",
                "\n",
                "print(\"Took {} seconds for {} predictions.\".format(test_time, len(training_removed)))"
            ]
        },
        {
            "cell_type": "markdown",
            "metadata": {},
            "source": [
                "Calculate some metrics for our model"
            ]
        },
        {
            "cell_type": "code",
            "execution_count": 28,
            "metadata": {},
            "outputs": [],
            "source": [
                "eval_map = map(test_df, top_k_scores, col_user=USER, col_item=ITEM, \n",
                "               col_rating=RATING, col_prediction=PREDICTION, \n",
                "               relevancy_method=\"top_k\", k=TOP_K)"
            ]
        },
        {
            "cell_type": "code",
            "execution_count": 29,
            "metadata": {},
            "outputs": [],
            "source": [
                "eval_ndcg = ndcg_at_k(test_df, top_k_scores, col_user=USER, col_item=ITEM, \n",
                "                      col_rating=RATING, col_prediction=PREDICTION, \n",
                "                      relevancy_method=\"top_k\", k=TOP_K)"
            ]
        },
        {
            "cell_type": "code",
            "execution_count": 30,
            "metadata": {},
            "outputs": [],
            "source": [
                "eval_precision = precision_at_k(test_df, top_k_scores, col_user=USER, col_item=ITEM, \n",
                "                                col_rating=RATING, col_prediction=PREDICTION, \n",
                "                                relevancy_method=\"top_k\", k=TOP_K)"
            ]
        },
        {
            "cell_type": "code",
            "execution_count": 31,
            "metadata": {},
            "outputs": [],
            "source": [
                "eval_recall = recall_at_k(test_df, top_k_scores, col_user=USER, col_item=ITEM, \n",
                "                          col_rating=RATING, col_prediction=PREDICTION, \n",
                "                          relevancy_method=\"top_k\", k=TOP_K)"
            ]
        },
        {
            "cell_type": "code",
            "execution_count": 32,
            "metadata": {},
            "outputs": [
                {
                    "name": "stdout",
                    "output_type": "stream",
                    "text": [
                        "Model:\t\tLearner\n",
                        "Top K:\t\t10\n",
                        "MAP:\t\t0.021466\n",
                        "NDCG:\t\t0.133483\n",
                        "Precision@K:\t0.123224\n",
                        "Recall@K:\t0.049921\n"
                    ]
                }
            ],
            "source": [
                "print(\"Model:\\t\\t\" + learn.__class__.__name__,\n",
                "      \"Top K:\\t\\t%d\" % TOP_K,\n",
                "      \"MAP:\\t\\t%f\" % eval_map,\n",
                "      \"NDCG:\\t\\t%f\" % eval_ndcg,\n",
                "      \"Precision@K:\\t%f\" % eval_precision,\n",
                "      \"Recall@K:\\t%f\" % eval_recall, sep='\\n')"
            ]
        },
        {
            "cell_type": "markdown",
            "metadata": {},
            "source": [
                "The above numbers are lower than [SAR](../sar_single_node_movielens.ipynb), but expected, since the model is explicitly trying to generalize the users and items to the latent factors. Next look at how well the model predicts how the user would rate the movie. Need to score `test_df` user-items only. "
            ]
        },
        {
            "cell_type": "code",
            "execution_count": 33,
            "metadata": {},
            "outputs": [],
            "source": [
                "scores = score(learner, \n",
                "               test_df=test_df.copy(), \n",
                "               user_col=USER, \n",
                "               item_col=ITEM, \n",
                "               prediction_col=PREDICTION)"
            ]
        },
        {
            "cell_type": "markdown",
            "metadata": {},
            "source": [
                "Now calculate some regression metrics"
            ]
        },
        {
            "cell_type": "code",
            "execution_count": 34,
            "metadata": {},
            "outputs": [
                {
                    "name": "stdout",
                    "output_type": "stream",
                    "text": [
                        "Model:\t\t\tLearner\n",
                        "RMSE:\t\t\t0.924832\n",
                        "MAE:\t\t\t0.732161\n",
                        "Explained variance:\t0.327327\n",
                        "R squared:\t\t0.325991\n"
                    ]
                }
            ],
            "source": [
                "eval_r2 = rsquared(test_df, scores, col_user=USER, col_item=ITEM, col_rating=RATING, col_prediction=PREDICTION)\n",
                "eval_rmse = rmse(test_df, scores, col_user=USER, col_item=ITEM, col_rating=RATING, col_prediction=PREDICTION)\n",
                "eval_mae = mae(test_df, scores, col_user=USER, col_item=ITEM, col_rating=RATING, col_prediction=PREDICTION)\n",
                "eval_exp_var = exp_var(test_df, scores, col_user=USER, col_item=ITEM, col_rating=RATING, col_prediction=PREDICTION)\n",
                "\n",
                "print(\"Model:\\t\\t\\t\" + learn.__class__.__name__,\n",
                "      \"RMSE:\\t\\t\\t%f\" % eval_rmse,\n",
                "      \"MAE:\\t\\t\\t%f\" % eval_mae,\n",
                "      \"Explained variance:\\t%f\" % eval_exp_var,\n",
                "      \"R squared:\\t\\t%f\" % eval_r2, sep='\\n')"
            ]
        },
        {
            "cell_type": "markdown",
            "metadata": {},
            "source": [
                "That RMSE is competitive in comparison with other models."
            ]
        },
        {
            "cell_type": "code",
            "execution_count": 36,
            "metadata": {},
            "outputs": [
                {
                    "data": {
                        "application/notebook_utils.json+json": {
                            "data": 0.021465966078307322,
                            "encoder": "json",
                            "name": "map"
                        }
                    },
                    "metadata": {
                        "notebook_utils": {
                            "data": true,
                            "display": false,
                            "name": "map"
                        }
                    },
                    "output_type": "display_data"
                },
                {
                    "data": {
                        "application/notebook_utils.json+json": {
                            "data": 0.13348262416939463,
                            "encoder": "json",
                            "name": "ndcg"
                        }
                    },
                    "metadata": {
                        "notebook_utils": {
                            "data": true,
                            "display": false,
                            "name": "ndcg"
                        }
                    },
                    "output_type": "display_data"
                },
                {
                    "data": {
                        "application/notebook_utils.json+json": {
                            "data": 0.12322375397667021,
                            "encoder": "json",
                            "name": "precision"
                        }
                    },
                    "metadata": {
                        "notebook_utils": {
                            "data": true,
                            "display": false,
                            "name": "precision"
                        }
                    },
                    "output_type": "display_data"
                },
                {
                    "data": {
                        "application/notebook_utils.json+json": {
                            "data": 0.0499212496233543,
                            "encoder": "json",
                            "name": "recall"
                        }
                    },
                    "metadata": {
                        "notebook_utils": {
                            "data": true,
                            "display": false,
                            "name": "recall"
                        }
                    },
                    "output_type": "display_data"
                },
                {
                    "data": {
                        "application/notebook_utils.json+json": {
                            "data": 0.924832137984338,
                            "encoder": "json",
                            "name": "rmse"
                        }
                    },
                    "metadata": {
                        "notebook_utils": {
                            "data": true,
                            "display": false,
                            "name": "rmse"
                        }
                    },
                    "output_type": "display_data"
                },
                {
                    "data": {
                        "application/notebook_utils.json+json": {
                            "data": 0.7321608700685898,
                            "encoder": "json",
                            "name": "mae"
                        }
                    },
                    "metadata": {
                        "notebook_utils": {
                            "data": true,
                            "display": false,
                            "name": "mae"
                        }
                    },
                    "output_type": "display_data"
                },
                {
                    "data": {
                        "application/notebook_utils.json+json": {
                            "data": 0.3273273054479491,
                            "encoder": "json",
                            "name": "exp_var"
                        }
                    },
                    "metadata": {
                        "notebook_utils": {
                            "data": true,
                            "display": false,
                            "name": "exp_var"
                        }
                    },
                    "output_type": "display_data"
                },
                {
                    "data": {
                        "application/notebook_utils.json+json": {
                            "data": 0.32599064274502176,
                            "encoder": "json",
                            "name": "rsquared"
                        }
                    },
                    "metadata": {
                        "notebook_utils": {
                            "data": true,
                            "display": false,
                            "name": "rsquared"
                        }
                    },
                    "output_type": "display_data"
                },
                {
                    "data": {
                        "application/notebook_utils.json+json": {
                            "data": 28.617550804000018,
                            "encoder": "json",
                            "name": "train_time"
                        }
                    },
                    "metadata": {
                        "notebook_utils": {
                            "data": true,
                            "display": false,
                            "name": "train_time"
                        }
                    },
                    "output_type": "display_data"
                },
                {
                    "data": {
                        "application/notebook_utils.json+json": {
                            "data": 1.9665301549999867,
                            "encoder": "json",
                            "name": "test_time"
                        }
                    },
                    "metadata": {
                        "notebook_utils": {
                            "data": true,
                            "display": false,
                            "name": "test_time"
                        }
                    },
                    "output_type": "display_data"
                }
            ],
            "source": [
                "# Record results for tests - ignore this cell\n",
                "store_metadata(\"map\", eval_map)\n",
                "store_metadata(\"ndcg\", eval_ndcg)\n",
                "store_metadata(\"precision\", eval_precision)\n",
                "store_metadata(\"recall\", eval_recall)\n",
                "store_metadata(\"rmse\", eval_rmse)\n",
                "store_metadata(\"mae\", eval_mae)\n",
                "store_metadata(\"exp_var\", eval_exp_var)\n",
                "store_metadata(\"rsquared\", eval_r2)\n",
                "store_metadata(\"train_time\", train_time.interval)\n",
                "store_metadata(\"test_time\", test_time.interval)"
            ]
        },
        {
            "cell_type": "code",
            "execution_count": 27,
            "metadata": {},
            "outputs": [],
            "source": [
                "tmp.cleanup()"
            ]
        },
        {
            "cell_type": "raw",
            "metadata": {},
            "source": []
        }
    ],
    "metadata": {
        "celltoolbar": "Tags",
        "kernelspec": {
            "display_name": "recommenders",
            "language": "python",
            "name": "python3"
        },
        "language_info": {
            "codemirror_mode": {
                "name": "ipython",
                "version": 3
            },
            "file_extension": ".py",
            "mimetype": "text/x-python",
            "name": "python",
            "nbconvert_exporter": "python",
            "pygments_lexer": "ipython3",
            "version": "3.9.16"
        }
    },
    "nbformat": 4,
    "nbformat_minor": 2
}
