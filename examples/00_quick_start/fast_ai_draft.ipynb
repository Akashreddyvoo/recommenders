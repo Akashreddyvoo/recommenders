{
 "cells": [
  {
   "cell_type": "code",
   "execution_count": 1,
   "metadata": {},
   "outputs": [
    {
     "name": "stdout",
     "output_type": "stream",
     "text": [
      "System version: 3.10.10 (main, Mar 21 2023, 18:45:11) [GCC 11.2.0]\n",
      "Pandas version: 2.2.3\n",
      "Torch version: 2.6.0+cu124\n",
      "CUDA Available: False\n",
      "CuDNN Enabled: True\n"
     ]
    }
   ],
   "source": [
    "# Suppress all warnings\n",
    "import warnings\n",
    "warnings.filterwarnings(\"ignore\")\n",
    "\n",
    "import os\n",
    "import sys\n",
    "import numpy as np\n",
    "import pandas as pd\n",
    "import torch\n",
    "from tempfile import TemporaryDirectory\n",
    "\n",
    "from recommenders.utils.constants import (\n",
    "    DEFAULT_USER_COL as USER, \n",
    "    DEFAULT_ITEM_COL as ITEM, \n",
    "    DEFAULT_RATING_COL as RATING, \n",
    "    DEFAULT_TIMESTAMP_COL as TIMESTAMP, \n",
    "    DEFAULT_PREDICTION_COL as PREDICTION\n",
    ") \n",
    "from recommenders.utils.timer import Timer\n",
    "from recommenders.datasets import movielens\n",
    "from recommenders.datasets.python_splitters import python_stratified_split\n",
    "from recommenders.models.fastai.fastai_utils import cartesian_product, scoreV2\n",
    "from recommenders.evaluation.python_evaluation import map, ndcg_at_k, precision_at_k, recall_at_k\n",
    "from recommenders.evaluation.python_evaluation import rmse, mae, rsquared, exp_var\n",
    "from recommenders.utils.notebook_utils import store_metadata\n",
    "\n",
    "print(\"System version: {}\".format(sys.version))\n",
    "print(\"Pandas version: {}\".format(pd.__version__))\n",
    "print(\"Torch version: {}\".format(torch.__version__))\n",
    "print(\"CUDA Available: {}\".format(torch.cuda.is_available()))\n",
    "print(\"CuDNN Enabled: {}\".format(torch.backends.cudnn.enabled))"
   ]
  },
  {
   "cell_type": "code",
   "execution_count": 2,
   "metadata": {},
   "outputs": [],
   "source": [
    "from recommenders.models.fastai.model import EmbeddingDotBias\n",
    "from recommenders.models.fastai.colab_data_loader import CollabDataLoadersV3"
   ]
  },
  {
   "cell_type": "code",
   "execution_count": 3,
   "metadata": {},
   "outputs": [],
   "source": [
    "# top k items to recommend\n",
    "TOP_K = 10\n",
    "\n",
    "# Select MovieLens data size: 100k, 1m, 10m, or 20m\n",
    "MOVIELENS_DATA_SIZE = '100k'\n",
    "\n",
    "# Model parameters\n",
    "N_FACTORS = 40\n",
    "EPOCHS = 5"
   ]
  },
  {
   "cell_type": "code",
   "execution_count": 4,
   "metadata": {},
   "outputs": [
    {
     "name": "stderr",
     "output_type": "stream",
     "text": [
      "100%|██████████| 4.81k/4.81k [00:00<00:00, 16.2kKB/s]\n"
     ]
    },
    {
     "data": {
      "text/html": [
       "<div>\n",
       "<style scoped>\n",
       "    .dataframe tbody tr th:only-of-type {\n",
       "        vertical-align: middle;\n",
       "    }\n",
       "\n",
       "    .dataframe tbody tr th {\n",
       "        vertical-align: top;\n",
       "    }\n",
       "\n",
       "    .dataframe thead th {\n",
       "        text-align: right;\n",
       "    }\n",
       "</style>\n",
       "<table border=\"1\" class=\"dataframe\">\n",
       "  <thead>\n",
       "    <tr style=\"text-align: right;\">\n",
       "      <th></th>\n",
       "      <th>userID</th>\n",
       "      <th>itemID</th>\n",
       "      <th>rating</th>\n",
       "      <th>timestamp</th>\n",
       "    </tr>\n",
       "  </thead>\n",
       "  <tbody>\n",
       "    <tr>\n",
       "      <th>0</th>\n",
       "      <td>196</td>\n",
       "      <td>242</td>\n",
       "      <td>3.0</td>\n",
       "      <td>881250949</td>\n",
       "    </tr>\n",
       "    <tr>\n",
       "      <th>1</th>\n",
       "      <td>186</td>\n",
       "      <td>302</td>\n",
       "      <td>3.0</td>\n",
       "      <td>891717742</td>\n",
       "    </tr>\n",
       "    <tr>\n",
       "      <th>2</th>\n",
       "      <td>22</td>\n",
       "      <td>377</td>\n",
       "      <td>1.0</td>\n",
       "      <td>878887116</td>\n",
       "    </tr>\n",
       "    <tr>\n",
       "      <th>3</th>\n",
       "      <td>244</td>\n",
       "      <td>51</td>\n",
       "      <td>2.0</td>\n",
       "      <td>880606923</td>\n",
       "    </tr>\n",
       "    <tr>\n",
       "      <th>4</th>\n",
       "      <td>166</td>\n",
       "      <td>346</td>\n",
       "      <td>1.0</td>\n",
       "      <td>886397596</td>\n",
       "    </tr>\n",
       "  </tbody>\n",
       "</table>\n",
       "</div>"
      ],
      "text/plain": [
       "  userID itemID  rating  timestamp\n",
       "0    196    242     3.0  881250949\n",
       "1    186    302     3.0  891717742\n",
       "2     22    377     1.0  878887116\n",
       "3    244     51     2.0  880606923\n",
       "4    166    346     1.0  886397596"
      ]
     },
     "execution_count": 4,
     "metadata": {},
     "output_type": "execute_result"
    }
   ],
   "source": [
    "ratings_df = movielens.load_pandas_df(\n",
    "    size=MOVIELENS_DATA_SIZE,\n",
    "    header=[USER,ITEM,RATING,TIMESTAMP]\n",
    ")\n",
    "\n",
    "# make sure the IDs are loaded as strings to better prevent confusion with embedding ids\n",
    "ratings_df[USER] = ratings_df[USER].astype('str')\n",
    "ratings_df[ITEM] = ratings_df[ITEM].astype('str')\n",
    "\n",
    "ratings_df.head()"
   ]
  },
  {
   "cell_type": "code",
   "execution_count": 5,
   "metadata": {},
   "outputs": [],
   "source": [
    "train_valid_df, test_df = python_stratified_split(\n",
    "    ratings_df,\n",
    "    ratio=0.75, \n",
    "    min_rating=1, \n",
    "    filter_by=\"item\", \n",
    "    col_user=USER, \n",
    "    col_item=ITEM\n",
    ")"
   ]
  },
  {
   "cell_type": "code",
   "execution_count": 6,
   "metadata": {},
   "outputs": [
    {
     "data": {
      "text/html": [
       "<div>\n",
       "<style scoped>\n",
       "    .dataframe tbody tr th:only-of-type {\n",
       "        vertical-align: middle;\n",
       "    }\n",
       "\n",
       "    .dataframe tbody tr th {\n",
       "        vertical-align: top;\n",
       "    }\n",
       "\n",
       "    .dataframe thead th {\n",
       "        text-align: right;\n",
       "    }\n",
       "</style>\n",
       "<table border=\"1\" class=\"dataframe\">\n",
       "  <thead>\n",
       "    <tr style=\"text-align: right;\">\n",
       "      <th></th>\n",
       "      <th>userID</th>\n",
       "      <th>itemID</th>\n",
       "      <th>rating</th>\n",
       "      <th>timestamp</th>\n",
       "    </tr>\n",
       "  </thead>\n",
       "  <tbody>\n",
       "    <tr>\n",
       "      <th>10047</th>\n",
       "      <td>94</td>\n",
       "      <td>1</td>\n",
       "      <td>4.0</td>\n",
       "      <td>885870323</td>\n",
       "    </tr>\n",
       "    <tr>\n",
       "      <th>44185</th>\n",
       "      <td>620</td>\n",
       "      <td>1</td>\n",
       "      <td>5.0</td>\n",
       "      <td>889987954</td>\n",
       "    </tr>\n",
       "    <tr>\n",
       "      <th>82784</th>\n",
       "      <td>779</td>\n",
       "      <td>1</td>\n",
       "      <td>4.0</td>\n",
       "      <td>875501555</td>\n",
       "    </tr>\n",
       "    <tr>\n",
       "      <th>83281</th>\n",
       "      <td>399</td>\n",
       "      <td>1</td>\n",
       "      <td>4.0</td>\n",
       "      <td>882340657</td>\n",
       "    </tr>\n",
       "    <tr>\n",
       "      <th>69124</th>\n",
       "      <td>864</td>\n",
       "      <td>1</td>\n",
       "      <td>5.0</td>\n",
       "      <td>877214125</td>\n",
       "    </tr>\n",
       "    <tr>\n",
       "      <th>...</th>\n",
       "      <td>...</td>\n",
       "      <td>...</td>\n",
       "      <td>...</td>\n",
       "      <td>...</td>\n",
       "    </tr>\n",
       "    <tr>\n",
       "      <th>77891</th>\n",
       "      <td>429</td>\n",
       "      <td>999</td>\n",
       "      <td>2.0</td>\n",
       "      <td>882387163</td>\n",
       "    </tr>\n",
       "    <tr>\n",
       "      <th>31448</th>\n",
       "      <td>393</td>\n",
       "      <td>999</td>\n",
       "      <td>4.0</td>\n",
       "      <td>889730187</td>\n",
       "    </tr>\n",
       "    <tr>\n",
       "      <th>7847</th>\n",
       "      <td>125</td>\n",
       "      <td>999</td>\n",
       "      <td>4.0</td>\n",
       "      <td>892838288</td>\n",
       "    </tr>\n",
       "    <tr>\n",
       "      <th>42623</th>\n",
       "      <td>476</td>\n",
       "      <td>999</td>\n",
       "      <td>2.0</td>\n",
       "      <td>883365385</td>\n",
       "    </tr>\n",
       "    <tr>\n",
       "      <th>34637</th>\n",
       "      <td>417</td>\n",
       "      <td>999</td>\n",
       "      <td>3.0</td>\n",
       "      <td>880952434</td>\n",
       "    </tr>\n",
       "  </tbody>\n",
       "</table>\n",
       "<p>75066 rows × 4 columns</p>\n",
       "</div>"
      ],
      "text/plain": [
       "      userID itemID  rating  timestamp\n",
       "10047     94      1     4.0  885870323\n",
       "44185    620      1     5.0  889987954\n",
       "82784    779      1     4.0  875501555\n",
       "83281    399      1     4.0  882340657\n",
       "69124    864      1     5.0  877214125\n",
       "...      ...    ...     ...        ...\n",
       "77891    429    999     2.0  882387163\n",
       "31448    393    999     4.0  889730187\n",
       "7847     125    999     4.0  892838288\n",
       "42623    476    999     2.0  883365385\n",
       "34637    417    999     3.0  880952434\n",
       "\n",
       "[75066 rows x 4 columns]"
      ]
     },
     "execution_count": 6,
     "metadata": {},
     "output_type": "execute_result"
    }
   ],
   "source": [
    "train_valid_df"
   ]
  },
  {
   "cell_type": "code",
   "execution_count": 7,
   "metadata": {},
   "outputs": [],
   "source": [
    "# Remove \"cold\" users from test set  \n",
    "test_df = test_df[test_df.userID.isin(train_valid_df.userID)]"
   ]
  },
  {
   "cell_type": "markdown",
   "metadata": {},
   "source": [
    "## Training"
   ]
  },
  {
   "cell_type": "code",
   "execution_count": 8,
   "metadata": {},
   "outputs": [],
   "source": [
    "np.random.seed(101)\n",
    "torch.manual_seed(101)\n",
    "torch.cuda.manual_seed_all(101)"
   ]
  },
  {
   "cell_type": "code",
   "execution_count": 9,
   "metadata": {},
   "outputs": [],
   "source": [
    "with Timer() as preprocess_time:\n",
    "    data = CollabDataLoadersV3.from_df(train_valid_df, \n",
    "                                     user_name=USER, \n",
    "                                     item_name=ITEM, \n",
    "                                     rating_name=RATING, \n",
    "                                     valid_pct=0.001) "
   ]
  },
  {
   "cell_type": "code",
   "execution_count": 10,
   "metadata": {},
   "outputs": [
    {
     "name": "stdout",
     "output_type": "stream",
     "text": [
      "Showing a sample batch:\n",
      "Showing 5 examples from a batch:\n",
      "  userID itemID  rating\n",
      "0    505    161     3.0\n",
      "1    500   1010     4.0\n",
      "2    172    430     3.0\n",
      "3    880    380     3.0\n",
      "4    158      4     4.0\n"
     ]
    }
   ],
   "source": [
    "data.show_batch()"
   ]
  },
  {
   "cell_type": "code",
   "execution_count": 11,
   "metadata": {},
   "outputs": [],
   "source": [
    "#classes = data.classes['itemID']"
   ]
  },
  {
   "cell_type": "code",
   "execution_count": 12,
   "metadata": {},
   "outputs": [],
   "source": [
    "#classes = data.classes"
   ]
  },
  {
   "cell_type": "code",
   "execution_count": 13,
   "metadata": {},
   "outputs": [],
   "source": [
    "import torch\n",
    "import torch.nn as nn\n",
    "import torch.optim as optim\n",
    "from torch.nn import MSELoss"
   ]
  },
  {
   "cell_type": "code",
   "execution_count": 14,
   "metadata": {},
   "outputs": [],
   "source": [
    "n_factors = 40\n",
    "model = EmbeddingDotBias.from_classes(\n",
    "    n_factors=n_factors,\n",
    "    classes=data.classes,\n",
    "    user='userID',\n",
    "    item='itemID',\n",
    "    y_range=[0,5.5]\n",
    ")\n"
   ]
  },
  {
   "cell_type": "code",
   "execution_count": 15,
   "metadata": {},
   "outputs": [],
   "source": [
    "device = torch.device('cuda' if torch.cuda.is_available() else 'cpu')\n",
    "model = model.to(device)\n",
    "optimizer = optim.AdamW(model.parameters(), \n",
    "    lr=1e-3,\n",
    "    betas=(0.9, 0.99),\n",
    "    eps=1e-5,\n",
    "    weight_decay=0.01\n",
    ")\n",
    "\n",
    "loss_fn = MSELoss()"
   ]
  },
  {
   "cell_type": "code",
   "execution_count": 16,
   "metadata": {},
   "outputs": [
    {
     "name": "stdout",
     "output_type": "stream",
     "text": [
      "Epoch 1/7:\n",
      "Train Loss: 1.3408423032064893\n",
      "Valid Loss: 0.8520179986953735\n",
      "Epoch 2/7:\n",
      "Train Loss: 0.9016596601939039\n",
      "Valid Loss: 0.7767820954322815\n",
      "Epoch 3/7:\n",
      "Train Loss: 0.8278594535772305\n",
      "Valid Loss: 0.7384382486343384\n",
      "Epoch 4/7:\n",
      "Train Loss: 0.7706746463838697\n",
      "Valid Loss: 0.7467287182807922\n",
      "Epoch 5/7:\n",
      "Train Loss: 0.7190423823460784\n",
      "Valid Loss: 0.7333086133003235\n",
      "Epoch 6/7:\n",
      "Train Loss: 0.6650302821306239\n",
      "Valid Loss: 0.7224665284156799\n",
      "Epoch 7/7:\n",
      "Train Loss: 0.6063857537792812\n",
      "Valid Loss: 0.7398031949996948\n"
     ]
    }
   ],
   "source": [
    "# 5. Training loop\n",
    "def train_epoch(model, train_dl, optimizer, loss_fn, device):\n",
    "    model.train()\n",
    "    total_loss = 0\n",
    "    for batch in train_dl:\n",
    "        # Get batch data\n",
    "        users_items, ratings = batch\n",
    "        users_items = users_items.to(device)\n",
    "        ratings = ratings.to(device)\n",
    "        \n",
    "        # Forward pass\n",
    "        predictions = model(users_items)\n",
    "\n",
    "        #Flatten both predictions and targets directly in the training loop\n",
    "        loss = loss_fn(predictions.view(-1), ratings.view(-1))\n",
    "        \n",
    "        # Backward pass\n",
    "        optimizer.zero_grad()\n",
    "        loss.backward()\n",
    "        optimizer.step()\n",
    "        \n",
    "        total_loss += loss.item()\n",
    "    \n",
    "    return total_loss / len(train_dl)\n",
    "\n",
    "def validate(model, valid_dl, loss_fn, device):\n",
    "    model.eval()\n",
    "    total_loss = 0\n",
    "    try:\n",
    "        with torch.no_grad():\n",
    "            for batch in valid_dl:\n",
    "                users_items, ratings = batch\n",
    "                users_items = users_items.to(device)\n",
    "                ratings = ratings.to(device)\n",
    "                \n",
    "                predictions = model(users_items)\n",
    "                loss = loss_fn(predictions.view(-1), ratings.view(-1))\n",
    "                total_loss += loss.item()\n",
    "        \n",
    "        return total_loss / len(valid_dl)\n",
    "    except ZeroDivisionError:\n",
    "        return None\n",
    "\n",
    "# 6. Train the model\n",
    "n_epochs = 7\n",
    "for epoch in range(n_epochs):\n",
    "    train_loss = train_epoch(model, data.train, optimizer, loss_fn, device)\n",
    "    valid_loss = validate(model, data.valid, loss_fn, device)\n",
    "    print(f'Epoch {epoch+1}/{n_epochs}:')\n",
    "    print(f'Train Loss: {train_loss}')\n",
    "    print(f'Valid Loss: {valid_loss}')"
   ]
  },
  {
   "cell_type": "code",
   "execution_count": 17,
   "metadata": {},
   "outputs": [],
   "source": [
    "def predict_rating(model, user_id, item_id):\n",
    "    model.eval()\n",
    "    with torch.no_grad():\n",
    "        try:\n",
    "            print(f\"Trying to predict for user {user_id} and item {item_id}\")\n",
    "            print(f\"Available users: {model.classes[USER][:5]}...\")  # Print first 5 users\n",
    "            print(f\"Available items: {model.classes[ITEM][:5]}...\")  # Print first 5 items\n",
    "            \n",
    "            # Convert user and item IDs to indices\n",
    "            user_idx = model._get_idx([user_id], is_item=False)\n",
    "            item_idx = model._get_idx([item_id], is_item=True)\n",
    "            \n",
    "            # Create input tensor\n",
    "            x = torch.stack([user_idx, item_idx], dim=1).to(device)\n",
    "            \n",
    "            # Get prediction\n",
    "            pred = model(x)\n",
    "            return pred.item()\n",
    "        except Exception as e:\n",
    "            print(f\"Error in prediction: {str(e)}\")\n",
    "            return None"
   ]
  },
  {
   "cell_type": "code",
   "execution_count": 18,
   "metadata": {},
   "outputs": [],
   "source": [
    "total_items = model.classes[ITEM][1:]\n",
    "total_users = model.classes[USER][1:]"
   ]
  },
  {
   "cell_type": "code",
   "execution_count": 22,
   "metadata": {},
   "outputs": [],
   "source": [
    "# Get all users from the test set and remove any users that were know in the training set \n",
    "test_users = test_df[USER].unique()"
   ]
  },
  {
   "cell_type": "code",
   "execution_count": 23,
   "metadata": {},
   "outputs": [],
   "source": [
    "test_users = np.intersect1d(test_users, total_users)"
   ]
  },
  {
   "cell_type": "code",
   "execution_count": 24,
   "metadata": {},
   "outputs": [],
   "source": [
    "user_embeddings = model.weight(['1', '10'], is_item=False)"
   ]
  },
  {
   "cell_type": "code",
   "execution_count": 25,
   "metadata": {},
   "outputs": [
    {
     "name": "stdout",
     "output_type": "stream",
     "text": [
      "Trying to predict for user 1 and item 10\n",
      "Available users: ['#na#', '1', '10', '100', '101']...\n",
      "Available items: ['#na#', '1', '10', '100', '1000']...\n",
      "\n",
      "Predicted rating for user 1 and item 10: 4.050769329071045\n"
     ]
    }
   ],
   "source": [
    "# Example prediction\n",
    "user_id = \"1\"\n",
    "item_id = \"10\"\n",
    "predicted_rating = predict_rating(model, user_id, item_id)\n",
    "print(f'\\nPredicted rating for user {user_id} and item {item_id}: {predicted_rating}')"
   ]
  },
  {
   "cell_type": "code",
   "execution_count": 26,
   "metadata": {},
   "outputs": [],
   "source": [
    "users_items = cartesian_product(np.array(test_users),np.array(total_items))"
   ]
  },
  {
   "cell_type": "code",
   "execution_count": 27,
   "metadata": {},
   "outputs": [],
   "source": [
    "users_items = pd.DataFrame(users_items, columns=[USER,ITEM])"
   ]
  },
  {
   "cell_type": "code",
   "execution_count": 28,
   "metadata": {},
   "outputs": [],
   "source": [
    "training_removed = pd.merge(users_items, train_valid_df.astype(str), on=[USER, ITEM], how='left')\n",
    "training_removed = training_removed[training_removed[RATING].isna()][[USER, ITEM]]"
   ]
  },
  {
   "cell_type": "code",
   "execution_count": 29,
   "metadata": {},
   "outputs": [],
   "source": [
    "total_users, total_items = data.classes.values()"
   ]
  },
  {
   "cell_type": "code",
   "execution_count": 30,
   "metadata": {},
   "outputs": [],
   "source": [
    "with Timer() as test_time:\n",
    "    top_k_scores = scoreV2(model, \n",
    "                         data,\n",
    "                         test_df=training_removed,\n",
    "                         user_col=USER, \n",
    "                         item_col=ITEM, \n",
    "                         prediction_col=PREDICTION)"
   ]
  },
  {
   "cell_type": "code",
   "execution_count": 31,
   "metadata": {},
   "outputs": [
    {
     "data": {
      "text/html": [
       "<div>\n",
       "<style scoped>\n",
       "    .dataframe tbody tr th:only-of-type {\n",
       "        vertical-align: middle;\n",
       "    }\n",
       "\n",
       "    .dataframe tbody tr th {\n",
       "        vertical-align: top;\n",
       "    }\n",
       "\n",
       "    .dataframe thead th {\n",
       "        text-align: right;\n",
       "    }\n",
       "</style>\n",
       "<table border=\"1\" class=\"dataframe\">\n",
       "  <thead>\n",
       "    <tr style=\"text-align: right;\">\n",
       "      <th></th>\n",
       "      <th>userID</th>\n",
       "      <th>itemID</th>\n",
       "      <th>prediction</th>\n",
       "    </tr>\n",
       "  </thead>\n",
       "  <tbody>\n",
       "    <tr>\n",
       "      <th>760</th>\n",
       "      <td>1</td>\n",
       "      <td>169</td>\n",
       "      <td>4.997737</td>\n",
       "    </tr>\n",
       "    <tr>\n",
       "      <th>1026</th>\n",
       "      <td>1</td>\n",
       "      <td>408</td>\n",
       "      <td>4.976365</td>\n",
       "    </tr>\n",
       "    <tr>\n",
       "      <th>926</th>\n",
       "      <td>1</td>\n",
       "      <td>318</td>\n",
       "      <td>4.887697</td>\n",
       "    </tr>\n",
       "    <tr>\n",
       "      <th>1343</th>\n",
       "      <td>1</td>\n",
       "      <td>694</td>\n",
       "      <td>4.844806</td>\n",
       "    </tr>\n",
       "    <tr>\n",
       "      <th>1109</th>\n",
       "      <td>1</td>\n",
       "      <td>483</td>\n",
       "      <td>4.833915</td>\n",
       "    </tr>\n",
       "    <tr>\n",
       "      <th>...</th>\n",
       "      <td>...</td>\n",
       "      <td>...</td>\n",
       "      <td>...</td>\n",
       "    </tr>\n",
       "    <tr>\n",
       "      <th>1585433</th>\n",
       "      <td>99</td>\n",
       "      <td>375</td>\n",
       "      <td>1.772301</td>\n",
       "    </tr>\n",
       "    <tr>\n",
       "      <th>1585502</th>\n",
       "      <td>99</td>\n",
       "      <td>437</td>\n",
       "      <td>1.758064</td>\n",
       "    </tr>\n",
       "    <tr>\n",
       "      <th>1585504</th>\n",
       "      <td>99</td>\n",
       "      <td>439</td>\n",
       "      <td>1.729182</td>\n",
       "    </tr>\n",
       "    <tr>\n",
       "      <th>1584542</th>\n",
       "      <td>99</td>\n",
       "      <td>1087</td>\n",
       "      <td>1.655640</td>\n",
       "    </tr>\n",
       "    <tr>\n",
       "      <th>1585488</th>\n",
       "      <td>99</td>\n",
       "      <td>424</td>\n",
       "      <td>1.564748</td>\n",
       "    </tr>\n",
       "  </tbody>\n",
       "</table>\n",
       "<p>1511060 rows × 3 columns</p>\n",
       "</div>"
      ],
      "text/plain": [
       "        userID itemID  prediction\n",
       "760          1    169    4.997737\n",
       "1026         1    408    4.976365\n",
       "926          1    318    4.887697\n",
       "1343         1    694    4.844806\n",
       "1109         1    483    4.833915\n",
       "...        ...    ...         ...\n",
       "1585433     99    375    1.772301\n",
       "1585502     99    437    1.758064\n",
       "1585504     99    439    1.729182\n",
       "1584542     99   1087    1.655640\n",
       "1585488     99    424    1.564748\n",
       "\n",
       "[1511060 rows x 3 columns]"
      ]
     },
     "execution_count": 31,
     "metadata": {},
     "output_type": "execute_result"
    }
   ],
   "source": [
    "top_k_scores"
   ]
  },
  {
   "cell_type": "code",
   "execution_count": 32,
   "metadata": {},
   "outputs": [],
   "source": [
    "eval_map = map(test_df, top_k_scores, col_user=USER, col_item=ITEM, \n",
    "               col_rating=RATING, col_prediction=PREDICTION, \n",
    "               relevancy_method=\"top_k\", k=TOP_K)"
   ]
  },
  {
   "cell_type": "code",
   "execution_count": 33,
   "metadata": {},
   "outputs": [],
   "source": [
    "eval_ndcg = ndcg_at_k(test_df, top_k_scores, col_user=USER, col_item=ITEM, \n",
    "                      col_rating=RATING, col_prediction=PREDICTION, \n",
    "                      relevancy_method=\"top_k\", k=TOP_K)"
   ]
  },
  {
   "cell_type": "code",
   "execution_count": 34,
   "metadata": {},
   "outputs": [],
   "source": [
    "eval_precision = precision_at_k(test_df, top_k_scores, col_user=USER, col_item=ITEM, \n",
    "                                col_rating=RATING, col_prediction=PREDICTION, \n",
    "                                relevancy_method=\"top_k\", k=TOP_K)"
   ]
  },
  {
   "cell_type": "code",
   "execution_count": 35,
   "metadata": {},
   "outputs": [],
   "source": [
    "eval_recall = recall_at_k(test_df, top_k_scores, col_user=USER, col_item=ITEM, \n",
    "                          col_rating=RATING, col_prediction=PREDICTION, \n",
    "                          relevancy_method=\"top_k\", k=TOP_K)"
   ]
  },
  {
   "cell_type": "code",
   "execution_count": 38,
   "metadata": {},
   "outputs": [
    {
     "name": "stdout",
     "output_type": "stream",
     "text": [
      "Model:\t\tEmbeddingDotBias\n",
      "Top K:\t\t10\n",
      "MAP:\t\t0.021975\n",
      "NDCG:\t\t0.136488\n",
      "Precision@K:\t0.123754\n",
      "Recall@K:\t0.051028\n"
     ]
    }
   ],
   "source": [
    "print(\"Model:\\t\\t\" + model.__class__.__name__,\n",
    "      \"Top K:\\t\\t%d\" % TOP_K,\n",
    "      \"MAP:\\t\\t%f\" % eval_map,\n",
    "      \"NDCG:\\t\\t%f\" % eval_ndcg,\n",
    "      \"Precision@K:\\t%f\" % eval_precision,\n",
    "      \"Recall@K:\\t%f\" % eval_recall, sep='\\n')"
   ]
  },
  {
   "cell_type": "code",
   "execution_count": 37,
   "metadata": {},
   "outputs": [
    {
     "name": "stdout",
     "output_type": "stream",
     "text": [
      "Model:\t\tEmbeddingDotBias\n",
      "Top K:\t\t10\n",
      "MAP:\t\t0.021975\n",
      "NDCG:\t\t0.136488\n",
      "Precision@K:\t0.123754\n",
      "Recall@K:\t0.051028\n"
     ]
    }
   ],
   "source": [
    "print(\"Model:\\t\\t\" + model.__class__.__name__,\n",
    "      \"Top K:\\t\\t%d\" % TOP_K,\n",
    "      \"MAP:\\t\\t%f\" % eval_map,\n",
    "      \"NDCG:\\t\\t%f\" % eval_ndcg,\n",
    "      \"Precision@K:\\t%f\" % eval_precision,\n",
    "      \"Recall@K:\\t%f\" % eval_recall, sep='\\n')"
   ]
  },
  {
   "cell_type": "code",
   "execution_count": 58,
   "metadata": {},
   "outputs": [],
   "source": [
    "scores = scoreV2(model,\n",
    "                data,\n",
    "               test_df=test_df.copy(), \n",
    "               user_col=USER, \n",
    "               item_col=ITEM, \n",
    "               prediction_col=PREDICTION)"
   ]
  },
  {
   "cell_type": "code",
   "execution_count": 59,
   "metadata": {},
   "outputs": [
    {
     "name": "stdout",
     "output_type": "stream",
     "text": [
      "Model:\t\t\tEmbeddingDotBias\n",
      "RMSE:\t\t\t0.910242\n",
      "MAE:\t\t\t0.714374\n",
      "Explained variance:\t0.347097\n",
      "R squared:\t\t0.347089\n"
     ]
    }
   ],
   "source": [
    "eval_r2 = rsquared(test_df, scores, col_user=USER, col_item=ITEM, col_rating=RATING, col_prediction=PREDICTION)\n",
    "eval_rmse = rmse(test_df, scores, col_user=USER, col_item=ITEM, col_rating=RATING, col_prediction=PREDICTION)\n",
    "eval_mae = mae(test_df, scores, col_user=USER, col_item=ITEM, col_rating=RATING, col_prediction=PREDICTION)\n",
    "eval_exp_var = exp_var(test_df, scores, col_user=USER, col_item=ITEM, col_rating=RATING, col_prediction=PREDICTION)\n",
    "\n",
    "print(\"Model:\\t\\t\\t\" + model.__class__.__name__,\n",
    "      \"RMSE:\\t\\t\\t%f\" % eval_rmse,\n",
    "      \"MAE:\\t\\t\\t%f\" % eval_mae,\n",
    "      \"Explained variance:\\t%f\" % eval_exp_var,\n",
    "      \"R squared:\\t\\t%f\" % eval_r2, sep='\\n')"
   ]
  }
 ],
 "metadata": {
  "language_info": {
   "name": "python"
  }
 },
 "nbformat": 4,
 "nbformat_minor": 2
}
