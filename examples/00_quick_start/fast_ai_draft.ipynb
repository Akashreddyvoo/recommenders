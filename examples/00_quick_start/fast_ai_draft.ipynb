{
 "cells": [
  {
   "cell_type": "code",
   "execution_count": 1,
   "metadata": {},
   "outputs": [
    {
     "name": "stdout",
     "output_type": "stream",
     "text": [
      "System version: 3.10.10 (main, Mar 21 2023, 18:45:11) [GCC 11.2.0]\n",
      "Pandas version: 2.2.3\n",
      "Fast AI version: 2.8.1\n",
      "Torch version: 2.6.0+cu124\n",
      "CUDA Available: False\n",
      "CuDNN Enabled: True\n"
     ]
    }
   ],
   "source": [
    "# Suppress all warnings\n",
    "import warnings\n",
    "warnings.filterwarnings(\"ignore\")\n",
    "\n",
    "import os\n",
    "import sys\n",
    "import numpy as np\n",
    "import pandas as pd\n",
    "import torch\n",
    "import fastai\n",
    "from tempfile import TemporaryDirectory\n",
    "\n",
    "from fastai.collab import collab_learner, CollabDataLoaders, load_learner\n",
    "\n",
    "from recommenders.utils.constants import (\n",
    "    DEFAULT_USER_COL as USER, \n",
    "    DEFAULT_ITEM_COL as ITEM, \n",
    "    DEFAULT_RATING_COL as RATING, \n",
    "    DEFAULT_TIMESTAMP_COL as TIMESTAMP, \n",
    "    DEFAULT_PREDICTION_COL as PREDICTION\n",
    ") \n",
    "from recommenders.utils.timer import Timer\n",
    "from recommenders.datasets import movielens\n",
    "from recommenders.datasets.python_splitters import python_stratified_split\n",
    "from recommenders.models.fastai.fastai_utils import cartesian_product, score\n",
    "from recommenders.evaluation.python_evaluation import map, ndcg_at_k, precision_at_k, recall_at_k\n",
    "from recommenders.evaluation.python_evaluation import rmse, mae, rsquared, exp_var\n",
    "from recommenders.utils.notebook_utils import store_metadata\n",
    "\n",
    "print(\"System version: {}\".format(sys.version))\n",
    "print(\"Pandas version: {}\".format(pd.__version__))\n",
    "print(\"Fast AI version: {}\".format(fastai.__version__))\n",
    "print(\"Torch version: {}\".format(torch.__version__))\n",
    "print(\"CUDA Available: {}\".format(torch.cuda.is_available()))\n",
    "print(\"CuDNN Enabled: {}\".format(torch.backends.cudnn.enabled))"
   ]
  },
  {
   "cell_type": "code",
   "execution_count": 2,
   "metadata": {},
   "outputs": [],
   "source": [
    "# top k items to recommend\n",
    "TOP_K = 10\n",
    "\n",
    "# Select MovieLens data size: 100k, 1m, 10m, or 20m\n",
    "MOVIELENS_DATA_SIZE = '100k'\n",
    "\n",
    "# Model parameters\n",
    "N_FACTORS = 40\n",
    "EPOCHS = 5"
   ]
  },
  {
   "cell_type": "code",
   "execution_count": 3,
   "metadata": {},
   "outputs": [
    {
     "name": "stderr",
     "output_type": "stream",
     "text": [
      "100%|██████████| 4.81k/4.81k [00:00<00:00, 12.5kKB/s]\n"
     ]
    },
    {
     "data": {
      "text/html": [
       "<div>\n",
       "<style scoped>\n",
       "    .dataframe tbody tr th:only-of-type {\n",
       "        vertical-align: middle;\n",
       "    }\n",
       "\n",
       "    .dataframe tbody tr th {\n",
       "        vertical-align: top;\n",
       "    }\n",
       "\n",
       "    .dataframe thead th {\n",
       "        text-align: right;\n",
       "    }\n",
       "</style>\n",
       "<table border=\"1\" class=\"dataframe\">\n",
       "  <thead>\n",
       "    <tr style=\"text-align: right;\">\n",
       "      <th></th>\n",
       "      <th>userID</th>\n",
       "      <th>itemID</th>\n",
       "      <th>rating</th>\n",
       "      <th>timestamp</th>\n",
       "    </tr>\n",
       "  </thead>\n",
       "  <tbody>\n",
       "    <tr>\n",
       "      <th>0</th>\n",
       "      <td>196</td>\n",
       "      <td>242</td>\n",
       "      <td>3.0</td>\n",
       "      <td>881250949</td>\n",
       "    </tr>\n",
       "    <tr>\n",
       "      <th>1</th>\n",
       "      <td>186</td>\n",
       "      <td>302</td>\n",
       "      <td>3.0</td>\n",
       "      <td>891717742</td>\n",
       "    </tr>\n",
       "    <tr>\n",
       "      <th>2</th>\n",
       "      <td>22</td>\n",
       "      <td>377</td>\n",
       "      <td>1.0</td>\n",
       "      <td>878887116</td>\n",
       "    </tr>\n",
       "    <tr>\n",
       "      <th>3</th>\n",
       "      <td>244</td>\n",
       "      <td>51</td>\n",
       "      <td>2.0</td>\n",
       "      <td>880606923</td>\n",
       "    </tr>\n",
       "    <tr>\n",
       "      <th>4</th>\n",
       "      <td>166</td>\n",
       "      <td>346</td>\n",
       "      <td>1.0</td>\n",
       "      <td>886397596</td>\n",
       "    </tr>\n",
       "  </tbody>\n",
       "</table>\n",
       "</div>"
      ],
      "text/plain": [
       "  userID itemID  rating  timestamp\n",
       "0    196    242     3.0  881250949\n",
       "1    186    302     3.0  891717742\n",
       "2     22    377     1.0  878887116\n",
       "3    244     51     2.0  880606923\n",
       "4    166    346     1.0  886397596"
      ]
     },
     "execution_count": 3,
     "metadata": {},
     "output_type": "execute_result"
    }
   ],
   "source": [
    "ratings_df = movielens.load_pandas_df(\n",
    "    size=MOVIELENS_DATA_SIZE,\n",
    "    header=[USER,ITEM,RATING,TIMESTAMP]\n",
    ")\n",
    "\n",
    "# make sure the IDs are loaded as strings to better prevent confusion with embedding ids\n",
    "ratings_df[USER] = ratings_df[USER].astype('str')\n",
    "ratings_df[ITEM] = ratings_df[ITEM].astype('str')\n",
    "\n",
    "ratings_df.head()"
   ]
  },
  {
   "cell_type": "code",
   "execution_count": 4,
   "metadata": {},
   "outputs": [],
   "source": [
    "# Split the dataset\n",
    "train_valid_df, test_df = python_stratified_split(\n",
    "    ratings_df, \n",
    "    ratio=0.75, \n",
    "    min_rating=1, \n",
    "    filter_by=\"item\", \n",
    "    col_user=USER, \n",
    "    col_item=ITEM\n",
    ")"
   ]
  },
  {
   "cell_type": "code",
   "execution_count": 5,
   "metadata": {},
   "outputs": [],
   "source": [
    "# Remove \"cold\" users from test set  \n",
    "test_df = test_df[test_df.userID.isin(train_valid_df.userID)]"
   ]
  },
  {
   "cell_type": "markdown",
   "metadata": {},
   "source": [
    "## Training"
   ]
  },
  {
   "cell_type": "code",
   "execution_count": 6,
   "metadata": {},
   "outputs": [],
   "source": [
    "# fix random seeds to make sure our runs are reproducible\n",
    "np.random.seed(101)\n",
    "torch.manual_seed(101)\n",
    "torch.cuda.manual_seed_all(101)"
   ]
  },
  {
   "cell_type": "code",
   "execution_count": 7,
   "metadata": {},
   "outputs": [],
   "source": [
    "with Timer() as preprocess_time:\n",
    "    data = CollabDataLoaders.from_df(train_valid_df, \n",
    "                                     user_name=USER, \n",
    "                                     item_name=ITEM, \n",
    "                                     rating_name=RATING, \n",
    "                                     valid_pct=0)"
   ]
  },
  {
   "cell_type": "code",
   "execution_count": 8,
   "metadata": {},
   "outputs": [
    {
     "data": {
      "text/html": [
       "<table border=\"1\" class=\"dataframe\">\n",
       "  <thead>\n",
       "    <tr style=\"text-align: right;\">\n",
       "      <th></th>\n",
       "      <th>userID</th>\n",
       "      <th>itemID</th>\n",
       "      <th>rating</th>\n",
       "    </tr>\n",
       "  </thead>\n",
       "  <tbody>\n",
       "    <tr>\n",
       "      <th>0</th>\n",
       "      <td>447</td>\n",
       "      <td>183</td>\n",
       "      <td>5.0</td>\n",
       "    </tr>\n",
       "    <tr>\n",
       "      <th>1</th>\n",
       "      <td>445</td>\n",
       "      <td>886</td>\n",
       "      <td>3.0</td>\n",
       "    </tr>\n",
       "    <tr>\n",
       "      <th>2</th>\n",
       "      <td>121</td>\n",
       "      <td>427</td>\n",
       "      <td>4.0</td>\n",
       "    </tr>\n",
       "    <tr>\n",
       "      <th>3</th>\n",
       "      <td>478</td>\n",
       "      <td>145</td>\n",
       "      <td>1.0</td>\n",
       "    </tr>\n",
       "    <tr>\n",
       "      <th>4</th>\n",
       "      <td>398</td>\n",
       "      <td>476</td>\n",
       "      <td>3.0</td>\n",
       "    </tr>\n",
       "    <tr>\n",
       "      <th>5</th>\n",
       "      <td>457</td>\n",
       "      <td>717</td>\n",
       "      <td>3.0</td>\n",
       "    </tr>\n",
       "    <tr>\n",
       "      <th>6</th>\n",
       "      <td>435</td>\n",
       "      <td>366</td>\n",
       "      <td>2.0</td>\n",
       "    </tr>\n",
       "    <tr>\n",
       "      <th>7</th>\n",
       "      <td>752</td>\n",
       "      <td>322</td>\n",
       "      <td>1.0</td>\n",
       "    </tr>\n",
       "    <tr>\n",
       "      <th>8</th>\n",
       "      <td>588</td>\n",
       "      <td>95</td>\n",
       "      <td>4.0</td>\n",
       "    </tr>\n",
       "    <tr>\n",
       "      <th>9</th>\n",
       "      <td>554</td>\n",
       "      <td>216</td>\n",
       "      <td>3.0</td>\n",
       "    </tr>\n",
       "  </tbody>\n",
       "</table>"
      ],
      "text/plain": [
       "<IPython.core.display.HTML object>"
      ]
     },
     "metadata": {},
     "output_type": "display_data"
    }
   ],
   "source": [
    "data.show_batch()"
   ]
  },
  {
   "cell_type": "code",
   "execution_count": 9,
   "metadata": {},
   "outputs": [],
   "source": [
    "from fastai.tabular.model import get_emb_sz, tabular_config\n",
    "from fastai.losses import MSELossFlat\n",
    "from fastcore.basics import ifnone"
   ]
  },
  {
   "cell_type": "code",
   "execution_count": 10,
   "metadata": {},
   "outputs": [],
   "source": [
    "import torch\n",
    "import torch.nn as nn\n",
    "from fastai.layers import Embedding\n",
    "from fastai.torch_core import Module, to_detach\n",
    "from fastai.basics import ifnone\n",
    "from fastai.torch_core import tensor\n",
    "\n",
    "class EmbeddingDotBias(Module):\n",
    "    \"Base dot model for collaborative filtering.\"\n",
    "    def __init__(self, n_factors, n_users, n_items, y_range=None):\n",
    "        self.y_range = y_range\n",
    "        (self.u_weight, self.i_weight, self.u_bias, self.i_bias) = [Embedding(*o) for o in [\n",
    "            (n_users, n_factors), (n_items, n_factors), (n_users,1), (n_items,1)\n",
    "        ]]\n",
    "\n",
    "    def forward(self, x):\n",
    "        users,items = x[:,0],x[:,1]\n",
    "        dot = self.u_weight(users)* self.i_weight(items)\n",
    "        res = dot.sum(1) + self.u_bias(users).squeeze() + self.i_bias(items).squeeze()\n",
    "        if self.y_range is None: return res\n",
    "        return torch.sigmoid(res) * (self.y_range[1]-self.y_range[0]) + self.y_range[0]\n",
    "\n",
    "    @classmethod\n",
    "    def from_classes(cls, n_factors, classes, user=None, item=None, y_range=None):\n",
    "        \"Build a model with `n_factors` by inferring `n_users` and  `n_items` from `classes`\"\n",
    "        if user is None: user = list(classes.keys())[0]\n",
    "        if item is None: item = list(classes.keys())[1]\n",
    "        res = cls(n_factors, len(classes[user]), len(classes[item]), y_range=y_range)\n",
    "        res.classes,res.user,res.item = classes,user,item\n",
    "        return res\n",
    "\n",
    "    def _get_idx(self, arr, is_item=True):\n",
    "        \"Fetch item or user (based on `is_item`) for all in `arr`\"\n",
    "        assert hasattr(self, 'classes'), \"Build your model with `EmbeddingDotBias.from_classes` to use this functionality.\"\n",
    "        classes = self.classes[self.item] if is_item else self.classes[self.user]\n",
    "        c2i = {v:k for k,v in enumerate(classes)}\n",
    "        try: return tensor([c2i[o] for o in arr])\n",
    "        except KeyError as e:\n",
    "            message = f\"You're trying to access {'an item' if is_item else 'a user'} that isn't in the training data. If it was in your original data, it may have been split such that it's only in the validation set now.\"\n",
    "            raise modify_exception(e, message, replace=True)\n",
    "\n",
    "    def bias(self, arr, is_item=True):\n",
    "        \"Bias for item or user (based on `is_item`) for all in `arr`\"\n",
    "        idx = self._get_idx(arr, is_item)\n",
    "        layer = (self.i_bias if is_item else self.u_bias).eval().cpu()\n",
    "        return to_detach(layer(idx).squeeze(),gather=False)\n",
    "\n",
    "    def weight(self, arr, is_item=True):\n",
    "        \"Weight for item or user (based on `is_item`) for all in `arr`\"\n",
    "        idx = self._get_idx(arr, is_item)\n",
    "        layer = (self.i_weight if is_item else self.u_weight).eval().cpu()\n",
    "        return to_detach(layer(idx),gather=False)"
   ]
  },
  {
   "cell_type": "code",
   "execution_count": 88,
   "metadata": {},
   "outputs": [],
   "source": [
    "y_range=[0,5.5]"
   ]
  },
  {
   "cell_type": "code",
   "execution_count": 89,
   "metadata": {},
   "outputs": [],
   "source": [
    "# 3. Create model\n",
    "n_factors = 40\n",
    "model = EmbeddingDotBias.from_classes(\n",
    "    n_factors=n_factors,\n",
    "    classes=data.classes,\n",
    "    user='userID',\n",
    "    item='itemID',\n",
    "    y_range=y_range\n",
    ")"
   ]
  },
  {
   "cell_type": "code",
   "execution_count": 90,
   "metadata": {},
   "outputs": [],
   "source": [
    "import torch\n",
    "import torch.nn as nn\n",
    "import torch.optim as optim\n",
    "from fastai.losses import MSELossFlat"
   ]
  },
  {
   "cell_type": "code",
   "execution_count": 93,
   "metadata": {},
   "outputs": [],
   "source": [
    "# 4. Setup training\n",
    "device = torch.device('cuda' if torch.cuda.is_available() else 'cpu')\n",
    "model = model.to(device)\n",
    "optimizer = optim.AdamW(model.parameters(), \n",
    "    lr=1e-3,\n",
    "    betas=(0.9, 0.99),\n",
    "    eps=1e-5,\n",
    "    weight_decay=0.01\n",
    ")\n",
    "loss_fn = MSELossFlat()"
   ]
  },
  {
   "cell_type": "code",
   "execution_count": 94,
   "metadata": {},
   "outputs": [
    {
     "data": {
      "text/plain": [
       "device(type='cpu')"
      ]
     },
     "execution_count": 94,
     "metadata": {},
     "output_type": "execute_result"
    }
   ],
   "source": [
    "device"
   ]
  },
  {
   "cell_type": "code",
   "execution_count": 51,
   "metadata": {},
   "outputs": [
    {
     "name": "stdout",
     "output_type": "stream",
     "text": [
      "Epoch 1/7:\n",
      "Train Loss: 1.3133113299315293\n",
      "Valid Loss: None\n",
      "Epoch 2/7:\n",
      "Train Loss: 0.8673861778179126\n",
      "Valid Loss: None\n",
      "Epoch 3/7:\n",
      "Train Loss: 0.7958553408752529\n",
      "Valid Loss: None\n",
      "Epoch 4/7:\n",
      "Train Loss: 0.7252955946041455\n",
      "Valid Loss: None\n",
      "Epoch 5/7:\n",
      "Train Loss: 0.6661141418149447\n",
      "Valid Loss: None\n",
      "Epoch 6/7:\n",
      "Train Loss: 0.6091437903026266\n",
      "Valid Loss: None\n",
      "Epoch 7/7:\n",
      "Train Loss: 0.5478217573550374\n",
      "Valid Loss: None\n"
     ]
    }
   ],
   "source": [
    "\n",
    "# 5. Training loop\n",
    "def train_epoch(model, train_dl, optimizer, loss_fn, device):\n",
    "    model.train()\n",
    "    total_loss = 0\n",
    "    for batch in train_dl:\n",
    "        # Get batch data\n",
    "        users_items, ratings = batch\n",
    "        users_items = users_items.to(device)\n",
    "        ratings = ratings.to(device)\n",
    "        \n",
    "        # Forward pass\n",
    "        predictions = model(users_items)\n",
    "        loss = loss_fn(predictions, ratings)\n",
    "        \n",
    "        # Backward pass\n",
    "        optimizer.zero_grad()\n",
    "        loss.backward()\n",
    "        optimizer.step()\n",
    "        \n",
    "        total_loss += loss.item()\n",
    "    \n",
    "    return total_loss / len(train_dl)\n",
    "\n",
    "def validate(model, valid_dl, loss_fn, device):\n",
    "    model.eval()\n",
    "    total_loss = 0\n",
    "    try:\n",
    "        with torch.no_grad():\n",
    "            for batch in valid_dl:\n",
    "                users_items, ratings = batch\n",
    "                users_items = users_items.to(device)\n",
    "                ratings = ratings.to(device)\n",
    "                \n",
    "                predictions = model(users_items)\n",
    "                loss = loss_fn(predictions, ratings)\n",
    "                total_loss += loss.item()\n",
    "        \n",
    "        return total_loss / len(valid_dl)\n",
    "    except ZeroDivisionError:\n",
    "        return None\n",
    "\n",
    "# 6. Train the model\n",
    "n_epochs = 7\n",
    "for epoch in range(n_epochs):\n",
    "    train_loss = train_epoch(model, data.train, optimizer, loss_fn, device)\n",
    "    valid_loss = validate(model, data.valid, loss_fn, device)\n",
    "    print(f'Epoch {epoch+1}/{n_epochs}:')\n",
    "    print(f'Train Loss: {train_loss}')\n",
    "    print(f'Valid Loss: {valid_loss}')\n",
    "\n",
    "# 7. Make prediction"
   ]
  },
  {
   "cell_type": "code",
   "execution_count": 52,
   "metadata": {},
   "outputs": [],
   "source": [
    "def predict_rating(model, user_id, item_id):\n",
    "    model.eval()\n",
    "    with torch.no_grad():\n",
    "        try:\n",
    "            print(f\"Trying to predict for user {user_id} and item {item_id}\")\n",
    "            print(f\"Available users: {model.classes[USER][:5]}...\")  # Print first 5 users\n",
    "            print(f\"Available items: {model.classes[ITEM][:5]}...\")  # Print first 5 items\n",
    "            \n",
    "            # Convert user and item IDs to indices\n",
    "            user_idx = model._get_idx([user_id], is_item=False)\n",
    "            item_idx = model._get_idx([item_id], is_item=True)\n",
    "            \n",
    "            # Create input tensor\n",
    "            x = torch.stack([user_idx, item_idx], dim=1).to(device)\n",
    "            \n",
    "            # Get prediction\n",
    "            pred = model(x)\n",
    "            return pred.item()\n",
    "        except Exception as e:\n",
    "            print(f\"Error in prediction: {str(e)}\")\n",
    "            return None"
   ]
  },
  {
   "cell_type": "code",
   "execution_count": 53,
   "metadata": {},
   "outputs": [
    {
     "data": {
      "text/plain": [
       "(#5) ['#na#','1','10','100','101']"
      ]
     },
     "execution_count": 53,
     "metadata": {},
     "output_type": "execute_result"
    }
   ],
   "source": [
    "model.classes[USER][:5]"
   ]
  },
  {
   "cell_type": "code",
   "execution_count": 54,
   "metadata": {},
   "outputs": [
    {
     "data": {
      "text/plain": [
       "(#5) ['#na#','1','10','100','1000']"
      ]
     },
     "execution_count": 54,
     "metadata": {},
     "output_type": "execute_result"
    }
   ],
   "source": [
    "model.classes[ITEM][:5]"
   ]
  },
  {
   "cell_type": "code",
   "execution_count": 55,
   "metadata": {},
   "outputs": [],
   "source": [
    "total_items = model.classes[ITEM][1:]\n",
    "total_users = model.classes[USER][1:]"
   ]
  },
  {
   "cell_type": "code",
   "execution_count": 56,
   "metadata": {},
   "outputs": [
    {
     "data": {
      "text/plain": [
       "(#943) ['1','10','100','101','102','103','104','105','106','107','108','109','11','110','111','112','113','114','115','116'...]"
      ]
     },
     "execution_count": 56,
     "metadata": {},
     "output_type": "execute_result"
    }
   ],
   "source": [
    "total_users"
   ]
  },
  {
   "cell_type": "code",
   "execution_count": 57,
   "metadata": {},
   "outputs": [
    {
     "data": {
      "text/plain": [
       "(#1682) ['1','10','100','1000','1001','1002','1003','1004','1005','1006','1007','1008','1009','101','1010','1011','1012','1013','1014','1015'...]"
      ]
     },
     "execution_count": 57,
     "metadata": {},
     "output_type": "execute_result"
    }
   ],
   "source": [
    "total_items"
   ]
  },
  {
   "cell_type": "code",
   "execution_count": 58,
   "metadata": {},
   "outputs": [],
   "source": [
    "# Get all users from the test set and remove any users that were know in the training set \n",
    "test_users = test_df[USER].unique()"
   ]
  },
  {
   "cell_type": "code",
   "execution_count": 59,
   "metadata": {},
   "outputs": [
    {
     "data": {
      "text/plain": [
       "array(['57', '141', '184', '15', '486', '738', '843', '18', '434', '761',\n",
       "       '692', '777', '913', '38', '472', '295', '311', '174', '938',\n",
       "       '458', '246', '560', '487', '545', '389', '715', '537', '521',\n",
       "       '930', '177', '865', '365', '468', '882', '263', '79', '83', '664',\n",
       "       '663', '505', '540', '411', '933', '674', '6', '350', '327', '895',\n",
       "       '742', '465', '710', '293', '460', '387', '390', '454', '339',\n",
       "       '84', '463', '577', '941', '42', '265', '77', '868', '234', '344',\n",
       "       '471', '20', '81', '137', '550', '503', '621', '330', '676', '280',\n",
       "       '374', '854', '419', '916', '648', '745', '210', '727', '716',\n",
       "       '200', '554', '549', '896', '934', '885', '13', '262', '459',\n",
       "       '150', '689', '160', '438', '66', '735', '654', '253', '893',\n",
       "       '649', '562', '838', '887', '5', '41', '817', '45', '618', '268',\n",
       "       '279', '181', '790', '416', '506', '514', '565', '423', '906',\n",
       "       '378', '500', '312', '862', '518', '49', '733', '104', '373',\n",
       "       '424', '414', '606', '814', '28', '32', '525', '301', '85', '546',\n",
       "       '678', '474', '421', '267', '874', '792', '113', '604', '151',\n",
       "       '264', '343', '860', '552', '331', '115', '277', '527', '758', '2',\n",
       "       '395', '420', '188', '579', '751', '839', '397', '910', '520',\n",
       "       '569', '445', '478', '488', '786', '90', '907', '216', '349', '24',\n",
       "       '186', '299', '665', '555', '323', '551', '442', '58', '157',\n",
       "       '156', '236', '919', '891', '198', '644', '106', '235', '588',\n",
       "       '44', '491', '398', '767', '591', '139', '615', '870', '617',\n",
       "       '763', '770', '864', '161', '614', '175', '27', '622', '109',\n",
       "       '492', '308', '572', '725', '594', '612', '87', '251', '480',\n",
       "       '222', '11', '881', '227', '821', '297', '199', '566', '592',\n",
       "       '125', '796', '145', '82', '533', '159', '178', '846', '189',\n",
       "       '433', '639', '23', '358', '334', '449', '707', '422', '675', '30',\n",
       "       '342', '789', '430', '176', '345', '456', '903', '52', '859', '59',\n",
       "       '296', '837', '657', '223', '765', '94', '406', '677', '92', '620',\n",
       "       '307', '805', '450', '749', '286', '595', '292', '699', '936',\n",
       "       '943', '320', '501', '162', '332', '429', '221', '303', '682',\n",
       "       '63', '730', '117', '653', '806', '336', '833', '392', '26', '624',\n",
       "       '62', '847', '831', '403', '213', '54', '291', '493', '825', '363',\n",
       "       '116', '314', '782', '250', '768', '851', '593', '318', '385',\n",
       "       '880', '793', '523', '305', '158', '453', '889', '417', '507',\n",
       "       '99', '55', '144', '894', '935', '337', '741', '168', '382', '655',\n",
       "       '840', '561', '773', '381', '884', '322', '130', '31', '43', '254',\n",
       "       '826', '543', '541', '102', '275', '239', '426', '660', '625',\n",
       "       '659', '848', '932', '855', '204', '257', '798', '428', '695',\n",
       "       '46', '309', '853', '721', '260', '809', '341', '802', '642',\n",
       "       '347', '708', '690', '269', '244', '632', '872', '396', '714',\n",
       "       '779', '276', '769', '921', '804', '457', '405', '536', '795',\n",
       "       '70', '379', '245', '435', '807', '455', '922', '778', '927',\n",
       "       '152', '290', '712', '476', '143', '740', '451', '650', '641',\n",
       "       '316', '535', '380', '128', '360', '496', '361', '586', '256',\n",
       "       '328', '705', '65', '524', '627', '747', '122', '375', '504',\n",
       "       '135', '495', '180', '823', '497', '901', '647', '294', '517',\n",
       "       '718', '703', '101', '697', '76', '439', '75', '364', '447', '402',\n",
       "       '207', '923', '119', '409', '321', '897', '67', '393', '630',\n",
       "       '201', '452', '56', '224', '542', '709', '534', '939', '756',\n",
       "       '399', '348', '436', '869', '206', '720', '448', '383', '698',\n",
       "       '799', '835', '354', '836', '64', '313', '287', '490', '325',\n",
       "       '498', '875', '601', '640', '643', '711', '437', '892', '283',\n",
       "       '249', '1', '479', '315', '526', '103', '425', '289', '679', '432',\n",
       "       '467', '183', '532', '599', '670', '686', '693', '608', '329',\n",
       "       '124', '466', '788', '16', '462', '671', '10', '95', '22', '878',\n",
       "       '271', '899', '209', '351', '484', '597', '14', '879', '274',\n",
       "       '914', '717', '904', '193', '553', '247', '89', '822', '600', '72',\n",
       "       '346', '194', '407', '829', '585', '883', '568', '326', '97',\n",
       "       '724', '863', '752', '771', '214', '633', '470', '192', '25',\n",
       "       '584', '370', '69', '473', '148', '508', '96', '666', '464', '306',\n",
       "       '185', '136', '651', '931', '857', '794', '259', '924', '746',\n",
       "       '233', '37', '844', '255', '261', '629', '637', '602', '669',\n",
       "       '401', '728', '726', '774', '499', '357', '371', '834', '867',\n",
       "       '605', '918', '172', '126', '759', '582', '121', '757', '386',\n",
       "       '684', '298', '748', '394', '7', '719', '110', '634', '754', '886',\n",
       "       '556', '908', '613', '138', '288', '218', '60', '911', '53', '607',\n",
       "       '636', '764', '871', '164', '564', '619', '513', '270', '800',\n",
       "       '461', '494', '694', '900', '108', '74', '776', '942', '197',\n",
       "       '195', '580', '100', '668', '571', '722', '131', '132', '196',\n",
       "       '489', '557', '706', '576', '760', '93', '230', '609', '238',\n",
       "       '182', '231', '590', '578', '440', '587', '573', '272', '766',\n",
       "       '475', '737', '12', '744', '658', '701', '165', '73', '248', '120',\n",
       "       '469', '736', '683', '544', '905', '146', '841', '149', '567',\n",
       "       '596', '217', '667', '190', '646', '179', '219', '912', '215',\n",
       "       '391', '232', '849', '815', '929', '91', '661', '704', '581',\n",
       "       '415', '225', '48', '243', '680', '723', '187', '310', '842',\n",
       "       '845', '937', '324', '909', '877', '376', '413', '123', '266',\n",
       "       '340', '538', '8', '828', '51', '477', '672', '731', '743', '558',\n",
       "       '21', '412', '852', '285', '662', '631', '850', '333', '819', '71',\n",
       "       '610', '118', '548', '830', '940', '519', '559', '530', '372',\n",
       "       '734', '563', '338', '377', '628', '98', '367', '366', '861',\n",
       "       '691', '739', '169', '528', '781', '153', '226', '645', '780',\n",
       "       '603', '638', '583', '443', '142', '352', '902', '890', '575',\n",
       "       '696', '212', '114', '700', '237', '888', '29', '522', '516',\n",
       "       '832', '509', '369', '368', '167', '623', '202', '753', '483',\n",
       "       '785', '154', '512', '19', '163', '481', '80', '208', '211', '925',\n",
       "       '388', '598', '17', '635', '762', '917', '876', '539', '111',\n",
       "       '173', '803', '9', '35', '129', '898', '482', '258', '61', '300',\n",
       "       '510', '732', '404', '127', '515', '687', '353', '240', '155',\n",
       "       '529', '808', '775', '362', '335', '34', '278', '616', '446',\n",
       "       '574', '818', '203', '78', '444', '797', '33', '4', '502', '673',\n",
       "       '410', '229', '926', '408', '107', '39', '750', '589', '3', '400',\n",
       "       '856', '784', '873', '652', '702', '787', '355', '133', '319',\n",
       "       '611', '171', '427', '317', '783', '928', '302', '813', '105',\n",
       "       '40', '273', '47', '827', '626', '134', '485', '755', '220', '791',\n",
       "       '920', '282', '816', '304', '820', '729', '713', '191', '384',\n",
       "       '866', '228', '252', '570', '531', '656', '858', '166', '140',\n",
       "       '356', '36', '688', '86', '284', '824', '812', '241', '801', '359',\n",
       "       '441', '810', '112', '281', '147', '547', '242', '681', '772',\n",
       "       '811', '88', '915', '205', '431', '685', '50', '418', '170', '511',\n",
       "       '68'], dtype=object)"
      ]
     },
     "execution_count": 59,
     "metadata": {},
     "output_type": "execute_result"
    }
   ],
   "source": [
    "test_users"
   ]
  },
  {
   "cell_type": "code",
   "execution_count": 60,
   "metadata": {},
   "outputs": [],
   "source": [
    "test_users = np.intersect1d(test_users, total_users)"
   ]
  },
  {
   "cell_type": "code",
   "execution_count": 61,
   "metadata": {},
   "outputs": [
    {
     "data": {
      "text/plain": [
       "array(['1', '10', '100', '101', '102', '103', '104', '105', '106', '107',\n",
       "       '108', '109', '11', '110', '111', '112', '113', '114', '115',\n",
       "       '116', '117', '118', '119', '12', '120', '121', '122', '123',\n",
       "       '124', '125', '126', '127', '128', '129', '13', '130', '131',\n",
       "       '132', '133', '134', '135', '136', '137', '138', '139', '14',\n",
       "       '140', '141', '142', '143', '144', '145', '146', '147', '148',\n",
       "       '149', '15', '150', '151', '152', '153', '154', '155', '156',\n",
       "       '157', '158', '159', '16', '160', '161', '162', '163', '164',\n",
       "       '165', '166', '167', '168', '169', '17', '170', '171', '172',\n",
       "       '173', '174', '175', '176', '177', '178', '179', '18', '180',\n",
       "       '181', '182', '183', '184', '185', '186', '187', '188', '189',\n",
       "       '19', '190', '191', '192', '193', '194', '195', '196', '197',\n",
       "       '198', '199', '2', '20', '200', '201', '202', '203', '204', '205',\n",
       "       '206', '207', '208', '209', '21', '210', '211', '212', '213',\n",
       "       '214', '215', '216', '217', '218', '219', '22', '220', '221',\n",
       "       '222', '223', '224', '225', '226', '227', '228', '229', '23',\n",
       "       '230', '231', '232', '233', '234', '235', '236', '237', '238',\n",
       "       '239', '24', '240', '241', '242', '243', '244', '245', '246',\n",
       "       '247', '248', '249', '25', '250', '251', '252', '253', '254',\n",
       "       '255', '256', '257', '258', '259', '26', '260', '261', '262',\n",
       "       '263', '264', '265', '266', '267', '268', '269', '27', '270',\n",
       "       '271', '272', '273', '274', '275', '276', '277', '278', '279',\n",
       "       '28', '280', '281', '282', '283', '284', '285', '286', '287',\n",
       "       '288', '289', '29', '290', '291', '292', '293', '294', '295',\n",
       "       '296', '297', '298', '299', '3', '30', '300', '301', '302', '303',\n",
       "       '304', '305', '306', '307', '308', '309', '31', '310', '311',\n",
       "       '312', '313', '314', '315', '316', '317', '318', '319', '32',\n",
       "       '320', '321', '322', '323', '324', '325', '326', '327', '328',\n",
       "       '329', '33', '330', '331', '332', '333', '334', '335', '336',\n",
       "       '337', '338', '339', '34', '340', '341', '342', '343', '344',\n",
       "       '345', '346', '347', '348', '349', '35', '350', '351', '352',\n",
       "       '353', '354', '355', '356', '357', '358', '359', '36', '360',\n",
       "       '361', '362', '363', '364', '365', '366', '367', '368', '369',\n",
       "       '37', '370', '371', '372', '373', '374', '375', '376', '377',\n",
       "       '378', '379', '38', '380', '381', '382', '383', '384', '385',\n",
       "       '386', '387', '388', '389', '39', '390', '391', '392', '393',\n",
       "       '394', '395', '396', '397', '398', '399', '4', '40', '400', '401',\n",
       "       '402', '403', '404', '405', '406', '407', '408', '409', '41',\n",
       "       '410', '411', '412', '413', '414', '415', '416', '417', '418',\n",
       "       '419', '42', '420', '421', '422', '423', '424', '425', '426',\n",
       "       '427', '428', '429', '43', '430', '431', '432', '433', '434',\n",
       "       '435', '436', '437', '438', '439', '44', '440', '441', '442',\n",
       "       '443', '444', '445', '446', '447', '448', '449', '45', '450',\n",
       "       '451', '452', '453', '454', '455', '456', '457', '458', '459',\n",
       "       '46', '460', '461', '462', '463', '464', '465', '466', '467',\n",
       "       '468', '469', '47', '470', '471', '472', '473', '474', '475',\n",
       "       '476', '477', '478', '479', '48', '480', '481', '482', '483',\n",
       "       '484', '485', '486', '487', '488', '489', '49', '490', '491',\n",
       "       '492', '493', '494', '495', '496', '497', '498', '499', '5', '50',\n",
       "       '500', '501', '502', '503', '504', '505', '506', '507', '508',\n",
       "       '509', '51', '510', '511', '512', '513', '514', '515', '516',\n",
       "       '517', '518', '519', '52', '520', '521', '522', '523', '524',\n",
       "       '525', '526', '527', '528', '529', '53', '530', '531', '532',\n",
       "       '533', '534', '535', '536', '537', '538', '539', '54', '540',\n",
       "       '541', '542', '543', '544', '545', '546', '547', '548', '549',\n",
       "       '55', '550', '551', '552', '553', '554', '555', '556', '557',\n",
       "       '558', '559', '56', '560', '561', '562', '563', '564', '565',\n",
       "       '566', '567', '568', '569', '57', '570', '571', '572', '573',\n",
       "       '574', '575', '576', '577', '578', '579', '58', '580', '581',\n",
       "       '582', '583', '584', '585', '586', '587', '588', '589', '59',\n",
       "       '590', '591', '592', '593', '594', '595', '596', '597', '598',\n",
       "       '599', '6', '60', '600', '601', '602', '603', '604', '605', '606',\n",
       "       '607', '608', '609', '61', '610', '611', '612', '613', '614',\n",
       "       '615', '616', '617', '618', '619', '62', '620', '621', '622',\n",
       "       '623', '624', '625', '626', '627', '628', '629', '63', '630',\n",
       "       '631', '632', '633', '634', '635', '636', '637', '638', '639',\n",
       "       '64', '640', '641', '642', '643', '644', '645', '646', '647',\n",
       "       '648', '649', '65', '650', '651', '652', '653', '654', '655',\n",
       "       '656', '657', '658', '659', '66', '660', '661', '662', '663',\n",
       "       '664', '665', '666', '667', '668', '669', '67', '670', '671',\n",
       "       '672', '673', '674', '675', '676', '677', '678', '679', '68',\n",
       "       '680', '681', '682', '683', '684', '685', '686', '687', '688',\n",
       "       '689', '69', '690', '691', '692', '693', '694', '695', '696',\n",
       "       '697', '698', '699', '7', '70', '700', '701', '702', '703', '704',\n",
       "       '705', '706', '707', '708', '709', '71', '710', '711', '712',\n",
       "       '713', '714', '715', '716', '717', '718', '719', '72', '720',\n",
       "       '721', '722', '723', '724', '725', '726', '727', '728', '729',\n",
       "       '73', '730', '731', '732', '733', '734', '735', '736', '737',\n",
       "       '738', '739', '74', '740', '741', '742', '743', '744', '745',\n",
       "       '746', '747', '748', '749', '75', '750', '751', '752', '753',\n",
       "       '754', '755', '756', '757', '758', '759', '76', '760', '761',\n",
       "       '762', '763', '764', '765', '766', '767', '768', '769', '77',\n",
       "       '770', '771', '772', '773', '774', '775', '776', '777', '778',\n",
       "       '779', '78', '780', '781', '782', '783', '784', '785', '786',\n",
       "       '787', '788', '789', '79', '790', '791', '792', '793', '794',\n",
       "       '795', '796', '797', '798', '799', '8', '80', '800', '801', '802',\n",
       "       '803', '804', '805', '806', '807', '808', '809', '81', '810',\n",
       "       '811', '812', '813', '814', '815', '816', '817', '818', '819',\n",
       "       '82', '820', '821', '822', '823', '824', '825', '826', '827',\n",
       "       '828', '829', '83', '830', '831', '832', '833', '834', '835',\n",
       "       '836', '837', '838', '839', '84', '840', '841', '842', '843',\n",
       "       '844', '845', '846', '847', '848', '849', '85', '850', '851',\n",
       "       '852', '853', '854', '855', '856', '857', '858', '859', '86',\n",
       "       '860', '861', '862', '863', '864', '865', '866', '867', '868',\n",
       "       '869', '87', '870', '871', '872', '873', '874', '875', '876',\n",
       "       '877', '878', '879', '88', '880', '881', '882', '883', '884',\n",
       "       '885', '886', '887', '888', '889', '89', '890', '891', '892',\n",
       "       '893', '894', '895', '896', '897', '898', '899', '9', '90', '900',\n",
       "       '901', '902', '903', '904', '905', '906', '907', '908', '909',\n",
       "       '91', '910', '911', '912', '913', '914', '915', '916', '917',\n",
       "       '918', '919', '92', '920', '921', '922', '923', '924', '925',\n",
       "       '926', '927', '928', '929', '93', '930', '931', '932', '933',\n",
       "       '934', '935', '936', '937', '938', '939', '94', '940', '941',\n",
       "       '942', '943', '95', '96', '97', '98', '99'], dtype=object)"
      ]
     },
     "execution_count": 61,
     "metadata": {},
     "output_type": "execute_result"
    }
   ],
   "source": [
    "test_users"
   ]
  },
  {
   "cell_type": "code",
   "execution_count": 62,
   "metadata": {},
   "outputs": [],
   "source": [
    "\n",
    "user_embeddings = model.weight(['1', '10'], is_item=False)"
   ]
  },
  {
   "cell_type": "code",
   "execution_count": 63,
   "metadata": {},
   "outputs": [
    {
     "data": {
      "text/plain": [
       "tensor([[-0.1048,  0.3249, -0.2006,  0.2101,  0.2772, -0.5145,  0.2459,  0.2221,\n",
       "          0.4579, -0.2994, -0.0732,  0.2747,  0.2688,  0.0817,  0.2250, -0.0390,\n",
       "          0.3556,  0.1781, -0.3167, -0.1528,  0.1455, -0.3536, -0.1514,  0.0931,\n",
       "         -0.1596, -0.3471,  0.3498, -0.1267, -0.3370, -0.1636, -0.2451,  0.1978,\n",
       "         -0.3226,  0.1124,  0.4129, -0.0341,  0.1606, -0.3904, -0.1992,  0.1793],\n",
       "        [-0.0316, -0.0526, -0.1815,  0.1249,  0.2481, -0.0657,  0.1219,  0.2211,\n",
       "         -0.2178, -0.1097, -0.2226,  0.1309,  0.1486,  0.0750,  0.2260, -0.1479,\n",
       "          0.1439,  0.2649, -0.1586, -0.0115,  0.1220, -0.0798,  0.0195,  0.1279,\n",
       "         -0.0204, -0.1194,  0.2746, -0.0832,  0.0102, -0.3449, -0.2135,  0.1516,\n",
       "          0.1070,  0.2587,  0.0801,  0.1401, -0.0299,  0.3534, -0.1786,  0.2045]])"
      ]
     },
     "execution_count": 63,
     "metadata": {},
     "output_type": "execute_result"
    }
   ],
   "source": [
    "user_embeddings"
   ]
  },
  {
   "cell_type": "code",
   "execution_count": 64,
   "metadata": {},
   "outputs": [
    {
     "name": "stdout",
     "output_type": "stream",
     "text": [
      "Trying to predict for user 1 and item 10\n",
      "Available users: ['#na#', '1', '10', '100', '101']...\n",
      "Available items: ['#na#', '1', '10', '100', '1000']...\n",
      "\n",
      "Predicted rating for user 1 and item 10: 4.051078796386719\n"
     ]
    }
   ],
   "source": [
    "\n",
    "# Example prediction\n",
    "user_id = \"1\"\n",
    "item_id = \"10\"\n",
    "predicted_rating = predict_rating(model, user_id, item_id)\n",
    "print(f'\\nPredicted rating for user {user_id} and item {item_id}: {predicted_rating}')"
   ]
  },
  {
   "cell_type": "code",
   "execution_count": 65,
   "metadata": {},
   "outputs": [
    {
     "data": {
      "text/plain": [
       "array(['1', '10', '100', '101', '102', '103', '104', '105', '106', '107',\n",
       "       '108', '109', '11', '110', '111', '112', '113', '114', '115',\n",
       "       '116', '117', '118', '119', '12', '120', '121', '122', '123',\n",
       "       '124', '125', '126', '127', '128', '129', '13', '130', '131',\n",
       "       '132', '133', '134', '135', '136', '137', '138', '139', '14',\n",
       "       '140', '141', '142', '143', '144', '145', '146', '147', '148',\n",
       "       '149', '15', '150', '151', '152', '153', '154', '155', '156',\n",
       "       '157', '158', '159', '16', '160', '161', '162', '163', '164',\n",
       "       '165', '166', '167', '168', '169', '17', '170', '171', '172',\n",
       "       '173', '174', '175', '176', '177', '178', '179', '18', '180',\n",
       "       '181', '182', '183', '184', '185', '186', '187', '188', '189',\n",
       "       '19', '190', '191', '192', '193', '194', '195', '196', '197',\n",
       "       '198', '199', '2', '20', '200', '201', '202', '203', '204', '205',\n",
       "       '206', '207', '208', '209', '21', '210', '211', '212', '213',\n",
       "       '214', '215', '216', '217', '218', '219', '22', '220', '221',\n",
       "       '222', '223', '224', '225', '226', '227', '228', '229', '23',\n",
       "       '230', '231', '232', '233', '234', '235', '236', '237', '238',\n",
       "       '239', '24', '240', '241', '242', '243', '244', '245', '246',\n",
       "       '247', '248', '249', '25', '250', '251', '252', '253', '254',\n",
       "       '255', '256', '257', '258', '259', '26', '260', '261', '262',\n",
       "       '263', '264', '265', '266', '267', '268', '269', '27', '270',\n",
       "       '271', '272', '273', '274', '275', '276', '277', '278', '279',\n",
       "       '28', '280', '281', '282', '283', '284', '285', '286', '287',\n",
       "       '288', '289', '29', '290', '291', '292', '293', '294', '295',\n",
       "       '296', '297', '298', '299', '3', '30', '300', '301', '302', '303',\n",
       "       '304', '305', '306', '307', '308', '309', '31', '310', '311',\n",
       "       '312', '313', '314', '315', '316', '317', '318', '319', '32',\n",
       "       '320', '321', '322', '323', '324', '325', '326', '327', '328',\n",
       "       '329', '33', '330', '331', '332', '333', '334', '335', '336',\n",
       "       '337', '338', '339', '34', '340', '341', '342', '343', '344',\n",
       "       '345', '346', '347', '348', '349', '35', '350', '351', '352',\n",
       "       '353', '354', '355', '356', '357', '358', '359', '36', '360',\n",
       "       '361', '362', '363', '364', '365', '366', '367', '368', '369',\n",
       "       '37', '370', '371', '372', '373', '374', '375', '376', '377',\n",
       "       '378', '379', '38', '380', '381', '382', '383', '384', '385',\n",
       "       '386', '387', '388', '389', '39', '390', '391', '392', '393',\n",
       "       '394', '395', '396', '397', '398', '399', '4', '40', '400', '401',\n",
       "       '402', '403', '404', '405', '406', '407', '408', '409', '41',\n",
       "       '410', '411', '412', '413', '414', '415', '416', '417', '418',\n",
       "       '419', '42', '420', '421', '422', '423', '424', '425', '426',\n",
       "       '427', '428', '429', '43', '430', '431', '432', '433', '434',\n",
       "       '435', '436', '437', '438', '439', '44', '440', '441', '442',\n",
       "       '443', '444', '445', '446', '447', '448', '449', '45', '450',\n",
       "       '451', '452', '453', '454', '455', '456', '457', '458', '459',\n",
       "       '46', '460', '461', '462', '463', '464', '465', '466', '467',\n",
       "       '468', '469', '47', '470', '471', '472', '473', '474', '475',\n",
       "       '476', '477', '478', '479', '48', '480', '481', '482', '483',\n",
       "       '484', '485', '486', '487', '488', '489', '49', '490', '491',\n",
       "       '492', '493', '494', '495', '496', '497', '498', '499', '5', '50',\n",
       "       '500', '501', '502', '503', '504', '505', '506', '507', '508',\n",
       "       '509', '51', '510', '511', '512', '513', '514', '515', '516',\n",
       "       '517', '518', '519', '52', '520', '521', '522', '523', '524',\n",
       "       '525', '526', '527', '528', '529', '53', '530', '531', '532',\n",
       "       '533', '534', '535', '536', '537', '538', '539', '54', '540',\n",
       "       '541', '542', '543', '544', '545', '546', '547', '548', '549',\n",
       "       '55', '550', '551', '552', '553', '554', '555', '556', '557',\n",
       "       '558', '559', '56', '560', '561', '562', '563', '564', '565',\n",
       "       '566', '567', '568', '569', '57', '570', '571', '572', '573',\n",
       "       '574', '575', '576', '577', '578', '579', '58', '580', '581',\n",
       "       '582', '583', '584', '585', '586', '587', '588', '589', '59',\n",
       "       '590', '591', '592', '593', '594', '595', '596', '597', '598',\n",
       "       '599', '6', '60', '600', '601', '602', '603', '604', '605', '606',\n",
       "       '607', '608', '609', '61', '610', '611', '612', '613', '614',\n",
       "       '615', '616', '617', '618', '619', '62', '620', '621', '622',\n",
       "       '623', '624', '625', '626', '627', '628', '629', '63', '630',\n",
       "       '631', '632', '633', '634', '635', '636', '637', '638', '639',\n",
       "       '64', '640', '641', '642', '643', '644', '645', '646', '647',\n",
       "       '648', '649', '65', '650', '651', '652', '653', '654', '655',\n",
       "       '656', '657', '658', '659', '66', '660', '661', '662', '663',\n",
       "       '664', '665', '666', '667', '668', '669', '67', '670', '671',\n",
       "       '672', '673', '674', '675', '676', '677', '678', '679', '68',\n",
       "       '680', '681', '682', '683', '684', '685', '686', '687', '688',\n",
       "       '689', '69', '690', '691', '692', '693', '694', '695', '696',\n",
       "       '697', '698', '699', '7', '70', '700', '701', '702', '703', '704',\n",
       "       '705', '706', '707', '708', '709', '71', '710', '711', '712',\n",
       "       '713', '714', '715', '716', '717', '718', '719', '72', '720',\n",
       "       '721', '722', '723', '724', '725', '726', '727', '728', '729',\n",
       "       '73', '730', '731', '732', '733', '734', '735', '736', '737',\n",
       "       '738', '739', '74', '740', '741', '742', '743', '744', '745',\n",
       "       '746', '747', '748', '749', '75', '750', '751', '752', '753',\n",
       "       '754', '755', '756', '757', '758', '759', '76', '760', '761',\n",
       "       '762', '763', '764', '765', '766', '767', '768', '769', '77',\n",
       "       '770', '771', '772', '773', '774', '775', '776', '777', '778',\n",
       "       '779', '78', '780', '781', '782', '783', '784', '785', '786',\n",
       "       '787', '788', '789', '79', '790', '791', '792', '793', '794',\n",
       "       '795', '796', '797', '798', '799', '8', '80', '800', '801', '802',\n",
       "       '803', '804', '805', '806', '807', '808', '809', '81', '810',\n",
       "       '811', '812', '813', '814', '815', '816', '817', '818', '819',\n",
       "       '82', '820', '821', '822', '823', '824', '825', '826', '827',\n",
       "       '828', '829', '83', '830', '831', '832', '833', '834', '835',\n",
       "       '836', '837', '838', '839', '84', '840', '841', '842', '843',\n",
       "       '844', '845', '846', '847', '848', '849', '85', '850', '851',\n",
       "       '852', '853', '854', '855', '856', '857', '858', '859', '86',\n",
       "       '860', '861', '862', '863', '864', '865', '866', '867', '868',\n",
       "       '869', '87', '870', '871', '872', '873', '874', '875', '876',\n",
       "       '877', '878', '879', '88', '880', '881', '882', '883', '884',\n",
       "       '885', '886', '887', '888', '889', '89', '890', '891', '892',\n",
       "       '893', '894', '895', '896', '897', '898', '899', '9', '90', '900',\n",
       "       '901', '902', '903', '904', '905', '906', '907', '908', '909',\n",
       "       '91', '910', '911', '912', '913', '914', '915', '916', '917',\n",
       "       '918', '919', '92', '920', '921', '922', '923', '924', '925',\n",
       "       '926', '927', '928', '929', '93', '930', '931', '932', '933',\n",
       "       '934', '935', '936', '937', '938', '939', '94', '940', '941',\n",
       "       '942', '943', '95', '96', '97', '98', '99'], dtype=object)"
      ]
     },
     "execution_count": 65,
     "metadata": {},
     "output_type": "execute_result"
    }
   ],
   "source": [
    "np.array(test_users)"
   ]
  },
  {
   "cell_type": "code",
   "execution_count": 66,
   "metadata": {},
   "outputs": [
    {
     "data": {
      "text/plain": [
       "array(['1', '10', '100', ..., '997', '998', '999'],\n",
       "      shape=(1682,), dtype='<U4')"
      ]
     },
     "execution_count": 66,
     "metadata": {},
     "output_type": "execute_result"
    }
   ],
   "source": [
    "np.array(total_items)"
   ]
  },
  {
   "cell_type": "code",
   "execution_count": 67,
   "metadata": {},
   "outputs": [],
   "source": [
    "users_items = cartesian_product(np.array(test_users),np.array(total_items))"
   ]
  },
  {
   "cell_type": "code",
   "execution_count": 68,
   "metadata": {},
   "outputs": [
    {
     "data": {
      "text/plain": [
       "array([['1', '1'],\n",
       "       ['1', '10'],\n",
       "       ['1', '100'],\n",
       "       ...,\n",
       "       ['99', '997'],\n",
       "       ['99', '998'],\n",
       "       ['99', '999']], shape=(1586126, 2), dtype=object)"
      ]
     },
     "execution_count": 68,
     "metadata": {},
     "output_type": "execute_result"
    }
   ],
   "source": [
    "users_items"
   ]
  },
  {
   "cell_type": "code",
   "execution_count": 69,
   "metadata": {},
   "outputs": [],
   "source": [
    "users_items = pd.DataFrame(users_items, columns=[USER,ITEM])"
   ]
  },
  {
   "cell_type": "code",
   "execution_count": 70,
   "metadata": {},
   "outputs": [
    {
     "data": {
      "text/html": [
       "<div>\n",
       "<style scoped>\n",
       "    .dataframe tbody tr th:only-of-type {\n",
       "        vertical-align: middle;\n",
       "    }\n",
       "\n",
       "    .dataframe tbody tr th {\n",
       "        vertical-align: top;\n",
       "    }\n",
       "\n",
       "    .dataframe thead th {\n",
       "        text-align: right;\n",
       "    }\n",
       "</style>\n",
       "<table border=\"1\" class=\"dataframe\">\n",
       "  <thead>\n",
       "    <tr style=\"text-align: right;\">\n",
       "      <th></th>\n",
       "      <th>userID</th>\n",
       "      <th>itemID</th>\n",
       "    </tr>\n",
       "  </thead>\n",
       "  <tbody>\n",
       "    <tr>\n",
       "      <th>0</th>\n",
       "      <td>1</td>\n",
       "      <td>1</td>\n",
       "    </tr>\n",
       "    <tr>\n",
       "      <th>1</th>\n",
       "      <td>1</td>\n",
       "      <td>10</td>\n",
       "    </tr>\n",
       "    <tr>\n",
       "      <th>2</th>\n",
       "      <td>1</td>\n",
       "      <td>100</td>\n",
       "    </tr>\n",
       "    <tr>\n",
       "      <th>3</th>\n",
       "      <td>1</td>\n",
       "      <td>1000</td>\n",
       "    </tr>\n",
       "    <tr>\n",
       "      <th>4</th>\n",
       "      <td>1</td>\n",
       "      <td>1001</td>\n",
       "    </tr>\n",
       "    <tr>\n",
       "      <th>...</th>\n",
       "      <td>...</td>\n",
       "      <td>...</td>\n",
       "    </tr>\n",
       "    <tr>\n",
       "      <th>1586121</th>\n",
       "      <td>99</td>\n",
       "      <td>995</td>\n",
       "    </tr>\n",
       "    <tr>\n",
       "      <th>1586122</th>\n",
       "      <td>99</td>\n",
       "      <td>996</td>\n",
       "    </tr>\n",
       "    <tr>\n",
       "      <th>1586123</th>\n",
       "      <td>99</td>\n",
       "      <td>997</td>\n",
       "    </tr>\n",
       "    <tr>\n",
       "      <th>1586124</th>\n",
       "      <td>99</td>\n",
       "      <td>998</td>\n",
       "    </tr>\n",
       "    <tr>\n",
       "      <th>1586125</th>\n",
       "      <td>99</td>\n",
       "      <td>999</td>\n",
       "    </tr>\n",
       "  </tbody>\n",
       "</table>\n",
       "<p>1586126 rows × 2 columns</p>\n",
       "</div>"
      ],
      "text/plain": [
       "        userID itemID\n",
       "0            1      1\n",
       "1            1     10\n",
       "2            1    100\n",
       "3            1   1000\n",
       "4            1   1001\n",
       "...        ...    ...\n",
       "1586121     99    995\n",
       "1586122     99    996\n",
       "1586123     99    997\n",
       "1586124     99    998\n",
       "1586125     99    999\n",
       "\n",
       "[1586126 rows x 2 columns]"
      ]
     },
     "execution_count": 70,
     "metadata": {},
     "output_type": "execute_result"
    }
   ],
   "source": [
    "users_items"
   ]
  },
  {
   "cell_type": "code",
   "execution_count": 71,
   "metadata": {},
   "outputs": [],
   "source": [
    "training_removed = pd.merge(users_items, train_valid_df.astype(str), on=[USER, ITEM], how='left')\n",
    "training_removed = training_removed[training_removed[RATING].isna()][[USER, ITEM]]"
   ]
  },
  {
   "cell_type": "code",
   "execution_count": 72,
   "metadata": {},
   "outputs": [
    {
     "data": {
      "text/html": [
       "<div>\n",
       "<style scoped>\n",
       "    .dataframe tbody tr th:only-of-type {\n",
       "        vertical-align: middle;\n",
       "    }\n",
       "\n",
       "    .dataframe tbody tr th {\n",
       "        vertical-align: top;\n",
       "    }\n",
       "\n",
       "    .dataframe thead th {\n",
       "        text-align: right;\n",
       "    }\n",
       "</style>\n",
       "<table border=\"1\" class=\"dataframe\">\n",
       "  <thead>\n",
       "    <tr style=\"text-align: right;\">\n",
       "      <th></th>\n",
       "      <th>userID</th>\n",
       "      <th>itemID</th>\n",
       "    </tr>\n",
       "  </thead>\n",
       "  <tbody>\n",
       "    <tr>\n",
       "      <th>3</th>\n",
       "      <td>1</td>\n",
       "      <td>1000</td>\n",
       "    </tr>\n",
       "    <tr>\n",
       "      <th>4</th>\n",
       "      <td>1</td>\n",
       "      <td>1001</td>\n",
       "    </tr>\n",
       "    <tr>\n",
       "      <th>5</th>\n",
       "      <td>1</td>\n",
       "      <td>1002</td>\n",
       "    </tr>\n",
       "    <tr>\n",
       "      <th>6</th>\n",
       "      <td>1</td>\n",
       "      <td>1003</td>\n",
       "    </tr>\n",
       "    <tr>\n",
       "      <th>7</th>\n",
       "      <td>1</td>\n",
       "      <td>1004</td>\n",
       "    </tr>\n",
       "    <tr>\n",
       "      <th>...</th>\n",
       "      <td>...</td>\n",
       "      <td>...</td>\n",
       "    </tr>\n",
       "    <tr>\n",
       "      <th>1586121</th>\n",
       "      <td>99</td>\n",
       "      <td>995</td>\n",
       "    </tr>\n",
       "    <tr>\n",
       "      <th>1586122</th>\n",
       "      <td>99</td>\n",
       "      <td>996</td>\n",
       "    </tr>\n",
       "    <tr>\n",
       "      <th>1586123</th>\n",
       "      <td>99</td>\n",
       "      <td>997</td>\n",
       "    </tr>\n",
       "    <tr>\n",
       "      <th>1586124</th>\n",
       "      <td>99</td>\n",
       "      <td>998</td>\n",
       "    </tr>\n",
       "    <tr>\n",
       "      <th>1586125</th>\n",
       "      <td>99</td>\n",
       "      <td>999</td>\n",
       "    </tr>\n",
       "  </tbody>\n",
       "</table>\n",
       "<p>1511060 rows × 2 columns</p>\n",
       "</div>"
      ],
      "text/plain": [
       "        userID itemID\n",
       "3            1   1000\n",
       "4            1   1001\n",
       "5            1   1002\n",
       "6            1   1003\n",
       "7            1   1004\n",
       "...        ...    ...\n",
       "1586121     99    995\n",
       "1586122     99    996\n",
       "1586123     99    997\n",
       "1586124     99    998\n",
       "1586125     99    999\n",
       "\n",
       "[1511060 rows x 2 columns]"
      ]
     },
     "execution_count": 72,
     "metadata": {},
     "output_type": "execute_result"
    }
   ],
   "source": [
    "training_removed"
   ]
  },
  {
   "cell_type": "code",
   "execution_count": 73,
   "metadata": {},
   "outputs": [],
   "source": [
    "from recommenders.utils import constants as cc"
   ]
  },
  {
   "cell_type": "code",
   "execution_count": 74,
   "metadata": {},
   "outputs": [],
   "source": [
    "total_users, total_items = data.classes.values()"
   ]
  },
  {
   "cell_type": "code",
   "execution_count": 75,
   "metadata": {},
   "outputs": [
    {
     "data": {
      "text/plain": [
       "['#na#', '1', '10', '100', '101', '102', '103', '104', '105', '106', '107', '108', '109', '11', '110', '111', '112', '113', '114', '115', '116', '117', '118', '119', '12', '120', '121', '122', '123', '124', '125', '126', '127', '128', '129', '13', '130', '131', '132', '133', '134', '135', '136', '137', '138', '139', '14', '140', '141', '142', '143', '144', '145', '146', '147', '148', '149', '15', '150', '151', '152', '153', '154', '155', '156', '157', '158', '159', '16', '160', '161', '162', '163', '164', '165', '166', '167', '168', '169', '17', '170', '171', '172', '173', '174', '175', '176', '177', '178', '179', '18', '180', '181', '182', '183', '184', '185', '186', '187', '188', '189', '19', '190', '191', '192', '193', '194', '195', '196', '197', '198', '199', '2', '20', '200', '201', '202', '203', '204', '205', '206', '207', '208', '209', '21', '210', '211', '212', '213', '214', '215', '216', '217', '218', '219', '22', '220', '221', '222', '223', '224', '225', '226', '227', '228', '229', '23', '230', '231', '232', '233', '234', '235', '236', '237', '238', '239', '24', '240', '241', '242', '243', '244', '245', '246', '247', '248', '249', '25', '250', '251', '252', '253', '254', '255', '256', '257', '258', '259', '26', '260', '261', '262', '263', '264', '265', '266', '267', '268', '269', '27', '270', '271', '272', '273', '274', '275', '276', '277', '278', '279', '28', '280', '281', '282', '283', '284', '285', '286', '287', '288', '289', '29', '290', '291', '292', '293', '294', '295', '296', '297', '298', '299', '3', '30', '300', '301', '302', '303', '304', '305', '306', '307', '308', '309', '31', '310', '311', '312', '313', '314', '315', '316', '317', '318', '319', '32', '320', '321', '322', '323', '324', '325', '326', '327', '328', '329', '33', '330', '331', '332', '333', '334', '335', '336', '337', '338', '339', '34', '340', '341', '342', '343', '344', '345', '346', '347', '348', '349', '35', '350', '351', '352', '353', '354', '355', '356', '357', '358', '359', '36', '360', '361', '362', '363', '364', '365', '366', '367', '368', '369', '37', '370', '371', '372', '373', '374', '375', '376', '377', '378', '379', '38', '380', '381', '382', '383', '384', '385', '386', '387', '388', '389', '39', '390', '391', '392', '393', '394', '395', '396', '397', '398', '399', '4', '40', '400', '401', '402', '403', '404', '405', '406', '407', '408', '409', '41', '410', '411', '412', '413', '414', '415', '416', '417', '418', '419', '42', '420', '421', '422', '423', '424', '425', '426', '427', '428', '429', '43', '430', '431', '432', '433', '434', '435', '436', '437', '438', '439', '44', '440', '441', '442', '443', '444', '445', '446', '447', '448', '449', '45', '450', '451', '452', '453', '454', '455', '456', '457', '458', '459', '46', '460', '461', '462', '463', '464', '465', '466', '467', '468', '469', '47', '470', '471', '472', '473', '474', '475', '476', '477', '478', '479', '48', '480', '481', '482', '483', '484', '485', '486', '487', '488', '489', '49', '490', '491', '492', '493', '494', '495', '496', '497', '498', '499', '5', '50', '500', '501', '502', '503', '504', '505', '506', '507', '508', '509', '51', '510', '511', '512', '513', '514', '515', '516', '517', '518', '519', '52', '520', '521', '522', '523', '524', '525', '526', '527', '528', '529', '53', '530', '531', '532', '533', '534', '535', '536', '537', '538', '539', '54', '540', '541', '542', '543', '544', '545', '546', '547', '548', '549', '55', '550', '551', '552', '553', '554', '555', '556', '557', '558', '559', '56', '560', '561', '562', '563', '564', '565', '566', '567', '568', '569', '57', '570', '571', '572', '573', '574', '575', '576', '577', '578', '579', '58', '580', '581', '582', '583', '584', '585', '586', '587', '588', '589', '59', '590', '591', '592', '593', '594', '595', '596', '597', '598', '599', '6', '60', '600', '601', '602', '603', '604', '605', '606', '607', '608', '609', '61', '610', '611', '612', '613', '614', '615', '616', '617', '618', '619', '62', '620', '621', '622', '623', '624', '625', '626', '627', '628', '629', '63', '630', '631', '632', '633', '634', '635', '636', '637', '638', '639', '64', '640', '641', '642', '643', '644', '645', '646', '647', '648', '649', '65', '650', '651', '652', '653', '654', '655', '656', '657', '658', '659', '66', '660', '661', '662', '663', '664', '665', '666', '667', '668', '669', '67', '670', '671', '672', '673', '674', '675', '676', '677', '678', '679', '68', '680', '681', '682', '683', '684', '685', '686', '687', '688', '689', '69', '690', '691', '692', '693', '694', '695', '696', '697', '698', '699', '7', '70', '700', '701', '702', '703', '704', '705', '706', '707', '708', '709', '71', '710', '711', '712', '713', '714', '715', '716', '717', '718', '719', '72', '720', '721', '722', '723', '724', '725', '726', '727', '728', '729', '73', '730', '731', '732', '733', '734', '735', '736', '737', '738', '739', '74', '740', '741', '742', '743', '744', '745', '746', '747', '748', '749', '75', '750', '751', '752', '753', '754', '755', '756', '757', '758', '759', '76', '760', '761', '762', '763', '764', '765', '766', '767', '768', '769', '77', '770', '771', '772', '773', '774', '775', '776', '777', '778', '779', '78', '780', '781', '782', '783', '784', '785', '786', '787', '788', '789', '79', '790', '791', '792', '793', '794', '795', '796', '797', '798', '799', '8', '80', '800', '801', '802', '803', '804', '805', '806', '807', '808', '809', '81', '810', '811', '812', '813', '814', '815', '816', '817', '818', '819', '82', '820', '821', '822', '823', '824', '825', '826', '827', '828', '829', '83', '830', '831', '832', '833', '834', '835', '836', '837', '838', '839', '84', '840', '841', '842', '843', '844', '845', '846', '847', '848', '849', '85', '850', '851', '852', '853', '854', '855', '856', '857', '858', '859', '86', '860', '861', '862', '863', '864', '865', '866', '867', '868', '869', '87', '870', '871', '872', '873', '874', '875', '876', '877', '878', '879', '88', '880', '881', '882', '883', '884', '885', '886', '887', '888', '889', '89', '890', '891', '892', '893', '894', '895', '896', '897', '898', '899', '9', '90', '900', '901', '902', '903', '904', '905', '906', '907', '908', '909', '91', '910', '911', '912', '913', '914', '915', '916', '917', '918', '919', '92', '920', '921', '922', '923', '924', '925', '926', '927', '928', '929', '93', '930', '931', '932', '933', '934', '935', '936', '937', '938', '939', '94', '940', '941', '942', '943', '95', '96', '97', '98', '99']"
      ]
     },
     "execution_count": 75,
     "metadata": {},
     "output_type": "execute_result"
    }
   ],
   "source": [
    "total_users"
   ]
  },
  {
   "cell_type": "code",
   "execution_count": 76,
   "metadata": {},
   "outputs": [],
   "source": [
    "def score(\n",
    "    learner,\n",
    "    data,\n",
    "    test_df,\n",
    "    user_col=cc.DEFAULT_USER_COL,\n",
    "    item_col=cc.DEFAULT_ITEM_COL,\n",
    "    prediction_col=cc.DEFAULT_PREDICTION_COL,\n",
    "    top_k=None,\n",
    "):\n",
    "    \"\"\"Score all users+items provided and reduce to top_k items per user if top_k>0\n",
    "\n",
    "    Args:\n",
    "        learner (object): Model.\n",
    "        test_df (pandas.DataFrame): Test dataframe.\n",
    "        user_col (str): User column name.\n",
    "        item_col (str): Item column name.\n",
    "        prediction_col (str): Prediction column name.\n",
    "        top_k (int): Number of top items to recommend.\n",
    "\n",
    "    Returns:\n",
    "        pandas.DataFrame: Result of recommendation\n",
    "    \"\"\"\n",
    "    # replace values not known to the model with NaN\n",
    "    total_users, total_items = data.classes.values()\n",
    "    test_df.loc[~test_df[user_col].isin(total_users), user_col] = np.nan\n",
    "    test_df.loc[~test_df[item_col].isin(total_items), item_col] = np.nan\n",
    "\n",
    "    # map ids to embedding ids\n",
    "    u = learner._get_idx(test_df[user_col], is_item=False)\n",
    "    m = learner._get_idx(test_df[item_col], is_item=True)\n",
    "\n",
    "    # score the pytorch model\n",
    "    x = torch.column_stack((u, m))\n",
    "\n",
    "    if torch.cuda.is_available():\n",
    "        x = x.to(\"cuda\")\n",
    "        learner = learner.to(\"cuda\")\n",
    "\n",
    "    pred = learner.forward(x).detach().cpu().numpy()\n",
    "    scores = pd.DataFrame(\n",
    "        {user_col: test_df[user_col], item_col: test_df[item_col], prediction_col: pred}\n",
    "    )\n",
    "    scores = scores.sort_values([user_col, prediction_col], ascending=[True, False])\n",
    "\n",
    "    if top_k is not None:\n",
    "        top_scores = scores.groupby(user_col).head(top_k).reset_index(drop=True)\n",
    "    else:\n",
    "        top_scores = scores\n",
    "\n",
    "    return top_scores"
   ]
  },
  {
   "cell_type": "code",
   "execution_count": 77,
   "metadata": {},
   "outputs": [],
   "source": [
    "with Timer() as test_time:\n",
    "    top_k_scores = score(model, \n",
    "                         data, # Agregado pero podria quitarlo \n",
    "                         test_df=training_removed,\n",
    "                         user_col=USER, \n",
    "                         item_col=ITEM, \n",
    "                         prediction_col=PREDICTION)"
   ]
  },
  {
   "cell_type": "code",
   "execution_count": 78,
   "metadata": {},
   "outputs": [
    {
     "data": {
      "text/html": [
       "<div>\n",
       "<style scoped>\n",
       "    .dataframe tbody tr th:only-of-type {\n",
       "        vertical-align: middle;\n",
       "    }\n",
       "\n",
       "    .dataframe tbody tr th {\n",
       "        vertical-align: top;\n",
       "    }\n",
       "\n",
       "    .dataframe thead th {\n",
       "        text-align: right;\n",
       "    }\n",
       "</style>\n",
       "<table border=\"1\" class=\"dataframe\">\n",
       "  <thead>\n",
       "    <tr style=\"text-align: right;\">\n",
       "      <th></th>\n",
       "      <th>userID</th>\n",
       "      <th>itemID</th>\n",
       "      <th>prediction</th>\n",
       "    </tr>\n",
       "  </thead>\n",
       "  <tbody>\n",
       "    <tr>\n",
       "      <th>1026</th>\n",
       "      <td>1</td>\n",
       "      <td>408</td>\n",
       "      <td>5.119030</td>\n",
       "    </tr>\n",
       "    <tr>\n",
       "      <th>760</th>\n",
       "      <td>1</td>\n",
       "      <td>169</td>\n",
       "      <td>5.117696</td>\n",
       "    </tr>\n",
       "    <tr>\n",
       "      <th>1109</th>\n",
       "      <td>1</td>\n",
       "      <td>483</td>\n",
       "      <td>5.072352</td>\n",
       "    </tr>\n",
       "    <tr>\n",
       "      <th>500</th>\n",
       "      <td>1</td>\n",
       "      <td>1449</td>\n",
       "      <td>4.981776</td>\n",
       "    </tr>\n",
       "    <tr>\n",
       "      <th>1596</th>\n",
       "      <td>1</td>\n",
       "      <td>921</td>\n",
       "      <td>4.971748</td>\n",
       "    </tr>\n",
       "    <tr>\n",
       "      <th>...</th>\n",
       "      <td>...</td>\n",
       "      <td>...</td>\n",
       "      <td>...</td>\n",
       "    </tr>\n",
       "    <tr>\n",
       "      <th>1585858</th>\n",
       "      <td>99</td>\n",
       "      <td>758</td>\n",
       "      <td>1.940612</td>\n",
       "    </tr>\n",
       "    <tr>\n",
       "      <th>1586100</th>\n",
       "      <td>99</td>\n",
       "      <td>976</td>\n",
       "      <td>1.886269</td>\n",
       "    </tr>\n",
       "    <tr>\n",
       "      <th>1585524</th>\n",
       "      <td>99</td>\n",
       "      <td>457</td>\n",
       "      <td>1.866316</td>\n",
       "    </tr>\n",
       "    <tr>\n",
       "      <th>1585408</th>\n",
       "      <td>99</td>\n",
       "      <td>352</td>\n",
       "      <td>1.776408</td>\n",
       "    </tr>\n",
       "    <tr>\n",
       "      <th>1585488</th>\n",
       "      <td>99</td>\n",
       "      <td>424</td>\n",
       "      <td>1.747954</td>\n",
       "    </tr>\n",
       "  </tbody>\n",
       "</table>\n",
       "<p>1511060 rows × 3 columns</p>\n",
       "</div>"
      ],
      "text/plain": [
       "        userID itemID  prediction\n",
       "1026         1    408    5.119030\n",
       "760          1    169    5.117696\n",
       "1109         1    483    5.072352\n",
       "500          1   1449    4.981776\n",
       "1596         1    921    4.971748\n",
       "...        ...    ...         ...\n",
       "1585858     99    758    1.940612\n",
       "1586100     99    976    1.886269\n",
       "1585524     99    457    1.866316\n",
       "1585408     99    352    1.776408\n",
       "1585488     99    424    1.747954\n",
       "\n",
       "[1511060 rows x 3 columns]"
      ]
     },
     "execution_count": 78,
     "metadata": {},
     "output_type": "execute_result"
    }
   ],
   "source": [
    "top_k_scores"
   ]
  },
  {
   "cell_type": "code",
   "execution_count": 79,
   "metadata": {},
   "outputs": [],
   "source": [
    "eval_map = map(test_df, top_k_scores, col_user=USER, col_item=ITEM, \n",
    "               col_rating=RATING, col_prediction=PREDICTION, \n",
    "               relevancy_method=\"top_k\", k=TOP_K)"
   ]
  },
  {
   "cell_type": "code",
   "execution_count": 80,
   "metadata": {},
   "outputs": [],
   "source": [
    "eval_ndcg = ndcg_at_k(test_df, top_k_scores, col_user=USER, col_item=ITEM, \n",
    "                      col_rating=RATING, col_prediction=PREDICTION, \n",
    "                      relevancy_method=\"top_k\", k=TOP_K)"
   ]
  },
  {
   "cell_type": "code",
   "execution_count": 81,
   "metadata": {},
   "outputs": [],
   "source": [
    "eval_precision = precision_at_k(test_df, top_k_scores, col_user=USER, col_item=ITEM, \n",
    "                                col_rating=RATING, col_prediction=PREDICTION, \n",
    "                                relevancy_method=\"top_k\", k=TOP_K)"
   ]
  },
  {
   "cell_type": "code",
   "execution_count": 82,
   "metadata": {},
   "outputs": [],
   "source": [
    "eval_recall = recall_at_k(test_df, top_k_scores, col_user=USER, col_item=ITEM, \n",
    "                          col_rating=RATING, col_prediction=PREDICTION, \n",
    "                          relevancy_method=\"top_k\", k=TOP_K)"
   ]
  },
  {
   "cell_type": "code",
   "execution_count": 83,
   "metadata": {},
   "outputs": [
    {
     "name": "stdout",
     "output_type": "stream",
     "text": [
      "Model:\t\tEmbeddingDotBias\n",
      "Top K:\t\t10\n",
      "MAP:\t\t0.018972\n",
      "NDCG:\t\t0.122750\n",
      "Precision@K:\t0.111983\n",
      "Recall@K:\t0.044390\n"
     ]
    }
   ],
   "source": [
    "print(\"Model:\\t\\t\" + model.__class__.__name__,\n",
    "      \"Top K:\\t\\t%d\" % TOP_K,\n",
    "      \"MAP:\\t\\t%f\" % eval_map,\n",
    "      \"NDCG:\\t\\t%f\" % eval_ndcg,\n",
    "      \"Precision@K:\\t%f\" % eval_precision,\n",
    "      \"Recall@K:\\t%f\" % eval_recall, sep='\\n')"
   ]
  },
  {
   "cell_type": "code",
   "execution_count": 101,
   "metadata": {},
   "outputs": [],
   "source": [
    "#### Delete from Here "
   ]
  }
 ],
 "metadata": {
  "language_info": {
   "name": "python"
  }
 },
 "nbformat": 4,
 "nbformat_minor": 2
}
